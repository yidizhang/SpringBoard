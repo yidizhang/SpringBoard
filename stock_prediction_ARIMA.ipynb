{
 "cells": [
  {
   "cell_type": "code",
   "execution_count": 1,
   "metadata": {},
   "outputs": [],
   "source": [
    "import pandas as pd\n",
    "import numpy as np\n",
    "import matplotlib.pyplot as plt\n",
    "from pandas.plotting import lag_plot\n",
    "import time\n",
    "from statsmodels.tsa.stattools import adfuller\n",
    "from statsmodels.graphics.tsaplots import plot_acf, plot_pacf\n",
    "from pmdarima.arima.utils import ndiffs\n",
    "from statsmodels.tsa.arima.model import ARIMA\n",
    "from statsmodels.tsa.statespace.sarimax import SARIMAX\n",
    "from pmdarima.arima import auto_arima\n",
    "from sklearn.metrics import mean_squared_error\n",
    "\n"
   ]
  },
  {
   "cell_type": "code",
   "execution_count": 2,
   "metadata": {},
   "outputs": [],
   "source": [
    "df = pd.read_csv('oxy.csv')\n",
    "df_crude = pd.read_csv('CL=F.csv')"
   ]
  },
  {
   "cell_type": "code",
   "execution_count": 3,
   "metadata": {},
   "outputs": [
    {
     "data": {
      "text/plain": [
       "(         Date       Open       High        Low      Close  Adj Close  Volume\n",
       " 0  12/31/1981  11.347040  11.496737  11.197343  11.496737   1.751757  431705\n",
       " 1    1/4/1982  11.496737  11.556616  11.376979  11.496737   1.751757  329624\n",
       " 2    1/5/1982  11.376979  11.436858  11.317101  11.317101   1.724385  383274\n",
       " 3    1/6/1982  11.317101  11.376979  11.257222  11.376979   1.733509  281819\n",
       " 4    1/7/1982  11.317101  11.376979  11.257222  11.376979   1.733509  168674,\n",
       "         Date       Open       High        Low      Close  Adj Close   Volume\n",
       " 0  8/23/2000  31.950001  32.799999  31.950001  32.049999  32.049999  79385.0\n",
       " 1  8/24/2000  31.900000  32.240002  31.400000  31.629999  31.629999  72978.0\n",
       " 2  8/25/2000  31.700001  32.099998  31.320000  32.049999  32.049999  44601.0\n",
       " 3  8/27/2000        NaN        NaN        NaN        NaN        NaN      NaN\n",
       " 4  8/28/2000  32.040001  32.919998  31.860001  32.869999  32.869999  46770.0)"
      ]
     },
     "execution_count": 3,
     "metadata": {},
     "output_type": "execute_result"
    }
   ],
   "source": [
    "df.head(),df_crude.head()"
   ]
  },
  {
   "cell_type": "code",
   "execution_count": 4,
   "metadata": {},
   "outputs": [
    {
     "data": {
      "text/plain": [
       "(           Date       Open       High        Low      Close  Adj Close  \\\n",
       " 9870  2/24/2021  26.500000  28.680000  25.959999  28.160000  28.160000   \n",
       " 9871  2/25/2021  28.170000  28.540001  26.450001  26.750000  26.750000   \n",
       " 9872  2/26/2021  26.260000  27.010000  25.209999  26.610001  26.610001   \n",
       " 9873   3/1/2021  27.370001  28.280001  27.010000  27.639999  27.639999   \n",
       " 9874   3/2/2021  27.590000  28.510000  27.320000  27.820000  27.820000   \n",
       " \n",
       "         Volume  \n",
       " 9870  27789000  \n",
       " 9871  21142500  \n",
       " 9872  21615400  \n",
       " 9873  15865000  \n",
       " 9874  16531500  ,\n",
       "            Date       Open       High        Low      Close  Adj Close  \\\n",
       " 6293  2/25/2021  63.389999  63.810001  62.650002  63.529999  63.529999   \n",
       " 6294  2/26/2021  63.459999  63.570000  61.340000  61.500000  61.500000   \n",
       " 6295  2/28/2021        NaN        NaN        NaN        NaN        NaN   \n",
       " 6296   3/1/2021  61.950001  62.919998  59.959999  60.639999  60.639999   \n",
       " 6297   3/2/2021  60.230000  61.209999  59.380001  59.750000  59.750000   \n",
       " \n",
       "         Volume  \n",
       " 6293  510357.0  \n",
       " 6294  472723.0  \n",
       " 6295       NaN  \n",
       " 6296  456679.0  \n",
       " 6297  464133.0  )"
      ]
     },
     "execution_count": 4,
     "metadata": {},
     "output_type": "execute_result"
    }
   ],
   "source": [
    "df.tail(),df_crude.tail()"
   ]
  },
  {
   "cell_type": "code",
   "execution_count": 5,
   "metadata": {},
   "outputs": [
    {
     "data": {
      "text/plain": [
       "((9875, 7), (6298, 7))"
      ]
     },
     "execution_count": 5,
     "metadata": {},
     "output_type": "execute_result"
    }
   ],
   "source": [
    "df.shape,df_crude.shape"
   ]
  },
  {
   "cell_type": "code",
   "execution_count": 6,
   "metadata": {},
   "outputs": [
    {
     "data": {
      "text/html": [
       "<div>\n",
       "<style scoped>\n",
       "    .dataframe tbody tr th:only-of-type {\n",
       "        vertical-align: middle;\n",
       "    }\n",
       "\n",
       "    .dataframe tbody tr th {\n",
       "        vertical-align: top;\n",
       "    }\n",
       "\n",
       "    .dataframe thead th {\n",
       "        text-align: right;\n",
       "    }\n",
       "</style>\n",
       "<table border=\"1\" class=\"dataframe\">\n",
       "  <thead>\n",
       "    <tr style=\"text-align: right;\">\n",
       "      <th></th>\n",
       "      <th>Date</th>\n",
       "      <th>Open</th>\n",
       "      <th>High</th>\n",
       "      <th>Low</th>\n",
       "      <th>Close</th>\n",
       "      <th>Adj Close</th>\n",
       "      <th>Volume</th>\n",
       "    </tr>\n",
       "  </thead>\n",
       "  <tbody>\n",
       "    <tr>\n",
       "      <th>0</th>\n",
       "      <td>8/23/2000</td>\n",
       "      <td>31.950001</td>\n",
       "      <td>32.799999</td>\n",
       "      <td>31.950001</td>\n",
       "      <td>32.049999</td>\n",
       "      <td>32.049999</td>\n",
       "      <td>79385.0</td>\n",
       "    </tr>\n",
       "    <tr>\n",
       "      <th>1</th>\n",
       "      <td>8/24/2000</td>\n",
       "      <td>31.900000</td>\n",
       "      <td>32.240002</td>\n",
       "      <td>31.400000</td>\n",
       "      <td>31.629999</td>\n",
       "      <td>31.629999</td>\n",
       "      <td>72978.0</td>\n",
       "    </tr>\n",
       "    <tr>\n",
       "      <th>2</th>\n",
       "      <td>8/25/2000</td>\n",
       "      <td>31.700001</td>\n",
       "      <td>32.099998</td>\n",
       "      <td>31.320000</td>\n",
       "      <td>32.049999</td>\n",
       "      <td>32.049999</td>\n",
       "      <td>44601.0</td>\n",
       "    </tr>\n",
       "    <tr>\n",
       "      <th>4</th>\n",
       "      <td>8/28/2000</td>\n",
       "      <td>32.040001</td>\n",
       "      <td>32.919998</td>\n",
       "      <td>31.860001</td>\n",
       "      <td>32.869999</td>\n",
       "      <td>32.869999</td>\n",
       "      <td>46770.0</td>\n",
       "    </tr>\n",
       "    <tr>\n",
       "      <th>5</th>\n",
       "      <td>8/29/2000</td>\n",
       "      <td>32.820000</td>\n",
       "      <td>33.029999</td>\n",
       "      <td>32.560001</td>\n",
       "      <td>32.720001</td>\n",
       "      <td>32.720001</td>\n",
       "      <td>49131.0</td>\n",
       "    </tr>\n",
       "  </tbody>\n",
       "</table>\n",
       "</div>"
      ],
      "text/plain": [
       "        Date       Open       High        Low      Close  Adj Close   Volume\n",
       "0  8/23/2000  31.950001  32.799999  31.950001  32.049999  32.049999  79385.0\n",
       "1  8/24/2000  31.900000  32.240002  31.400000  31.629999  31.629999  72978.0\n",
       "2  8/25/2000  31.700001  32.099998  31.320000  32.049999  32.049999  44601.0\n",
       "4  8/28/2000  32.040001  32.919998  31.860001  32.869999  32.869999  46770.0\n",
       "5  8/29/2000  32.820000  33.029999  32.560001  32.720001  32.720001  49131.0"
      ]
     },
     "execution_count": 6,
     "metadata": {},
     "output_type": "execute_result"
    }
   ],
   "source": [
    "df_crude = df_crude.dropna()  #remove all nulls \n",
    "df_crude.head()"
   ]
  },
  {
   "cell_type": "code",
   "execution_count": 7,
   "metadata": {},
   "outputs": [
    {
     "data": {
      "text/plain": [
       "(5117, 13)"
      ]
     },
     "execution_count": 7,
     "metadata": {},
     "output_type": "execute_result"
    }
   ],
   "source": [
    "merge=pd.merge(df,df_crude, how='inner', on='Date')#merge two dataframe by same dates\n",
    "merge.shape"
   ]
  },
  {
   "cell_type": "code",
   "execution_count": 8,
   "metadata": {},
   "outputs": [
    {
     "data": {
      "text/plain": [
       "Date            object\n",
       "Open_x         float64\n",
       "High_x         float64\n",
       "Low_x          float64\n",
       "Close_x        float64\n",
       "Adj Close_x    float64\n",
       "Volume_x         int64\n",
       "Open_y         float64\n",
       "High_y         float64\n",
       "Low_y          float64\n",
       "Close_y        float64\n",
       "Adj Close_y    float64\n",
       "Volume_y       float64\n",
       "dtype: object"
      ]
     },
     "execution_count": 8,
     "metadata": {},
     "output_type": "execute_result"
    }
   ],
   "source": [
    "merge.dtypes"
   ]
  },
  {
   "cell_type": "code",
   "execution_count": 9,
   "metadata": {},
   "outputs": [
    {
     "data": {
      "text/plain": [
       "Date           0\n",
       "Open_x         0\n",
       "High_x         0\n",
       "Low_x          0\n",
       "Close_x        0\n",
       "Adj Close_x    0\n",
       "Volume_x       0\n",
       "Open_y         0\n",
       "High_y         0\n",
       "Low_y          0\n",
       "Close_y        0\n",
       "Adj Close_y    0\n",
       "Volume_y       0\n",
       "dtype: int64"
      ]
     },
     "execution_count": 9,
     "metadata": {},
     "output_type": "execute_result"
    }
   ],
   "source": [
    "merge.isnull().sum()  #no null values in dataframe"
   ]
  },
  {
   "cell_type": "code",
   "execution_count": 10,
   "metadata": {},
   "outputs": [
    {
     "name": "stdout",
     "output_type": "stream",
     "text": [
      "<class 'pandas.core.frame.DataFrame'>\n",
      "Int64Index: 5117 entries, 0 to 5116\n",
      "Data columns (total 13 columns):\n",
      " #   Column       Non-Null Count  Dtype  \n",
      "---  ------       --------------  -----  \n",
      " 0   Date         5117 non-null   object \n",
      " 1   Open_x       5117 non-null   float64\n",
      " 2   High_x       5117 non-null   float64\n",
      " 3   Low_x        5117 non-null   float64\n",
      " 4   Close_x      5117 non-null   float64\n",
      " 5   Adj Close_x  5117 non-null   float64\n",
      " 6   Volume_x     5117 non-null   int64  \n",
      " 7   Open_y       5117 non-null   float64\n",
      " 8   High_y       5117 non-null   float64\n",
      " 9   Low_y        5117 non-null   float64\n",
      " 10  Close_y      5117 non-null   float64\n",
      " 11  Adj Close_y  5117 non-null   float64\n",
      " 12  Volume_y     5117 non-null   float64\n",
      "dtypes: float64(11), int64(1), object(1)\n",
      "memory usage: 559.7+ KB\n"
     ]
    }
   ],
   "source": [
    "merge.info() #confirm with no nulls"
   ]
  },
  {
   "cell_type": "code",
   "execution_count": 11,
   "metadata": {},
   "outputs": [],
   "source": [
    "df = merge[['Date','Open_x','High_x','Low_x','Close_x','Adj Close_x','Volume_x','Open_y']]\n",
    "df = df.rename({'Date':'date','Open_x': 'open', 'High_x': 'high','Low_x':'low','Close_x':'close',\\\n",
    "                 'Adj Close_x':'adj_close','Volume_x':'volume','Open_y':'crude_price'}, axis=1)\n"
   ]
  },
  {
   "cell_type": "code",
   "execution_count": 12,
   "metadata": {},
   "outputs": [
    {
     "data": {
      "text/html": [
       "<div>\n",
       "<style scoped>\n",
       "    .dataframe tbody tr th:only-of-type {\n",
       "        vertical-align: middle;\n",
       "    }\n",
       "\n",
       "    .dataframe tbody tr th {\n",
       "        vertical-align: top;\n",
       "    }\n",
       "\n",
       "    .dataframe thead th {\n",
       "        text-align: right;\n",
       "    }\n",
       "</style>\n",
       "<table border=\"1\" class=\"dataframe\">\n",
       "  <thead>\n",
       "    <tr style=\"text-align: right;\">\n",
       "      <th></th>\n",
       "      <th>date</th>\n",
       "      <th>open</th>\n",
       "      <th>high</th>\n",
       "      <th>low</th>\n",
       "      <th>close</th>\n",
       "      <th>adj_close</th>\n",
       "      <th>volume</th>\n",
       "      <th>crude_price</th>\n",
       "    </tr>\n",
       "  </thead>\n",
       "  <tbody>\n",
       "    <tr>\n",
       "      <th>0</th>\n",
       "      <td>8/23/2000</td>\n",
       "      <td>10.299160</td>\n",
       "      <td>10.628494</td>\n",
       "      <td>10.299160</td>\n",
       "      <td>10.553645</td>\n",
       "      <td>5.639605</td>\n",
       "      <td>4012060</td>\n",
       "      <td>31.950001</td>\n",
       "    </tr>\n",
       "    <tr>\n",
       "      <th>1</th>\n",
       "      <td>8/24/2000</td>\n",
       "      <td>10.359039</td>\n",
       "      <td>10.388979</td>\n",
       "      <td>10.119524</td>\n",
       "      <td>10.179403</td>\n",
       "      <td>5.439622</td>\n",
       "      <td>1910942</td>\n",
       "      <td>31.900000</td>\n",
       "    </tr>\n",
       "    <tr>\n",
       "      <th>2</th>\n",
       "      <td>8/25/2000</td>\n",
       "      <td>10.209342</td>\n",
       "      <td>10.359039</td>\n",
       "      <td>9.969827</td>\n",
       "      <td>10.269221</td>\n",
       "      <td>5.487617</td>\n",
       "      <td>1096589</td>\n",
       "      <td>31.700001</td>\n",
       "    </tr>\n",
       "    <tr>\n",
       "      <th>3</th>\n",
       "      <td>8/28/2000</td>\n",
       "      <td>10.269221</td>\n",
       "      <td>10.448857</td>\n",
       "      <td>10.149463</td>\n",
       "      <td>10.269221</td>\n",
       "      <td>5.487617</td>\n",
       "      <td>1806774</td>\n",
       "      <td>32.040001</td>\n",
       "    </tr>\n",
       "    <tr>\n",
       "      <th>4</th>\n",
       "      <td>8/29/2000</td>\n",
       "      <td>10.239281</td>\n",
       "      <td>10.299160</td>\n",
       "      <td>10.179403</td>\n",
       "      <td>10.246766</td>\n",
       "      <td>5.475616</td>\n",
       "      <td>1148569</td>\n",
       "      <td>32.820000</td>\n",
       "    </tr>\n",
       "  </tbody>\n",
       "</table>\n",
       "</div>"
      ],
      "text/plain": [
       "        date       open       high        low      close  adj_close   volume  \\\n",
       "0  8/23/2000  10.299160  10.628494  10.299160  10.553645   5.639605  4012060   \n",
       "1  8/24/2000  10.359039  10.388979  10.119524  10.179403   5.439622  1910942   \n",
       "2  8/25/2000  10.209342  10.359039   9.969827  10.269221   5.487617  1096589   \n",
       "3  8/28/2000  10.269221  10.448857  10.149463  10.269221   5.487617  1806774   \n",
       "4  8/29/2000  10.239281  10.299160  10.179403  10.246766   5.475616  1148569   \n",
       "\n",
       "   crude_price  \n",
       "0    31.950001  \n",
       "1    31.900000  \n",
       "2    31.700001  \n",
       "3    32.040001  \n",
       "4    32.820000  "
      ]
     },
     "execution_count": 12,
     "metadata": {},
     "output_type": "execute_result"
    }
   ],
   "source": [
    "df.head()"
   ]
  },
  {
   "cell_type": "code",
   "execution_count": 13,
   "metadata": {},
   "outputs": [],
   "source": [
    "df = df[['date','close','crude_price']].copy()"
   ]
  },
  {
   "cell_type": "code",
   "execution_count": 14,
   "metadata": {},
   "outputs": [
    {
     "data": {
      "text/plain": [
       "(        date      close  crude_price\n",
       " 0  8/23/2000  10.553645    31.950001\n",
       " 1  8/24/2000  10.179403    31.900000\n",
       " 2  8/25/2000  10.269221    31.700001\n",
       " 3  8/28/2000  10.269221    32.040001\n",
       " 4  8/29/2000  10.246766    32.820000,            date      close  crude_price\n",
       " 5112  2/24/2021  28.160000    61.290001\n",
       " 5113  2/25/2021  26.750000    63.389999\n",
       " 5114  2/26/2021  26.610001    63.459999\n",
       " 5115   3/1/2021  27.639999    61.950001\n",
       " 5116   3/2/2021  27.820000    60.230000)"
      ]
     },
     "execution_count": 14,
     "metadata": {},
     "output_type": "execute_result"
    }
   ],
   "source": [
    "df.head(), df.tail()"
   ]
  },
  {
   "cell_type": "code",
   "execution_count": 15,
   "metadata": {},
   "outputs": [
    {
     "data": {
      "text/html": [
       "<div>\n",
       "<style scoped>\n",
       "    .dataframe tbody tr th:only-of-type {\n",
       "        vertical-align: middle;\n",
       "    }\n",
       "\n",
       "    .dataframe tbody tr th {\n",
       "        vertical-align: top;\n",
       "    }\n",
       "\n",
       "    .dataframe thead th {\n",
       "        text-align: right;\n",
       "    }\n",
       "</style>\n",
       "<table border=\"1\" class=\"dataframe\">\n",
       "  <thead>\n",
       "    <tr style=\"text-align: right;\">\n",
       "      <th></th>\n",
       "      <th>close</th>\n",
       "      <th>crude_price</th>\n",
       "    </tr>\n",
       "  </thead>\n",
       "  <tbody>\n",
       "    <tr>\n",
       "      <th>count</th>\n",
       "      <td>5117.000000</td>\n",
       "      <td>5117.000000</td>\n",
       "    </tr>\n",
       "    <tr>\n",
       "      <th>mean</th>\n",
       "      <td>55.167199</td>\n",
       "      <td>61.745079</td>\n",
       "    </tr>\n",
       "    <tr>\n",
       "      <th>std</th>\n",
       "      <td>27.916449</td>\n",
       "      <td>25.811546</td>\n",
       "    </tr>\n",
       "    <tr>\n",
       "      <th>min</th>\n",
       "      <td>8.880000</td>\n",
       "      <td>-14.000000</td>\n",
       "    </tr>\n",
       "    <tr>\n",
       "      <th>25%</th>\n",
       "      <td>26.792189</td>\n",
       "      <td>41.630001</td>\n",
       "    </tr>\n",
       "    <tr>\n",
       "      <th>50%</th>\n",
       "      <td>62.880001</td>\n",
       "      <td>58.320000</td>\n",
       "    </tr>\n",
       "    <tr>\n",
       "      <th>75%</th>\n",
       "      <td>77.720001</td>\n",
       "      <td>81.720001</td>\n",
       "    </tr>\n",
       "    <tr>\n",
       "      <th>max</th>\n",
       "      <td>110.886032</td>\n",
       "      <td>145.190002</td>\n",
       "    </tr>\n",
       "  </tbody>\n",
       "</table>\n",
       "</div>"
      ],
      "text/plain": [
       "             close  crude_price\n",
       "count  5117.000000  5117.000000\n",
       "mean     55.167199    61.745079\n",
       "std      27.916449    25.811546\n",
       "min       8.880000   -14.000000\n",
       "25%      26.792189    41.630001\n",
       "50%      62.880001    58.320000\n",
       "75%      77.720001    81.720001\n",
       "max     110.886032   145.190002"
      ]
     },
     "execution_count": 15,
     "metadata": {},
     "output_type": "execute_result"
    }
   ],
   "source": [
    "df.describe()"
   ]
  },
  {
   "cell_type": "code",
   "execution_count": 16,
   "metadata": {},
   "outputs": [
    {
     "data": {
      "text/plain": [
       "Text(0.5, 1.0, 'oxy Autocorrelation plot')"
      ]
     },
     "execution_count": 16,
     "metadata": {},
     "output_type": "execute_result"
    },
    {
     "data": {
      "image/png": "[encoded data removed]",
      "text/plain": [
       "<Figure size 720x720 with 1 Axes>"
      ]
     },
     "metadata": {
      "needs_background": "light"
     },
     "output_type": "display_data"
    }
   ],
   "source": [
    "#strong autocorrelation with lag one-a good fit for arima model\n",
    "plt.figure(figsize=(10,10))\n",
    "lag_plot(df.close, lag=1)\n",
    "plt.title('oxy Autocorrelation plot')"
   ]
  },
  {
   "cell_type": "code",
   "execution_count": 17,
   "metadata": {},
   "outputs": [
    {
     "data": {
      "text/plain": [
       "<matplotlib.collections.PathCollection at 0x28dd33a1288>"
      ]
     },
     "execution_count": 17,
     "metadata": {},
     "output_type": "execute_result"
    },
    {
     "data": {
      "image/png": "[encoded data removed]",
      "text/plain": [
       "<Figure size 432x288 with 1 Axes>"
      ]
     },
     "metadata": {
      "needs_background": "light"
     },
     "output_type": "display_data"
    }
   ],
   "source": [
    "plt.scatter(df.crude_price, df.close) #display some positive correlation "
   ]
  },
  {
   "cell_type": "code",
   "execution_count": 18,
   "metadata": {},
   "outputs": [
    {
     "name": "stdout",
     "output_type": "stream",
     "text": [
      "ADF statistic-1.7652586005358097\n",
      "p-value0.3978410711381649\n"
     ]
    }
   ],
   "source": [
    "#stationary test using ADF test, p<0.05 shows NOT stationary\n",
    "#which means the stock price depends on time. \n",
    "#we will need to find the order of differencing\n",
    "\n",
    "result = adfuller(df.close.dropna())\n",
    "print(\"ADF statistic\"+str(result[0]))\n",
    "print(\"p-value\"+str(result[1]))"
   ]
  },
  {
   "cell_type": "code",
   "execution_count": 19,
   "metadata": {},
   "outputs": [
    {
     "data": {
      "image/png": "[encoded data removed]",
      "text/plain": [
       "<Figure size 1152x288 with 2 Axes>"
      ]
     },
     "metadata": {
      "needs_background": "light"
     },
     "output_type": "display_data"
    }
   ],
   "source": [
    "#ACF plot\n",
    "fig, (ax1,ax2) = plt.subplots(1,2,figsize=(16,4))\n",
    "\n",
    "ax1.plot(df.close)\n",
    "ax1.set_title('original')\n",
    "plot_acf(df.close,ax2);\n"
   ]
  },
  {
   "cell_type": "code",
   "execution_count": 20,
   "metadata": {},
   "outputs": [
    {
     "data": {
      "image/png": "[encoded data removed]",
      "text/plain": [
       "<Figure size 1152x288 with 2 Axes>"
      ]
     },
     "metadata": {
      "needs_background": "light"
     },
     "output_type": "display_data"
    }
   ],
   "source": [
    "#differencing once\n",
    "diff = df.close.diff().dropna()\n",
    "fig, (ax1,ax2) = plt.subplots(1,2,figsize=(16,4))\n",
    "\n",
    "ax1.plot(diff)\n",
    "ax1.set_title('original')\n",
    "plot_acf(diff,ax2);\n"
   ]
  },
  {
   "cell_type": "code",
   "execution_count": 21,
   "metadata": {},
   "outputs": [
    {
     "name": "stdout",
     "output_type": "stream",
     "text": [
      "ADF statistic-52.624185322959505\n",
      "p-value0.0\n"
     ]
    }
   ],
   "source": [
    "#now check stationality using Adfuller test\n",
    "result = adfuller(diff)\n",
    "print(\"ADF statistic\"+str(result[0]))\n",
    "print(\"p-value\"+str(result[1]))"
   ]
  },
  {
   "cell_type": "code",
   "execution_count": 46,
   "metadata": {},
   "outputs": [
    {
     "name": "stdout",
     "output_type": "stream",
     "text": [
      "ADF statistic-12.433624053251322\n",
      "p-value3.890712174542137e-23\n"
     ]
    }
   ],
   "source": [
    "#use log-return to check stationality using Adufuller test\n",
    "df_log = np.log(df.close/df.close.shift(1)).dropna()\n",
    "result = adfuller(df_log)\n",
    "print(\"ADF statistic\"+str(result[0]))\n",
    "print(\"p-value\"+str(result[1]))"
   ]
  },
  {
   "cell_type": "code",
   "execution_count": 49,
   "metadata": {},
   "outputs": [
    {
     "data": {
      "text/plain": [
       "1      -0.036105\n",
       "2       0.008785\n",
       "3       0.000000\n",
       "4      -0.002189\n",
       "5      -0.013235\n",
       "          ...   \n",
       "5112    0.077501\n",
       "5113   -0.051368\n",
       "5114   -0.005247\n",
       "5115    0.037977\n",
       "5116    0.006491\n",
       "Name: close, Length: 5116, dtype: float64"
      ]
     },
     "execution_count": 49,
     "metadata": {},
     "output_type": "execute_result"
    }
   ],
   "source": [
    "df_log"
   ]
  },
  {
   "cell_type": "code",
   "execution_count": 50,
   "metadata": {},
   "outputs": [
    {
     "data": {
      "image/png": "[encoded data removed]",
      "text/plain": [
       "<Figure size 432x288 with 1 Axes>"
      ]
     },
     "metadata": {
      "needs_background": "light"
     },
     "output_type": "display_data"
    }
   ],
   "source": [
    "#clearly it is stationary\n",
    "df_log.plot()\n",
    "plt.show()"
   ]
  },
  {
   "cell_type": "code",
   "execution_count": 23,
   "metadata": {},
   "outputs": [
    {
     "data": {
      "image/png": "[encoded data removed]",
      "text/plain": [
       "<Figure size 1152x288 with 2 Axes>"
      ]
     },
     "metadata": {
      "needs_background": "light"
     },
     "output_type": "display_data"
    }
   ],
   "source": [
    "#differencing twice\n",
    "diff = df.close.diff().diff().dropna()\n",
    "fig, (ax1,ax2) = plt.subplots(1,2,figsize=(16,4))\n",
    "\n",
    "ax1.plot(diff)\n",
    "ax1.set_title('original')\n",
    "plot_acf(diff,ax2);"
   ]
  },
  {
   "cell_type": "code",
   "execution_count": 24,
   "metadata": {},
   "outputs": [
    {
     "data": {
      "image/png": "[encoded data removed]",
      "text/plain": [
       "<Figure size 1152x288 with 2 Axes>"
      ]
     },
     "metadata": {
      "needs_background": "light"
     },
     "output_type": "display_data"
    }
   ],
   "source": [
    "#differencing third time\n",
    "diff = df.close.diff().diff().diff().dropna()\n",
    "fig, (ax1,ax2) = plt.subplots(1,2,figsize=(16,4))\n",
    "\n",
    "ax1.plot(diff)\n",
    "ax1.set_title('original')\n",
    "plot_acf(diff,ax2);"
   ]
  },
  {
   "cell_type": "code",
   "execution_count": 25,
   "metadata": {},
   "outputs": [
    {
     "data": {
      "text/plain": [
       "1"
      ]
     },
     "execution_count": 25,
     "metadata": {},
     "output_type": "execute_result"
    }
   ],
   "source": [
    "#use pmdarima package to find the number of differencing\n",
    "ndiffs(df.close, test='adf')"
   ]
  },
  {
   "cell_type": "code",
   "execution_count": 26,
   "metadata": {},
   "outputs": [
    {
     "data": {
      "image/png": "[encoded data removed]",
      "text/plain": [
       "<Figure size 1152x288 with 2 Axes>"
      ]
     },
     "metadata": {
      "needs_background": "light"
     },
     "output_type": "display_data"
    }
   ],
   "source": [
    "# p is the order of auto regression(AR) term, referring to the number of lags to be used for predictors\n",
    "# I use partial autoregression plot(PACF) to find p\n",
    "# partial autoregression shows the correlation between the series and lags\n",
    "diff = df.close.diff().dropna()\n",
    "fig, (ax1,ax2) = plt.subplots(1,2,figsize=(16,4))\n",
    "\n",
    "ax1.plot(diff)\n",
    "ax1.set_title('original')\n",
    "ax2.set_ylim(0,1)\n",
    "plot_pacf(diff,ax2);"
   ]
  },
  {
   "cell_type": "markdown",
   "metadata": {},
   "source": [
    "pacf lag of 39 is above the significant line"
   ]
  },
  {
   "cell_type": "code",
   "execution_count": 27,
   "metadata": {},
   "outputs": [
    {
     "data": {
      "image/png": "[encoded data removed]",
      "text/plain": [
       "<Figure size 1152x288 with 2 Axes>"
      ]
     },
     "metadata": {
      "needs_background": "light"
     },
     "output_type": "display_data"
    }
   ],
   "source": [
    "#q is the order of moving average(MA) term, shows the number of lagged forcast errors that \n",
    "#should go into the ARIMA model\n",
    "#can be found by looking at acf plot\n",
    "diff = df.close.diff().dropna()\n",
    "fig, (ax1,ax2) = plt.subplots(1,2,figsize=(16,4))\n",
    "\n",
    "ax1.plot(diff)\n",
    "ax1.set_title('original')\n",
    "plot_acf(diff,ax2);"
   ]
  },
  {
   "cell_type": "code",
   "execution_count": 28,
   "metadata": {},
   "outputs": [],
   "source": [
    "#smape(Symmetric mean absolute percentage error)\n",
    "#is commonly used as loss function for time series data\n",
    "def smape(y_true, y_pred):\n",
    "    return np.mean((np.abs(y_pred - y_true) * 200/ (np.abs(y_pred) + np.abs(y_true))))"
   ]
  },
  {
   "cell_type": "code",
   "execution_count": 29,
   "metadata": {},
   "outputs": [
    {
     "data": {
      "text/plain": [
       "((4093,), (1024,))"
      ]
     },
     "execution_count": 29,
     "metadata": {},
     "output_type": "execute_result"
    }
   ],
   "source": [
    "#split data 80%-20%\n",
    "train_data, test_data = df[0:int(len(df)*0.8)], df[int(len(df)*0.8):]\n",
    "X_train = train_data.close.values\n",
    "X_test = test_data.close.values\n",
    "X_train.shape, X_test.shape"
   ]
  },
  {
   "cell_type": "markdown",
   "metadata": {},
   "source": [
    "$AIC = -2 \\frac{\\ln L}{T} + \\frac{2} {T}K $ \\\n",
    "$BIC = -2 \\frac{\\ln L}{T} + \\frac{\\ln T} {T}K$ \\\n",
    "where $\\ln L$ is the log likewood of estimated model, \\\n",
    "k is the number of parameters \\\n",
    "T is the length of time series \\\n",
    "low AIC and BIC implies better models. "
   ]
  },
  {
   "cell_type": "code",
   "execution_count": 30,
   "metadata": {},
   "outputs": [
    {
     "name": "stdout",
     "output_type": "stream",
     "text": [
      "Performing stepwise search to minimize aic\n",
      " ARIMA(2,1,2)(0,0,0)[0] intercept   : AIC=13536.929, Time=2.57 sec\n",
      " ARIMA(0,1,0)(0,0,0)[0] intercept   : AIC=13555.149, Time=0.07 sec\n",
      " ARIMA(1,1,0)(0,0,0)[0] intercept   : AIC=13546.920, Time=0.23 sec\n",
      " ARIMA(0,1,1)(0,0,0)[0] intercept   : AIC=13546.119, Time=0.28 sec\n",
      " ARIMA(0,1,0)(0,0,0)[0]             : AIC=13553.662, Time=0.09 sec\n",
      " ARIMA(1,1,2)(0,0,0)[0] intercept   : AIC=13536.927, Time=1.70 sec\n",
      " ARIMA(0,1,2)(0,0,0)[0] intercept   : AIC=13542.670, Time=0.34 sec\n",
      " ARIMA(1,1,1)(0,0,0)[0] intercept   : AIC=13535.927, Time=1.02 sec\n",
      " ARIMA(2,1,1)(0,0,0)[0] intercept   : AIC=13536.960, Time=1.37 sec\n",
      " ARIMA(2,1,0)(0,0,0)[0] intercept   : AIC=13543.608, Time=0.24 sec\n",
      " ARIMA(1,1,1)(0,0,0)[0]             : AIC=13534.820, Time=0.33 sec\n",
      " ARIMA(0,1,1)(0,0,0)[0]             : AIC=13544.694, Time=0.11 sec\n",
      " ARIMA(1,1,0)(0,0,0)[0]             : AIC=13545.486, Time=0.08 sec\n",
      " ARIMA(2,1,1)(0,0,0)[0]             : AIC=13535.887, Time=0.57 sec\n",
      " ARIMA(1,1,2)(0,0,0)[0]             : AIC=13535.855, Time=0.79 sec\n",
      " ARIMA(0,1,2)(0,0,0)[0]             : AIC=13541.293, Time=0.18 sec\n",
      " ARIMA(2,1,0)(0,0,0)[0]             : AIC=13542.218, Time=0.19 sec\n",
      " ARIMA(2,1,2)(0,0,0)[0]             : AIC=13535.840, Time=1.23 sec\n",
      "\n",
      "Best model:  ARIMA(1,1,1)(0,0,0)[0]          \n",
      "Total fit time: 11.414 seconds\n"
     ]
    },
    {
     "data": {
      "image/png": "[encoded data removed]",
      "text/plain": [
       "<Figure size 432x288 with 1 Axes>"
      ]
     },
     "metadata": {
      "needs_background": "light"
     },
     "output_type": "display_data"
    }
   ],
   "source": [
    "#built model using auto ARIMA to find optimal parameters\n",
    "model = auto_arima(X_train, trace=True, error_function='ignore',suppress_warning=True)\n",
    "model.fit(X_train)\n",
    "forecast= model.predict(n_periods=len(X_test))\n",
    "forecast =pd.DataFrame(forecast,test_data.index,columns=['Prediction'])\n",
    "#plot the graph\n",
    "plt.plot(train_data.index,X_train, label='Train')\n",
    "plt.plot(test_data.index,X_test,label='Test')\n",
    "plt.plot(forecast,label='Prediction')\n",
    "plt.title('oxy stock price prediction')\n",
    "plt.xlabel('Time')\n",
    "plt.ylabel('Actual stock price')\n",
    "plt.legend(loc='upper left',fontsize=8)\n",
    "plt.show()"
   ]
  },
  {
   "cell_type": "code",
   "execution_count": 68,
   "metadata": {},
   "outputs": [
    {
     "name": "stdout",
     "output_type": "stream",
     "text": [
      "5117    27.778902\n",
      "5118    27.759853\n",
      "5119    27.749721\n",
      "5120    27.744333\n",
      "5121    27.741467\n",
      "5122    27.739942\n",
      "5123    27.739131\n",
      "5124    27.738700\n",
      "5125    27.738471\n",
      "5126    27.738349\n",
      "5127    27.738284\n",
      "5128    27.738249\n",
      "5129    27.738231\n",
      "5130    27.738221\n",
      "5131    27.738216\n",
      "5132    27.738213\n",
      "5133    27.738212\n",
      "5134    27.738211\n",
      "5135    27.738211\n",
      "5136    27.738210\n",
      "5137    27.738210\n",
      "5138    27.738210\n",
      "5139    27.738210\n",
      "5140    27.738210\n",
      "5141    27.738210\n",
      "5142    27.738210\n",
      "5143    27.738210\n",
      "5144    27.738210\n",
      "5145    27.738210\n",
      "5146    27.738210\n",
      "Name: predicted_mean, dtype: float64\n"
     ]
    }
   ],
   "source": [
    "model = SARIMAX(df.close, exog=df.crude_price, order=(1,1,1))\n",
    "results = model.fit()\n",
    "data_exog = [60]*30\n",
    "mean_forecast = results.get_forecast(steps=30, exog=data_exog).predicted_mean\n",
    "print(mean_forecast)"
   ]
  },
  {
   "cell_type": "code",
   "execution_count": 69,
   "metadata": {},
   "outputs": [
    {
     "data": {
      "image/png": "[encoded data removed]",
      "text/plain": [
       "<Figure size 432x288 with 4 Axes>"
      ]
     },
     "metadata": {
      "needs_background": "light"
     },
     "output_type": "display_data"
    }
   ],
   "source": [
    "#plot results\n",
    "results.plot_diagnostics()\n",
    "plt.show()"
   ]
  },
  {
   "cell_type": "code",
   "execution_count": 51,
   "metadata": {},
   "outputs": [
    {
     "name": "stdout",
     "output_type": "stream",
     "text": [
      "Performing stepwise search to minimize aic\n",
      " ARIMA(2,0,2)(0,0,0)[0] intercept   : AIC=-22666.246, Time=3.19 sec\n",
      " ARIMA(0,0,0)(0,0,0)[0] intercept   : AIC=-22665.419, Time=0.49 sec\n",
      " ARIMA(1,0,0)(0,0,0)[0] intercept   : AIC=-22667.474, Time=0.88 sec\n",
      " ARIMA(0,0,1)(0,0,0)[0] intercept   : AIC=-22667.478, Time=0.31 sec\n",
      " ARIMA(0,0,0)(0,0,0)[0]             : AIC=-22667.156, Time=0.19 sec\n",
      " ARIMA(1,0,1)(0,0,0)[0] intercept   : AIC=-22665.478, Time=0.35 sec\n",
      " ARIMA(0,0,2)(0,0,0)[0] intercept   : AIC=-22665.463, Time=0.40 sec\n",
      " ARIMA(1,0,2)(0,0,0)[0] intercept   : AIC=-22667.826, Time=2.65 sec\n",
      " ARIMA(1,0,3)(0,0,0)[0] intercept   : AIC=-22666.849, Time=1.91 sec\n",
      " ARIMA(0,0,3)(0,0,0)[0] intercept   : AIC=-22663.593, Time=1.38 sec\n",
      " ARIMA(2,0,1)(0,0,0)[0] intercept   : AIC=-22663.477, Time=0.74 sec\n",
      " ARIMA(2,0,3)(0,0,0)[0] intercept   : AIC=-22669.496, Time=4.58 sec\n",
      " ARIMA(3,0,3)(0,0,0)[0] intercept   : AIC=-22664.746, Time=6.42 sec\n",
      " ARIMA(2,0,4)(0,0,0)[0] intercept   : AIC=-22665.060, Time=2.92 sec\n",
      " ARIMA(1,0,4)(0,0,0)[0] intercept   : AIC=-22671.404, Time=2.96 sec\n",
      " ARIMA(0,0,4)(0,0,0)[0] intercept   : AIC=-22670.709, Time=2.01 sec\n",
      " ARIMA(1,0,5)(0,0,0)[0] intercept   : AIC=-22672.806, Time=0.92 sec\n",
      " ARIMA(0,0,5)(0,0,0)[0] intercept   : AIC=-22673.700, Time=0.77 sec\n",
      " ARIMA(0,0,5)(0,0,0)[0]             : AIC=-22675.414, Time=0.39 sec\n",
      " ARIMA(0,0,4)(0,0,0)[0]             : AIC=-22672.408, Time=0.81 sec\n",
      " ARIMA(1,0,5)(0,0,0)[0]             : AIC=-22674.743, Time=0.96 sec\n",
      " ARIMA(1,0,4)(0,0,0)[0]             : AIC=-22673.020, Time=1.08 sec\n",
      "\n",
      "Best model:  ARIMA(0,0,5)(0,0,0)[0]          \n",
      "Total fit time: 36.347 seconds\n"
     ]
    },
    {
     "data": {
      "text/plain": [
       "<statsmodels.tsa.arima.model.ARIMA at 0x28dd36ede88>"
      ]
     },
     "execution_count": 51,
     "metadata": {},
     "output_type": "execute_result"
    }
   ],
   "source": [
    "#use log-transform to make model and see if it is better\n",
    "model2 = auto_arima(df_log, trace=True, error_function='ignore',suppress_warning=True)\n",
    "model2.fit(df_log)\n",
    "model"
   ]
  },
  {
   "cell_type": "code",
   "execution_count": 61,
   "metadata": {},
   "outputs": [
    {
     "name": "stderr",
     "output_type": "stream",
     "text": [
      "C:\\Users\\zcj10\\AppData\\Roaming\\Python\\Python37\\site-packages\\statsmodels\\tsa\\base\\tsa_model.py:579: ValueWarning: An unsupported index was provided and will be ignored when e.g. forecasting.\n",
      "  ' ignored when e.g. forecasting.', ValueWarning)\n",
      "C:\\Users\\zcj10\\AppData\\Roaming\\Python\\Python37\\site-packages\\statsmodels\\tsa\\base\\tsa_model.py:579: ValueWarning: An unsupported index was provided and will be ignored when e.g. forecasting.\n",
      "  ' ignored when e.g. forecasting.', ValueWarning)\n"
     ]
    },
    {
     "name": "stdout",
     "output_type": "stream",
     "text": [
      "5116    0.003865\n",
      "5117   -0.000905\n",
      "5118   -0.001549\n",
      "5119    0.000562\n",
      "5120    0.000343\n",
      "5121    0.000000\n",
      "5122    0.000000\n",
      "5123    0.000000\n",
      "5124    0.000000\n",
      "5125    0.000000\n",
      "5126    0.000000\n",
      "5127    0.000000\n",
      "5128    0.000000\n",
      "5129    0.000000\n",
      "5130    0.000000\n",
      "5131    0.000000\n",
      "5132    0.000000\n",
      "5133    0.000000\n",
      "5134    0.000000\n",
      "5135    0.000000\n",
      "5136    0.000000\n",
      "5137    0.000000\n",
      "5138    0.000000\n",
      "5139    0.000000\n",
      "5140    0.000000\n",
      "5141    0.000000\n",
      "5142    0.000000\n",
      "5143    0.000000\n",
      "5144    0.000000\n",
      "5145    0.000000\n",
      "Name: predicted_mean, dtype: float64\n"
     ]
    },
    {
     "name": "stderr",
     "output_type": "stream",
     "text": [
      "C:\\Users\\zcj10\\AppData\\Roaming\\Python\\Python37\\site-packages\\statsmodels\\tsa\\base\\tsa_model.py:379: ValueWarning: No supported index is available. Prediction results will be given with an integer index beginning at `start`.\n",
      "  ValueWarning)\n"
     ]
    }
   ],
   "source": [
    "model3 = SARIMAX(df_log, order=(0,0,5))\n",
    "results2 = model3.fit()\n",
    "mean_forecast = results.get_forecast(steps=30).predicted_mean\n",
    "print(mean_forecast)"
   ]
  },
  {
   "cell_type": "code",
   "execution_count": 57,
   "metadata": {},
   "outputs": [
    {
     "data": {
      "text/plain": [
       "5116    27.927726\n",
       "5117    27.902476\n",
       "5118    27.859291\n",
       "5119    27.874939\n",
       "5120    27.884513\n",
       "5121    27.884513\n",
       "5122    27.884513\n",
       "5123    27.884513\n",
       "5124    27.884513\n",
       "5125    27.884513\n",
       "5126    27.884513\n",
       "5127    27.884513\n",
       "5128    27.884513\n",
       "5129    27.884513\n",
       "5130    27.884513\n",
       "5131    27.884513\n",
       "5132    27.884513\n",
       "5133    27.884513\n",
       "5134    27.884513\n",
       "5135    27.884513\n",
       "5136    27.884513\n",
       "5137    27.884513\n",
       "5138    27.884513\n",
       "5139    27.884513\n",
       "5140    27.884513\n",
       "5141    27.884513\n",
       "5142    27.884513\n",
       "5143    27.884513\n",
       "5144    27.884513\n",
       "5145    27.884513\n",
       "Name: predicted_mean, dtype: float64"
      ]
     },
     "execution_count": 57,
     "metadata": {},
     "output_type": "execute_result"
    }
   ],
   "source": [
    "np.exp(mean_forecast.cumsum())*27.82"
   ]
  },
  {
   "cell_type": "code",
   "execution_count": 62,
   "metadata": {},
   "outputs": [
    {
     "data": {
      "image/png": "[encoded data removed]",
      "text/plain": [
       "<Figure size 432x288 with 4 Axes>"
      ]
     },
     "metadata": {
      "needs_background": "light"
     },
     "output_type": "display_data"
    }
   ],
   "source": [
    "results2.plot_diagnostics()\n",
    "plt.show()"
   ]
  },
  {
   "cell_type": "code",
   "execution_count": 32,
   "metadata": {},
   "outputs": [
    {
     "name": "stdout",
     "output_type": "stream",
     "text": [
      "<class 'list'>\n",
      "Testing Mean Squared Error: 1.196\n",
      "Symmetric mean absolute percentage error: 2.056\n"
     ]
    }
   ],
   "source": [
    "\n",
    "history = [x for x in X_train]\n",
    "print(type(history))\n",
    "predictions = list()\n",
    "for t in range(len(X_test)):\n",
    "    model = ARIMA(history, order=(1,1,1))\n",
    "    model_fit = model.fit()\n",
    "    output = model_fit.forecast()\n",
    "    yhat = output[0]\n",
    "    predictions.append(yhat)\n",
    "    obs = X_test[t]\n",
    "    history.append(obs)\n",
    "error = mean_squared_error(X_test, predictions)\n",
    "print('Testing Mean Squared Error: %.3f' % error)\n",
    "error2 = smape(X_test, predictions)\n",
    "print('Symmetric mean absolute percentage error: %.3f' % error2)"
   ]
  },
  {
   "cell_type": "code",
   "execution_count": 33,
   "metadata": {},
   "outputs": [
    {
     "data": {
      "text/plain": [
       "<matplotlib.legend.Legend at 0x28dd57d89c8>"
      ]
     },
     "execution_count": 33,
     "metadata": {},
     "output_type": "execute_result"
    },
    {
     "data": {
      "image/png": "[encoded data removed]",
      "text/plain": [
       "<Figure size 864x504 with 1 Axes>"
      ]
     },
     "metadata": {
      "needs_background": "light"
     },
     "output_type": "display_data"
    }
   ],
   "source": [
    "plt.figure(figsize=(12,7))\n",
    "plt.plot(df.close, 'green', color='blue', label='Training Data')\n",
    "plt.plot(test_data.index, predictions, color='red', marker='o', linestyle='dashed', \n",
    "         label='Predicted Price')\n",
    "plt.plot(test_data.index, X_test, color='black', label='Actual Price')\n",
    "plt.title('oxy Prices Prediction')\n",
    "plt.xlabel('Dates')\n",
    "plt.ylabel('Prices')\n",
    "#plt.xticks(np.arange(0,5117, 1300), df['Date'][0:5117:1300])\n",
    "plt.legend()"
   ]
  },
  {
   "cell_type": "code",
   "execution_count": 34,
   "metadata": {},
   "outputs": [
    {
     "data": {
      "text/plain": [
       "((4093,), (1024,))"
      ]
     },
     "execution_count": 34,
     "metadata": {},
     "output_type": "execute_result"
    }
   ],
   "source": [
    "X_crude_train = df.crude_price[:int(df.shape[0]*0.8)]\n",
    "X_crude_test = df.crude_price[int(df.shape[0]*0.8):]\n",
    "X_crude_train.shape, X_crude_test.shape"
   ]
  },
  {
   "cell_type": "code",
   "execution_count": 35,
   "metadata": {},
   "outputs": [
    {
     "name": "stdout",
     "output_type": "stream",
     "text": [
      "<class 'list'>\n",
      "Testing Mean Squared Error: 1.196\n",
      "Symmetric mean absolute percentage error: 2.054\n"
     ]
    }
   ],
   "source": [
    "#now compare with ARIMA model using an exogenous, a outside factor\n",
    "X_crude_test = X_crude_test.values\n",
    "history = [x for x in X_train]\n",
    "crude_hist = [x for x in X_crude_train]\n",
    "print(type(history))\n",
    "predictions = list()\n",
    "for t in range(len(X_test)):\n",
    "    crude_obs = X_crude_test[t]\n",
    "    model = ARIMA(history, order=(1,1,1),exog=crude_hist)\n",
    "    model_fit = model.fit()\n",
    "    output = model_fit.forecast(steps=1,exog=crude_obs, dynamic=True)\n",
    "    yhat = output[0]\n",
    "    predictions.append(yhat)\n",
    "    obs = X_test[t]\n",
    "    history.append(obs)\n",
    "    crude_hist.append(crude_obs)\n",
    "error = mean_squared_error(X_test, predictions)\n",
    "print('Testing Mean Squared Error: %.3f' % error)\n",
    "error2 = smape(X_test, predictions)\n",
    "print('Symmetric mean absolute percentage error: %.3f' % error2)"
   ]
  },
  {
   "cell_type": "code",
   "execution_count": 36,
   "metadata": {},
   "outputs": [
    {
     "data": {
      "text/plain": [
       "[68.64729608716185,\n",
       " 68.06590932592997,\n",
       " 67.93994717682345,\n",
       " 68.17877640271303,\n",
       " 68.57322050883788,\n",
       " 68.95341480217687,\n",
       " 67.92908282367861,\n",
       " 67.81652979151302,\n",
       " 67.65647494981307,\n",
       " 68.50151348084934,\n",
       " 69.15192704416583,\n",
       " 68.20901903472148,\n",
       " 66.89603919184184,\n",
       " 66.83691675777447,\n",
       " 68.18543765065002,\n",
       " 68.45389041882831,\n",
       " 67.42337769827,\n",
       " 67.19862919762967,\n",
       " 67.24083561127256,\n",
       " 66.50008791107604,\n",
       " 66.32877531792562,\n",
       " 66.99921672589588,\n",
       " 65.97325925891322,\n",
       " 65.3328332972462,\n",
       " 64.97649696405146,\n",
       " 65.51856433807964,\n",
       " 65.58801487643822,\n",
       " 66.24242189853143,\n",
       " 65.53440965874904,\n",
       " 64.91736082092503,\n",
       " 64.7846896620056,\n",
       " 64.74797499854928,\n",
       " 62.216262400081035,\n",
       " 62.614153945004674,\n",
       " 62.69284897397366,\n",
       " 62.94693500140041,\n",
       " 63.09005893268312,\n",
       " 65.01483592545965,\n",
       " 63.83517213047662,\n",
       " 64.09108311212188,\n",
       " 63.67973340642734,\n",
       " 63.39020051745624,\n",
       " 63.52905260544989,\n",
       " 63.07688602966806,\n",
       " 62.870919180989,\n",
       " 62.902916520705176,\n",
       " 63.40480039780371,\n",
       " 63.76748755807296,\n",
       " 64.23769473114785,\n",
       " 63.372647581188325,\n",
       " 63.733681831716055,\n",
       " 63.99304116192748,\n",
       " 63.440948072105684,\n",
       " 63.296252143832206,\n",
       " 63.016627281205864,\n",
       " 64.11183997870184,\n",
       " 64.91869841519737,\n",
       " 65.00393163631055,\n",
       " 64.08550229011553,\n",
       " 64.02867711977018,\n",
       " 62.75787599705035,\n",
       " 62.041291215172215,\n",
       " 62.00135000714789,\n",
       " 61.92334210234287,\n",
       " 62.11489243044472,\n",
       " 62.51948125461962,\n",
       " 62.44958500432123,\n",
       " 61.57708234334251,\n",
       " 61.587679777967175,\n",
       " 60.89232754159753,\n",
       " 60.135862285216575,\n",
       " 60.24590980115499,\n",
       " 58.178200421160206,\n",
       " 60.430958737558875,\n",
       " 60.617388436308744,\n",
       " 59.926523273421125,\n",
       " 61.305622828380145,\n",
       " 61.06063300819178,\n",
       " 60.87085440883469,\n",
       " 61.29129934130808,\n",
       " 60.54861437708837,\n",
       " 60.297553531648646,\n",
       " 60.31252105778897,\n",
       " 60.64369074268169,\n",
       " 60.59528201119121,\n",
       " 61.52127057537485,\n",
       " 61.144772316375416,\n",
       " 60.71667278914259,\n",
       " 60.993252770286006,\n",
       " 60.15345153811379,\n",
       " 59.01148295291335,\n",
       " 60.50891401346528,\n",
       " 60.69058651755785,\n",
       " 60.08059116105351,\n",
       " 61.596241356481826,\n",
       " 60.15280129827972,\n",
       " 58.69757115290566,\n",
       " 60.97573569852674,\n",
       " 60.82827428563655,\n",
       " 60.974661537796365,\n",
       " 60.137997334750146,\n",
       " 59.44831485432591,\n",
       " 61.76022384835484,\n",
       " 61.96132025774173,\n",
       " 60.76924933061155,\n",
       " 59.920010491052935,\n",
       " 60.22946597233531,\n",
       " 60.14074454020477,\n",
       " 60.03264804963037,\n",
       " 59.66658803567851,\n",
       " 59.60453859552025,\n",
       " 59.81789629248439,\n",
       " 59.88370031390546,\n",
       " 59.76458877608158,\n",
       " 58.92346681985478,\n",
       " 58.73325134203295,\n",
       " 58.811876467590885,\n",
       " 58.968541151255906,\n",
       " 59.172849988409254,\n",
       " 59.4960962881651,\n",
       " 59.80208414260733,\n",
       " 60.01357756254343,\n",
       " 60.20925985016353,\n",
       " 60.83476257622925,\n",
       " 60.489379486378674,\n",
       " 60.02547633654473,\n",
       " 59.43659858997201,\n",
       " 60.960669179170644,\n",
       " 61.51960438180254,\n",
       " 62.055608265303995,\n",
       " 62.6319684441829,\n",
       " 61.88354781196084,\n",
       " 61.50669142041909,\n",
       " 61.36036251148537,\n",
       " 61.531720974238034,\n",
       " 62.05132058888949,\n",
       " 61.80813151704095,\n",
       " 61.35347066535238,\n",
       " 61.6499855453127,\n",
       " 61.3439047522618,\n",
       " 61.14464506811647,\n",
       " 61.24519709676775,\n",
       " 60.65482694300032,\n",
       " 59.77012319193619,\n",
       " 59.01634873079335,\n",
       " 59.22362849917289,\n",
       " 58.912614568326,\n",
       " 59.20855021509757,\n",
       " 59.62176762847573,\n",
       " 59.16818001326319,\n",
       " 59.24938652658011,\n",
       " 59.15737150822644,\n",
       " 59.10581777306485,\n",
       " 59.18785340409311,\n",
       " 59.69273088547148,\n",
       " 59.7406380115941,\n",
       " 60.66919126424482,\n",
       " 61.53534005346421,\n",
       " 61.77657402523244,\n",
       " 60.24100123339534,\n",
       " 60.40568457754063,\n",
       " 60.759043992739336,\n",
       " 61.49808895178988,\n",
       " 61.53404950028626,\n",
       " 61.32128675626189,\n",
       " 61.754930559055374,\n",
       " 61.818859915537466,\n",
       " 62.427672696448276,\n",
       " 62.68418973952364,\n",
       " 62.875440143089676,\n",
       " 64.4526250090278,\n",
       " 64.33673452075915,\n",
       " 65.06847590966136,\n",
       " 64.87647031097863,\n",
       " 64.16595505794147,\n",
       " 64.07555438365057,\n",
       " 63.95734814125914,\n",
       " 64.35228725355796,\n",
       " 64.32155558147586,\n",
       " 63.90266970427381,\n",
       " 63.99188627418872,\n",
       " 64.47203712978322,\n",
       " 64.36978136427176,\n",
       " 64.21017991600192,\n",
       " 64.6997083173601,\n",
       " 64.74243368027072,\n",
       " 64.6220389475656,\n",
       " 64.61539756939567,\n",
       " 64.81697243035029,\n",
       " 65.4233287411048,\n",
       " 65.02874064323538,\n",
       " 65.76787407599343,\n",
       " 65.3261738927868,\n",
       " 64.63449951437963,\n",
       " 65.04388972950325,\n",
       " 64.95725382326836,\n",
       " 64.58648589862335,\n",
       " 65.43188015671885,\n",
       " 67.7654261476935,\n",
       " 68.13110509023454,\n",
       " 68.68607267964816,\n",
       " 68.63796354506024,\n",
       " 68.1016655062319,\n",
       " 68.61851234943458,\n",
       " 68.12471171810253,\n",
       " 67.90247585488962,\n",
       " 67.32206236808912,\n",
       " 66.7034227852116,\n",
       " 67.17536622407746,\n",
       " 68.35084261313455,\n",
       " 67.79301152170557,\n",
       " 67.86391958228637,\n",
       " 68.20237554661529,\n",
       " 68.05951037293403,\n",
       " 68.90357308111322,\n",
       " 69.80908243750221,\n",
       " 70.39619326531998,\n",
       " 70.16514709922377,\n",
       " 70.00284802506266,\n",
       " 69.95520575780175,\n",
       " 69.26333616495201,\n",
       " 69.40039334031066,\n",
       " 68.88638959135005,\n",
       " 69.48570995133059,\n",
       " 69.99216357008504,\n",
       " 69.9403240933938,\n",
       " 70.49982431712039,\n",
       " 70.5742040900676,\n",
       " 70.914970747809,\n",
       " 70.85720860992942,\n",
       " 71.7992306596778,\n",
       " 72.47977274843292,\n",
       " 72.88681572874377,\n",
       " 73.42953364943558,\n",
       " 73.23488625772164,\n",
       " 73.61167842095686,\n",
       " 73.58725900724306,\n",
       " 73.90405426001396,\n",
       " 74.89178465626854,\n",
       " 74.86885185746975,\n",
       " 74.49130609305283,\n",
       " 75.11244867739235,\n",
       " 74.83982850380886,\n",
       " 74.2350070029902,\n",
       " 75.73647682166404,\n",
       " 76.42856954486862,\n",
       " 75.24035713887524,\n",
       " 75.80905700084668,\n",
       " 75.36795652877736,\n",
       " 75.52435109689948,\n",
       " 77.51386935705371,\n",
       " 77.33258784095979,\n",
       " 77.48158807845624,\n",
       " 76.70945724730541,\n",
       " 77.13587951247516,\n",
       " 76.24435389421852,\n",
       " 74.82970639119672,\n",
       " 75.02100483460801,\n",
       " 76.09229598292683,\n",
       " 73.68686193696213,\n",
       " 71.11809815449521,\n",
       " 71.38308230983908,\n",
       " 70.06590090960579,\n",
       " 68.69619050956315,\n",
       " 68.38353688679548,\n",
       " 69.9698028830154,\n",
       " 69.8107517994349,\n",
       " 69.9219241814553,\n",
       " 69.50876983133315,\n",
       " 68.2816060375788,\n",
       " 68.09997944622324,\n",
       " 67.33663098089085,\n",
       " 67.99602286915312,\n",
       " 68.36678887177936,\n",
       " 67.35493630532035,\n",
       " 66.84421105030319,\n",
       " 65.72935227035987,\n",
       " 65.7373468977343,\n",
       " 65.72968953583216,\n",
       " 65.98326575524977,\n",
       " 65.72417488851036,\n",
       " 65.26426251274444,\n",
       " 63.120299469015,\n",
       " 63.773842854965444,\n",
       " 63.965703264418934,\n",
       " 64.24958208921181,\n",
       " 64.08863057019252,\n",
       " 63.9565244644509,\n",
       " 64.46535936124006,\n",
       " 63.69783071351902,\n",
       " 63.93916052784265,\n",
       " 65.970296364021,\n",
       " 65.15751151696743,\n",
       " 65.45946748353906,\n",
       " 67.09637002552356,\n",
       " 65.79438849017374,\n",
       " 63.25148502186546,\n",
       " 64.96220317007621,\n",
       " 64.68094672519797,\n",
       " 66.5529938846129,\n",
       " 66.55560813982679,\n",
       " 67.66399806312066,\n",
       " 67.4503034160682,\n",
       " 68.8030962226496,\n",
       " 70.33456732669008,\n",
       " 71.48144932175131,\n",
       " 71.60954119433384,\n",
       " 73.40680373177963,\n",
       " 74.66895425467497,\n",
       " 75.00756976981708,\n",
       " 75.715619047254,\n",
       " 75.81636531930116,\n",
       " 76.3069180111267,\n",
       " 77.07459861932,\n",
       " 77.19851882022655,\n",
       " 77.2443281049459,\n",
       " 77.49538664986896,\n",
       " 76.97738849787348,\n",
       " 77.19997374854161,\n",
       " 76.55809312620477,\n",
       " 76.80227100511557,\n",
       " 77.24812183851554,\n",
       " 77.65820147253407,\n",
       " 77.25547829970559,\n",
       " 78.13948663737595,\n",
       " 82.16492483574218,\n",
       " 83.60616054193635,\n",
       " 84.71663317105126,\n",
       " 84.68821432928839,\n",
       " 84.13116700734201,\n",
       " 84.14787019109542,\n",
       " 85.99037117343934,\n",
       " 85.31436507776287,\n",
       " 85.69077219701902,\n",
       " 84.90380692014584,\n",
       " 85.27698756472957,\n",
       " 83.87802292052687,\n",
       " 82.47230777126417,\n",
       " 81.91511974659875,\n",
       " 84.04628068828116,\n",
       " 84.1716724484433,\n",
       " 85.03704987407893,\n",
       " 85.29790581137591,\n",
       " 85.45440440626733,\n",
       " 86.37220083440197,\n",
       " 86.4093481191217,\n",
       " 85.4552619488514,\n",
       " 86.10934618410741,\n",
       " 84.94968199190232,\n",
       " 84.3725430473806,\n",
       " 84.38333027142622,\n",
       " 83.39935070653928,\n",
       " 83.82931957992422,\n",
       " 82.66308690785071,\n",
       " 83.27974434986186,\n",
       " 82.1723805849261,\n",
       " 83.34508159285454,\n",
       " 81.4465812732179,\n",
       " 82.70085550804895,\n",
       " 83.74030006295695,\n",
       " 83.39170967173264,\n",
       " 83.66094307692428,\n",
       " 82.5552569132487,\n",
       " 84.14456647246651,\n",
       " 84.21130320612929,\n",
       " 85.17445598671823,\n",
       " 85.61893762412815,\n",
       " 83.93924004482973,\n",
       " 84.54154780333526,\n",
       " 83.66554495982857,\n",
       " 82.59853376125595,\n",
       " 82.7393498560727,\n",
       " 82.98886995489084,\n",
       " 83.0024466602561,\n",
       " 83.09348768715071,\n",
       " 82.48875222000107,\n",
       " 83.44768259406264,\n",
       " 84.2817283762705,\n",
       " 84.12803611852657,\n",
       " 83.47395302928379,\n",
       " 83.32091131679186,\n",
       " 83.91033399652132,\n",
       " 82.68121476081267,\n",
       " 82.29262238201444,\n",
       " 82.32951927528372,\n",
       " 82.3321887088531,\n",
       " 81.9820935954982,\n",
       " 81.26482624239956,\n",
       " 77.99518353369724,\n",
       " 78.90530614728455,\n",
       " 78.26731196932782,\n",
       " 79.69506573085228,\n",
       " 77.07657283985775,\n",
       " 78.09279206468975,\n",
       " 78.58487430257458,\n",
       " 79.01843269116122,\n",
       " 78.8994852453047,\n",
       " 79.32352247935484,\n",
       " 78.98674523660208,\n",
       " 79.33093369117891,\n",
       " 80.1631919698561,\n",
       " 80.07525526844758,\n",
       " 80.19975486737124,\n",
       " 80.1089053271906,\n",
       " 79.86428857513475,\n",
       " 79.2909224847077,\n",
       " 79.16219171370436,\n",
       " 77.65846431592786,\n",
       " 76.76374171204746,\n",
       " 76.96120246444258,\n",
       " 77.1807689562451,\n",
       " 75.84715755321355,\n",
       " 76.68339672208265,\n",
       " 77.5757124171747,\n",
       " 77.5952695566336,\n",
       " 78.82126443637617,\n",
       " 79.31182671388763,\n",
       " 79.17739865270903,\n",
       " 79.54352064136508,\n",
       " 80.65393933110406,\n",
       " 81.20568093005639,\n",
       " 80.93814807094805,\n",
       " 81.10476281810207,\n",
       " 82.07454011171117,\n",
       " 83.01253366691205,\n",
       " 82.78262695823757,\n",
       " 82.39927965968775,\n",
       " 82.14671318549051,\n",
       " 81.40811918099261,\n",
       " 81.7414966523239,\n",
       " 82.20311107169374,\n",
       " 78.08193754564873,\n",
       " 76.7193366166459,\n",
       " 77.10087224654815,\n",
       " 72.54548529197515,\n",
       " 73.33947921619234,\n",
       " 73.10974319021032,\n",
       " 72.09740568743527,\n",
       " 72.33243371250258,\n",
       " 72.41147704534919,\n",
       " 70.80369482740433,\n",
       " 68.45843302792342,\n",
       " 68.8146695665763,\n",
       " 68.07120654877245,\n",
       " 66.64441136203507,\n",
       " 67.64764734888094,\n",
       " 67.16407753176786,\n",
       " 68.3803484828448,\n",
       " 68.33638749292359,\n",
       " 69.91009367744032,\n",
       " 73.18933201821268,\n",
       " 73.58180693821498,\n",
       " 72.55408675846418,\n",
       " 73.45141894457117,\n",
       " 72.13188276895514,\n",
       " 70.8105436848199,\n",
       " 70.96828452408133,\n",
       " 72.54033875598067,\n",
       " 73.30740299973289,\n",
       " 73.3001752692979,\n",
       " 70.37201291388887,\n",
       " 72.07146800679769,\n",
       " 70.68862154753971,\n",
       " 69.47034535038095,\n",
       " 70.73285600702282,\n",
       " 70.92040698575691,\n",
       " 70.30423035793423,\n",
       " 71.30630929245397,\n",
       " 69.72547660728743,\n",
       " 67.65272587696468,\n",
       " 66.68853964598966,\n",
       " 64.64515793374508,\n",
       " 64.85964772499797,\n",
       " 65.51691518258039,\n",
       " 66.71900270747498,\n",
       " 65.19551158469824,\n",
       " 64.22803210175982,\n",
       " 63.27556357592868,\n",
       " 62.38621560899114,\n",
       " 60.812686907407425,\n",
       " 60.15540292353231,\n",
       " 60.71812901811685,\n",
       " 60.852610476390225,\n",
       " 60.55666379506265,\n",
       " 61.41657093352004,\n",
       " 62.00718910249463,\n",
       " 61.27426175469673,\n",
       " 63.163039176434495,\n",
       " 64.3947323682038,\n",
       " 64.8998813340363,\n",
       " 65.67456103846962,\n",
       " 66.08737591503524,\n",
       " 66.13304646150195,\n",
       " 65.53120944754582,\n",
       " 65.48043019089259,\n",
       " 65.1214131387762,\n",
       " 65.78843261856318,\n",
       " 66.94898907406602,\n",
       " 65.12544379940803,\n",
       " 64.5952179075316,\n",
       " 64.98488630029574,\n",
       " 66.47531209461005,\n",
       " 66.05220608200415,\n",
       " 66.44024840408711,\n",
       " 66.91797262277859,\n",
       " 66.74421485103485,\n",
       " 67.96114080690117,\n",
       " 67.6862703987338,\n",
       " 67.27220742702065,\n",
       " 66.63165410840935,\n",
       " 64.98673230853444,\n",
       " 65.01380136485166,\n",
       " 64.88987036357699,\n",
       " 65.7567851727943,\n",
       " 65.85195672590447,\n",
       " 66.54423638201975,\n",
       " 67.14434772117005,\n",
       " 67.5754053372189,\n",
       " 68.18008642765011,\n",
       " 66.60463820173759,\n",
       " 65.95885511596455,\n",
       " 66.24415956919009,\n",
       " 66.05798220226413,\n",
       " 66.64158140578833,\n",
       " 66.16228468488728,\n",
       " 67.50768018964322,\n",
       " 67.4174062664602,\n",
       " 67.49990139783344,\n",
       " 66.21597708259812,\n",
       " 65.7788264569898,\n",
       " 62.85679621956444,\n",
       " 63.95960602089619,\n",
       " 64.25491293268945,\n",
       " 65.07289597398207,\n",
       " 65.21552709627622,\n",
       " 65.46482954289716,\n",
       " 66.94691295855111,\n",
       " 66.14890065280517,\n",
       " 67.20018331530133,\n",
       " 67.19087830221554,\n",
       " 65.27558431651197,\n",
       " 65.16379010755678,\n",
       " 67.03306177742945,\n",
       " 66.33914232310357,\n",
       " 66.5521926949697,\n",
       " 66.1991932923682,\n",
       " 67.14121097006986,\n",
       " 66.61878289837296,\n",
       " 66.07289411494389,\n",
       " 66.43617455239809,\n",
       " 67.97415797519874,\n",
       " 68.3020279151537,\n",
       " 67.26557675888365,\n",
       " 67.17160500526387,\n",
       " 67.17338682909457,\n",
       " 65.3958803961356,\n",
       " 63.48984492296967,\n",
       " 63.767247698314826,\n",
       " 62.77106655701278,\n",
       " 61.95250331368139,\n",
       " 63.114695114344215,\n",
       " 62.44113659990517,\n",
       " 62.0825015670109,\n",
       " 61.91588150287891,\n",
       " 61.395286263482184,\n",
       " 60.244305037828774,\n",
       " 59.02304403525532,\n",
       " 57.65136330441195,\n",
       " 57.5001662555778,\n",
       " 58.05255345448615,\n",
       " 58.82543333026245,\n",
       " 59.704810889218834,\n",
       " 60.20277551749308,\n",
       " 56.4684767327574,\n",
       " 55.13606092530049,\n",
       " 54.33844673581192,\n",
       " 54.6748147872546,\n",
       " 54.3643410600291,\n",
       " 53.8627919641362,\n",
       " 52.89002709457736,\n",
       " 53.54249069674159,\n",
       " 53.576929407408805,\n",
       " 52.862838224926726,\n",
       " 52.97561389774092,\n",
       " 53.50018161105826,\n",
       " 52.34958079322215,\n",
       " 52.06780581240088,\n",
       " 51.972560193217674,\n",
       " 49.90117435079218,\n",
       " 49.44351288290917,\n",
       " 49.7762612384185,\n",
       " 47.58670797752805,\n",
       " 49.10438982166054,\n",
       " 47.937814571189364,\n",
       " 47.976389488618935,\n",
       " 49.06766906717244,\n",
       " 48.81434199107735,\n",
       " 49.71302828519791,\n",
       " 49.31274125224254,\n",
       " 49.793334815519984,\n",
       " 50.31373060182776,\n",
       " 50.27374423621866,\n",
       " 51.23720105618955,\n",
       " 50.587273168645105,\n",
       " 49.8998984305799,\n",
       " 49.40665010149226,\n",
       " 50.40171918889342,\n",
       " 49.761737262188795,\n",
       " 50.26867302196562,\n",
       " 49.79057178141612,\n",
       " 48.82934692949477,\n",
       " 49.298858630464046,\n",
       " 49.3150612401969,\n",
       " 49.609073071600235,\n",
       " 50.21325599674868,\n",
       " 50.411900109400115,\n",
       " 51.64745494817401,\n",
       " 51.57520770306795,\n",
       " 51.07682070421279,\n",
       " 51.157654241147824,\n",
       " 50.998580575539,\n",
       " 52.268018401432215,\n",
       " 52.45301280827575,\n",
       " 51.78033059775223,\n",
       " 52.02628544181688,\n",
       " 51.155344413010035,\n",
       " 51.58475705159508,\n",
       " 50.93182478178071,\n",
       " 52.42615961550778,\n",
       " 51.36927137775657,\n",
       " 53.10714992519883,\n",
       " 51.20871748618615,\n",
       " 49.51289929583792,\n",
       " 47.72662490236736,\n",
       " 46.17906256883766,\n",
       " 47.232968965322115,\n",
       " 47.213837479826886,\n",
       " 45.1404422000848,\n",
       " 44.88996614455055,\n",
       " 43.84829978365298,\n",
       " 44.06929923591667,\n",
       " 44.63572334957245,\n",
       " 45.59540934133736,\n",
       " 45.28531620395007,\n",
       " 45.08818308927616,\n",
       " 44.73699387875236,\n",
       " 42.49053729275892,\n",
       " 42.2350923898206,\n",
       " 42.425292713008396,\n",
       " 43.14229004766689,\n",
       " 43.38589616947669,\n",
       " 43.48964456008303,\n",
       " 42.71814701541891,\n",
       " 43.57498889461998,\n",
       " 45.0281101852774,\n",
       " 45.395732293967,\n",
       " 44.93660163849109,\n",
       " 46.346239915713554,\n",
       " 46.227281627708386,\n",
       " 45.38357482939365,\n",
       " 45.09134081708345,\n",
       " 47.691350134929614,\n",
       " 45.162747740651966,\n",
       " 44.65809409985776,\n",
       " 45.77435353867074,\n",
       " 45.6925236861905,\n",
       " 45.49793017548561,\n",
       " 45.46534177799217,\n",
       " 45.33716168976026,\n",
       " 45.354116500909946,\n",
       " 45.15281272632013,\n",
       " 44.50000586155235,\n",
       " 43.82865793735507,\n",
       " 43.016052336864355,\n",
       " 43.252651933143966,\n",
       " 43.1190232260811,\n",
       " 42.25545475281798,\n",
       " 40.944917673459656,\n",
       " 40.9308397899134,\n",
       " 41.09751803585542,\n",
       " 41.169703215154335,\n",
       " 40.56013865151257,\n",
       " 40.82664790696273,\n",
       " 40.38310795244507,\n",
       " 40.36808137466159,\n",
       " 40.467485100563785,\n",
       " 40.81630840374728,\n",
       " 42.16825358764361,\n",
       " 42.853987360133175,\n",
       " 42.260067740037286,\n",
       " 42.4977964239762,\n",
       " 42.26062308923059,\n",
       " 42.31376817769666,\n",
       " 41.38598261949067,\n",
       " 40.55523060687797,\n",
       " 42.268738651423405,\n",
       " 44.126826593493014,\n",
       " 41.93466191078502,\n",
       " 39.721648726732035,\n",
       " 39.14496939333365,\n",
       " 40.14307436731237,\n",
       " 38.96294136801386,\n",
       " 38.52434244519747,\n",
       " 38.20206985533369,\n",
       " 37.83454701326156,\n",
       " 38.961492711714,\n",
       " 39.28588756889374,\n",
       " 38.17486793724078,\n",
       " 38.50661094278621,\n",
       " 39.11218718727326,\n",
       " 39.54715976050413,\n",
       " 39.89070574241362,\n",
       " 38.601555674820915,\n",
       " 38.751156649761796,\n",
       " 38.69656464931175,\n",
       " 38.062530466246145,\n",
       " 38.47171204554294,\n",
       " 38.010192388982155,\n",
       " 38.991652803707524,\n",
       " 37.396142861241245,\n",
       " 37.60430630941838,\n",
       " 37.56634379970117,\n",
       " 38.241928460704365,\n",
       " 37.72837960621944,\n",
       " 38.30712507481208,\n",
       " 38.31036614753699,\n",
       " 38.64747778677878,\n",
       " 38.68144586736123,\n",
       " 38.97776567214014,\n",
       " 39.660435481726786,\n",
       " 40.09223772335254,\n",
       " 40.11315145099344,\n",
       " 40.640095029824536,\n",
       " 41.14120448366279,\n",
       " 42.46544393249459,\n",
       " 43.4898761137977,\n",
       " 44.88361103962074,\n",
       " 45.13551533665064,\n",
       " 44.87590906769264,\n",
       " 45.281639968709186,\n",
       " 45.80811846431733,\n",
       " 46.46813736288449,\n",
       " 47.137084248210975,\n",
       " 47.17918418278682,\n",
       " 46.63515797377539,\n",
       " 45.83940327687205,\n",
       " 44.38582168475669,\n",
       " 43.37002511391257,\n",
       " 42.6163253231941,\n",
       " 42.30473220551302,\n",
       " 41.34787911932594,\n",
       " 41.29441053164511,\n",
       " 40.56991368265285,\n",
       " 40.667983143714366,\n",
       " 39.8121175808434,\n",
       " 40.14217659797973,\n",
       " 40.535766799018,\n",
       " 42.093576831190695,\n",
       " 42.09557630035681,\n",
       " 41.8766117554602,\n",
       " 40.54208493812147,\n",
       " 41.180439475068496,\n",
       " 42.451729785070036,\n",
       " 42.022058780652955,\n",
       " 41.60432789768181,\n",
       " 41.56346616647272,\n",
       " 42.47980699456802,\n",
       " 42.92573496990827,\n",
       " 42.11322050610747,\n",
       " 39.57519243357415,\n",
       " 36.38784231146739,\n",
       " 34.449733184755125,\n",
       " 32.07800390871143,\n",
       " 32.93169117489365,\n",
       " 33.11663272585715,\n",
       " 33.119579885614506,\n",
       " 33.04208451510976,\n",
       " 31.618780389719408,\n",
       " 27.085218774093743,\n",
       " 13.330678428400244,\n",
       " 14.909999388126558,\n",
       " 12.087860359617652,\n",
       " 11.985836928492592,\n",
       " 14.334806720209961,\n",
       " 11.978587150189961,\n",
       " 11.371433409705524,\n",
       " 10.476805512933442,\n",
       " 10.920966002756511,\n",
       " 10.212199193403489,\n",
       " 9.778700971524295,\n",
       " 10.707121308618175,\n",
       " 11.91455382672542,\n",
       " 12.714896873120134,\n",
       " 11.558545829279858,\n",
       " 11.027122970047257,\n",
       " 11.564315625835802,\n",
       " 10.811873461576933,\n",
       " 12.789918983329537,\n",
       " 12.986095478848794,\n",
       " 13.398477657879665,\n",
       " 13.731598673757373,\n",
       " 15.49874341202309,\n",
       " 15.261848559579503,\n",
       " 15.237523732056681,\n",
       " 14.857205570650443,\n",
       " 13.662794506000893,\n",
       " 12.30656154132225,\n",
       " 13.542895236682641,\n",
       " 11.665520311045903,\n",
       " 13.080730972818019,\n",
       " 13.047698287844927,\n",
       " 13.897147593983474,\n",
       " 13.795134330248814,\n",
       " 14.01608608325749,\n",
       " 15.107623857371484,\n",
       " 16.72016497755804,\n",
       " 16.63976075190136,\n",
       " 15.288285691540786,\n",
       " 15.58705948654609,\n",
       " 15.45193705859571,\n",
       " 13.477137353425821,\n",
       " 13.896476408004979,\n",
       " 15.008989761944164,\n",
       " 15.009312387956149,\n",
       " 14.612086378073386,\n",
       " 13.511744356503979,\n",
       " 13.831851496213591,\n",
       " 13.87772014434074,\n",
       " 15.098039052878008,\n",
       " 14.355970302925979,\n",
       " 15.003502707993341,\n",
       " 14.28516038686952,\n",
       " 14.133939390611621,\n",
       " 14.417328164770556,\n",
       " 14.367247373262979,\n",
       " 13.715858770566268,\n",
       " 13.044949125737961,\n",
       " 13.807979066461952,\n",
       " 14.729247066836685,\n",
       " 15.384312016129401,\n",
       " 15.524530618522357,\n",
       " 20.55547229764051,\n",
       " 24.0485671975638,\n",
       " 23.064767382762444,\n",
       " 20.815006697408805,\n",
       " 17.50835634270458,\n",
       " 18.54537167652616,\n",
       " 19.079693287243504,\n",
       " 20.257506367459985,\n",
       " 19.062291004989344,\n",
       " 19.683332829077315,\n",
       " 19.709120270939223,\n",
       " 19.93186197943744,\n",
       " 19.771865923506937,\n",
       " 18.035699470178614,\n",
       " 18.5880015144134,\n",
       " 17.717849825948278,\n",
       " 17.924798587822494,\n",
       " 18.30075801677677,\n",
       " 17.44833905282784,\n",
       " 17.801120287409415,\n",
       " 18.173033226331544,\n",
       " 17.18567719638563,\n",
       " 17.30763398355885,\n",
       " 16.3076238852846,\n",
       " 16.74239975810493,\n",
       " 16.17717579496736,\n",
       " 16.69874739049194,\n",
       " 17.16502721256899,\n",
       " 16.997287391958235,\n",
       " 16.308386034063552,\n",
       " 15.736471141013926,\n",
       " 17.3777716970339,\n",
       " 16.950298656593578,\n",
       " 16.799288335268518,\n",
       " 16.74814746694845,\n",
       " 16.71358572989582,\n",
       " 16.357051985949894,\n",
       " 17.01343180574449,\n",
       " 15.793924722341707,\n",
       " 15.77026423275911,\n",
       " 15.300424897596274,\n",
       " 15.760676722387872,\n",
       " 15.94769561586548,\n",
       " 15.46425499178747,\n",
       " 15.45017074579172,\n",
       " 16.448797997183007,\n",
       " 15.189310619352707,\n",
       " 14.976956283041009,\n",
       " 14.631081848443118,\n",
       " 14.657850331168715,\n",
       " 13.970172073616952,\n",
       " 13.97234484032306,\n",
       " 13.845579110684579,\n",
       " 13.433842644624095,\n",
       " 13.185164702506746,\n",
       " 13.613826203410033,\n",
       " 13.538006517229613,\n",
       " 12.99086114756128,\n",
       " 13.042597906256217,\n",
       " 13.131823471909318,\n",
       " 12.758776994844869,\n",
       " 12.509363953811404,\n",
       " 12.385475830315553,\n",
       " 12.58154460504854,\n",
       " 12.22365535698546,\n",
       " 11.059447029472853,\n",
       " 11.129738407943561,\n",
       " 10.23524776949464,\n",
       " 10.263645449631206,\n",
       " 10.193394160214291,\n",
       " 10.724598048424124,\n",
       " 11.634650644751199,\n",
       " 11.840540713600966,\n",
       " 11.638121888021274,\n",
       " 11.267195268103634,\n",
       " 11.097612530348119,\n",
       " 10.446986015528982,\n",
       " 10.666760323624198,\n",
       " 10.246843825365762,\n",
       " 10.363844965645198,\n",
       " 9.979843842463634,\n",
       " 10.039879524204748,\n",
       " 9.672383016756703,\n",
       " 9.835102141397655,\n",
       " 10.53636924164767,\n",
       " 10.14418079505699,\n",
       " 10.278850442603067,\n",
       " 11.165890071399467,\n",
       " 10.789362874752195,\n",
       " 10.783288820810743,\n",
       " 10.545088011345948,\n",
       " 10.482180735844826,\n",
       " 10.603285862407077,\n",
       " 10.10954055647202,\n",
       " 9.846209537963775,\n",
       " 10.088050938604027,\n",
       " 9.654598596157125,\n",
       " 10.171706503393452,\n",
       " 9.998661246473363,\n",
       " 9.459730088509104,\n",
       " 9.302601892701166,\n",
       " 8.875358675353086,\n",
       " 9.104704307413371,\n",
       " 9.112428182107745,\n",
       " 9.668305018795282,\n",
       " 9.702141539807599,\n",
       " 9.821102973944809,\n",
       " 10.416668898208968,\n",
       " 9.979432344818811,\n",
       " 12.182655886516292,\n",
       " 12.355380867342756,\n",
       " 11.875690490894726,\n",
       " 11.314946063102683,\n",
       " 11.76846892358019,\n",
       " 12.678206912032115,\n",
       " 12.944397442225345,\n",
       " 12.855571524830673,\n",
       " 13.326770941036354,\n",
       " 13.480622964071989,\n",
       " 15.645419488479238,\n",
       " 16.705554249742182,\n",
       " 16.664756815267943,\n",
       " 15.758719162394733,\n",
       " 15.14547361628565,\n",
       " 15.88716270786427,\n",
       " 16.37200774534018,\n",
       " 18.47891750286171,\n",
       " 18.123632991495533,\n",
       " 19.051041232454757,\n",
       " 19.333453355610253,\n",
       " 21.215405087169962,\n",
       " 20.831287184552096,\n",
       " 19.22436990531303,\n",
       " 19.852368971479798,\n",
       " 19.473812790628536,\n",
       " 19.21749372813562,\n",
       " 18.568623403631552,\n",
       " 17.532711063663402,\n",
       " 16.96447050686677,\n",
       " 17.919894199009775,\n",
       " 17.410258335539424,\n",
       " 17.269870241000206,\n",
       " 17.89623625999733,\n",
       " 17.32833241770915,\n",
       " 17.42978268491708,\n",
       " 19.18511132729123,\n",
       " 19.933235481257633,\n",
       " 20.503397125640912,\n",
       " 20.096124926108676,\n",
       " 20.05893406415646,\n",
       " 22.519967912975428,\n",
       " 22.258365600873248,\n",
       " 24.136939353691265,\n",
       " 22.361380334467455,\n",
       " 23.070286727733766,\n",
       " 23.003652330962108,\n",
       " 21.60672139411078,\n",
       " 21.508217424369267,\n",
       " 21.54878726399858,\n",
       " ...]"
      ]
     },
     "execution_count": 36,
     "metadata": {},
     "output_type": "execute_result"
    }
   ],
   "source": [
    "predictions #this prediction"
   ]
  },
  {
   "cell_type": "code",
   "execution_count": 37,
   "metadata": {},
   "outputs": [
    {
     "data": {
      "text/plain": [
       "[27.7880594049248,\n",
       " 27.76556171322548,\n",
       " 27.749715450090093,\n",
       " 27.738553713274136,\n",
       " 27.73069189430435,\n",
       " 27.725154379388833,\n",
       " 27.7212539968259,\n",
       " 27.718506736556034,\n",
       " 27.716571684730887,\n",
       " 27.715208717133937,\n",
       " 27.714248701025774,\n",
       " 27.713572506687928,\n",
       " 27.71309622419375,\n",
       " 27.712760751072956,\n",
       " 27.712524458098375,\n",
       " 27.71235802339614,\n",
       " 27.71224079386142,\n",
       " 27.712158222365048,\n",
       " 27.712100062512373,\n",
       " 27.712059097186074,\n",
       " 27.712030242947076,\n",
       " 27.712009919247585,\n",
       " 27.711995604096526,\n",
       " 27.71198552111171,\n",
       " 27.71197841908547,\n",
       " 27.71197341671928,\n",
       " 27.71196989326437,\n",
       " 27.711967411492115,\n",
       " 27.711965663436985,\n",
       " 27.71196443218081]"
      ]
     },
     "execution_count": 37,
     "metadata": {},
     "output_type": "execute_result"
    }
   ],
   "source": [
    "#now use whole data as training data and predict future 30 days\n",
    "history = [x for x in df.close]\n",
    "predictions = list()\n",
    "for t in range(30):\n",
    "    model = ARIMA(history, order=(1,1,1))\n",
    "    model_fit = model.fit()\n",
    "    output = model_fit.forecast()\n",
    "    yhat = output[0]\n",
    "    predictions.append(yhat)\n",
    "    history.append(yhat)\n",
    "predictions"
   ]
  },
  {
   "cell_type": "code",
   "execution_count": 38,
   "metadata": {},
   "outputs": [
    {
     "name": "stdout",
     "output_type": "stream",
     "text": [
      "Performing stepwise search to minimize aic\n",
      " ARIMA(2,1,2)(0,0,0)[0] intercept   : AIC=16659.685, Time=0.98 sec\n",
      " ARIMA(0,1,0)(0,0,0)[0] intercept   : AIC=16665.175, Time=0.24 sec\n",
      " ARIMA(1,1,0)(0,0,0)[0] intercept   : AIC=16658.856, Time=0.36 sec\n",
      " ARIMA(0,1,1)(0,0,0)[0] intercept   : AIC=16658.282, Time=0.41 sec\n",
      " ARIMA(0,1,0)(0,0,0)[0]             : AIC=16663.213, Time=0.47 sec\n",
      " ARIMA(1,1,1)(0,0,0)[0] intercept   : AIC=16655.771, Time=1.44 sec\n",
      " ARIMA(2,1,1)(0,0,0)[0] intercept   : AIC=16657.620, Time=0.96 sec\n",
      " ARIMA(1,1,2)(0,0,0)[0] intercept   : AIC=16657.723, Time=0.66 sec\n",
      " ARIMA(0,1,2)(0,0,0)[0] intercept   : AIC=16657.362, Time=0.52 sec\n",
      " ARIMA(2,1,0)(0,0,0)[0] intercept   : AIC=16657.821, Time=0.46 sec\n",
      " ARIMA(1,1,1)(0,0,0)[0]             : AIC=16653.815, Time=1.03 sec\n",
      " ARIMA(0,1,1)(0,0,0)[0]             : AIC=16656.321, Time=0.31 sec\n",
      " ARIMA(1,1,0)(0,0,0)[0]             : AIC=16656.895, Time=0.25 sec\n",
      " ARIMA(2,1,1)(0,0,0)[0]             : AIC=16655.460, Time=1.48 sec\n",
      " ARIMA(1,1,2)(0,0,0)[0]             : AIC=16655.767, Time=0.56 sec\n",
      " ARIMA(0,1,2)(0,0,0)[0]             : AIC=16655.404, Time=0.46 sec\n",
      " ARIMA(2,1,0)(0,0,0)[0]             : AIC=16655.862, Time=0.46 sec\n",
      " ARIMA(2,1,2)(0,0,0)[0]             : AIC=16657.730, Time=1.02 sec\n",
      "\n",
      "Best model:  ARIMA(1,1,1)(0,0,0)[0]          \n",
      "Total fit time: 12.086 seconds\n"
     ]
    },
    {
     "name": "stderr",
     "output_type": "stream",
     "text": [
      "C:\\Users\\zcj10\\AppData\\Roaming\\Python\\Python37\\site-packages\\statsmodels\\tsa\\statespace\\tools.py:538: RuntimeWarning: invalid value encountered in sqrt\n",
      "  x = r / ((1 - r**2)**0.5)\n",
      "C:\\Users\\zcj10\\AppData\\Roaming\\Python\\Python37\\site-packages\\statsmodels\\base\\model.py:568: ConvergenceWarning: Maximum Likelihood optimization failed to converge. Check mle_retvals\n",
      "  ConvergenceWarning)\n"
     ]
    },
    {
     "ename": "TypeError",
     "evalue": "predict() missing 1 required positional argument: 'params'",
     "output_type": "error",
     "traceback": [
      "\u001b[1;31m---------------------------------------------------------------------------\u001b[0m",
      "\u001b[1;31mTypeError\u001b[0m                                 Traceback (most recent call last)",
      "\u001b[1;32m<ipython-input-38-b7b5c2b52046>\u001b[0m in \u001b[0;36m<module>\u001b[1;34m\u001b[0m\n\u001b[0;32m      5\u001b[0m \u001b[0mmodel2\u001b[0m \u001b[1;33m=\u001b[0m \u001b[0mauto_arima\u001b[0m\u001b[1;33m(\u001b[0m\u001b[0mdf\u001b[0m\u001b[1;33m.\u001b[0m\u001b[0mclose\u001b[0m\u001b[1;33m,\u001b[0m \u001b[0mexogenous\u001b[0m\u001b[1;33m=\u001b[0m\u001b[0mcrude_price\u001b[0m\u001b[1;33m,\u001b[0m\u001b[0mtrace\u001b[0m\u001b[1;33m=\u001b[0m\u001b[1;32mTrue\u001b[0m\u001b[1;33m,\u001b[0m \u001b[0merror_function\u001b[0m\u001b[1;33m=\u001b[0m\u001b[1;34m'ignore'\u001b[0m\u001b[1;33m,\u001b[0m\u001b[0msuppress_warning\u001b[0m\u001b[1;33m=\u001b[0m\u001b[1;32mTrue\u001b[0m\u001b[1;33m)\u001b[0m\u001b[1;33m\u001b[0m\u001b[1;33m\u001b[0m\u001b[0m\n\u001b[0;32m      6\u001b[0m \u001b[0mmodel\u001b[0m\u001b[1;33m.\u001b[0m\u001b[0mfit\u001b[0m\u001b[1;33m(\u001b[0m\u001b[0mdf\u001b[0m\u001b[1;33m.\u001b[0m\u001b[0mclose\u001b[0m\u001b[1;33m)\u001b[0m\u001b[1;33m\u001b[0m\u001b[1;33m\u001b[0m\u001b[0m\n\u001b[1;32m----> 7\u001b[1;33m \u001b[0mforecast\u001b[0m\u001b[1;33m=\u001b[0m \u001b[0mmodel\u001b[0m\u001b[1;33m.\u001b[0m\u001b[0mpredict\u001b[0m\u001b[1;33m(\u001b[0m\u001b[0mn_periods\u001b[0m\u001b[1;33m=\u001b[0m\u001b[1;36m30\u001b[0m\u001b[1;33m)\u001b[0m\u001b[1;33m\u001b[0m\u001b[1;33m\u001b[0m\u001b[0m\n\u001b[0m\u001b[0;32m      8\u001b[0m \u001b[0mforecast\u001b[0m \u001b[1;33m=\u001b[0m\u001b[0mpd\u001b[0m\u001b[1;33m.\u001b[0m\u001b[0mDataFrame\u001b[0m\u001b[1;33m(\u001b[0m\u001b[0mforecast\u001b[0m\u001b[1;33m,\u001b[0m \u001b[0mcolumns\u001b[0m\u001b[1;33m=\u001b[0m\u001b[1;33m[\u001b[0m\u001b[1;34m'Prediction'\u001b[0m\u001b[1;33m]\u001b[0m\u001b[1;33m)\u001b[0m\u001b[1;33m\u001b[0m\u001b[1;33m\u001b[0m\u001b[0m\n\u001b[0;32m      9\u001b[0m \u001b[0mforecast\u001b[0m\u001b[1;33m\u001b[0m\u001b[1;33m\u001b[0m\u001b[0m\n",
      "\u001b[1;31mTypeError\u001b[0m: predict() missing 1 required positional argument: 'params'"
     ]
    }
   ],
   "source": [
    "#build model using crude_oil as exogenous(outside factors)\n",
    "#An optional 2-d array of exogenous variables. \n",
    "#If provided, these variables are used as additional features in the regression operation. \n",
    "crude_price = df.crude_price.values.reshape(-1, 1)\n",
    "model2 = auto_arima(df.close, exogenous=crude_price,trace=True, error_function='ignore',suppress_warning=True)\n",
    "model.fit(df.close)\n",
    "forecast= model.predict(n_periods=30)\n",
    "forecast =pd.DataFrame(forecast, columns=['Prediction'])\n",
    "forecast"
   ]
  },
  {
   "cell_type": "code",
   "execution_count": null,
   "metadata": {},
   "outputs": [],
   "source": [
    "model2.summary()"
   ]
  },
  {
   "cell_type": "code",
   "execution_count": null,
   "metadata": {},
   "outputs": [],
   "source": [
    "model3 = ARIMA(df.close, order=(1,1,1))\n",
    "model.fit(df.close)\n",
    "forecast= model.predict(n_periods=30)\n",
    "forecast =pd.DataFrame(forecast, columns=['Prediction'])\n",
    "forecast"
   ]
  },
  {
   "cell_type": "code",
   "execution_count": null,
   "metadata": {},
   "outputs": [],
   "source": []
  }
 ],
 "metadata": {
  "kernelspec": {
   "display_name": "Python 3",
   "language": "python",
   "name": "python3"
  },
  "language_info": {
   "codemirror_mode": {
    "name": "ipython",
    "version": 3
   },
   "file_extension": ".py",
   "mimetype": "text/x-python",
   "name": "python",
   "nbconvert_exporter": "python",
   "pygments_lexer": "ipython3",
   "version": "3.7.4"
  }
 },
 "nbformat": 4,
 "nbformat_minor": 2
}
