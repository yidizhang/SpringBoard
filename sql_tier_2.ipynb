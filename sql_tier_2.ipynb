{
 "cells": [
  {
   "cell_type": "code",
   "execution_count": 3,
   "metadata": {},
   "outputs": [
    {
     "data": {
      "text/plain": [
       "[('Tennis Court 1',),\n",
       " ('Tennis Court 2',),\n",
       " ('Badminton Court',),\n",
       " ('Table Tennis',),\n",
       " ('Massage Room 1',),\n",
       " ('Massage Room 2',),\n",
       " ('Squash Court',),\n",
       " ('Snooker Table',),\n",
       " ('Pool Table',)]"
      ]
     },
     "execution_count": 3,
     "metadata": {},
     "output_type": "execute_result"
    }
   ],
   "source": [
    "import sqlite3\n",
    "conn = sqlite3.connect('sqlite_db_pythonsqlite.db')\n",
    "cur = conn.cursor()\n",
    "cur.execute('select distinct name from facilities').fetchall()\n"
   ]
  },
  {
   "cell_type": "code",
   "execution_count": 5,
   "metadata": {},
   "outputs": [
    {
     "data": {
      "text/plain": [
       "[('Table Tennis', 3240),\n",
       " ('Snooker Table', 5520),\n",
       " ('Pool Table', 14310),\n",
       " ('Badminton Court', 74353.5),\n",
       " ('Massage Room 2', 1183714.2),\n",
       " ('Tennis Court 2', 2335860),\n",
       " ('Tennis Court 1', 2381280),\n",
       " ('Squash Court', 3226510.0),\n",
       " ('Massage Room 1', 12337223.6)]"
      ]
     },
     "execution_count": 5,
     "metadata": {},
     "output_type": "execute_result"
    }
   ],
   "source": [
    "''' Q10: Produce a list of facilities with a total revenue less than 1000.\n",
    "The output of facility name and total revenue, sorted by revenue. Remember\n",
    "that there's a different cost for guests and members! '''\n",
    "\n",
    "sql_query = '''\n",
    "SELECT DISTINCT name AS facility_name, \n",
    "membercost * total_member_slots * total_member + guestcost * total_guest_slots * total_guest AS total_revenue\n",
    "FROM Facilities AS F\n",
    "LEFT JOIN (\n",
    "\n",
    "SELECT facid, SUM(CASE WHEN memid !=0 THEN 1 ELSE 0 END ) total_member, \n",
    "SUM(CASE WHEN memid =0 THEN 1 ELSE 0 END ) total_guest, \n",
    "SUM(CASE WHEN memid !=0 THEN slots ELSE 0 END ) total_member_slots, \n",
    "SUM(CASE WHEN memid =0 THEN slots ELSE 0 END ) total_guest_slots\n",
    "FROM Bookings\n",
    "GROUP BY facid) AS B \n",
    "ON B.facid = F.facid\n",
    "ORDER BY total_revenue\n",
    "'''\n",
    "cur.execute(sql_query).fetchall()"
   ]
  },
  {
   "cell_type": "code",
   "execution_count": 7,
   "metadata": {},
   "outputs": [
    {
     "data": {
      "text/plain": [
       "[('Bader Florence', 'Stibbons Ponder'),\n",
       " ('Baker Anne', 'Stibbons Ponder'),\n",
       " ('Baker Timothy', 'Farrell Jemima'),\n",
       " ('Boothe Tim', 'Rownam Tim'),\n",
       " ('Butters Gerald', 'Smith Darren'),\n",
       " ('Coplin Joan', 'Baker Timothy'),\n",
       " ('Crumpet Erica', 'Smith Tracy'),\n",
       " ('Dare Nancy', 'Joplette Janice'),\n",
       " ('Genting Matthew', 'Butters Gerald'),\n",
       " ('Hunt John', 'Purview Millicent'),\n",
       " ('Jones David', 'Joplette Janice'),\n",
       " ('Jones Douglas', 'Jones David'),\n",
       " ('Joplette Janice', 'Smith Darren'),\n",
       " ('Mackenzie Anna', 'Smith Darren'),\n",
       " ('Owen Charles', 'Smith Darren'),\n",
       " ('Pinker David', 'Farrell Jemima'),\n",
       " ('Purview Millicent', 'Smith Tracy'),\n",
       " ('Rumney Henrietta', 'Genting Matthew'),\n",
       " ('Sarwin Ramnaresh', 'Bader Florence'),\n",
       " ('Smith Jack', 'Smith Darren'),\n",
       " ('Stibbons Ponder', 'Tracy Burton'),\n",
       " ('Worthington-Smyth Henry', 'Smith Tracy')]"
      ]
     },
     "execution_count": 7,
     "metadata": {},
     "output_type": "execute_result"
    }
   ],
   "source": [
    "#Q11: Produce a report of members and who recommended them in alphabetic surname,firstname order\n",
    "sql_query =''' \n",
    "SELECT ( M1.surname ||' '|| M1.firstname ) AS member, ( M2.surname||' '|| M2.firstname ) AS recommendedby\n",
    "FROM Members AS M1\n",
    "INNER JOIN Members AS M2 ON M1.recommendedby = M2.memid\n",
    "WHERE M1.surname != 'guest'\n",
    "AND M2.surname != 'guest'\n",
    "ORDER BY M1.surname, M1.firstname\n",
    "'''\n",
    "cur.execute(sql_query).fetchall()"
   ]
  },
  {
   "cell_type": "code",
   "execution_count": 8,
   "metadata": {},
   "outputs": [
    {
     "data": {
      "text/plain": [
       "[('Badminton Court', 344),\n",
       " ('Massage Room 1', 421),\n",
       " ('Massage Room 2', 27),\n",
       " ('Pool Table', 783),\n",
       " ('Snooker Table', 421),\n",
       " ('Squash Court', 195),\n",
       " ('Table Tennis', 385),\n",
       " ('Tennis Court 1', 308),\n",
       " ('Tennis Court 2', 276)]"
      ]
     },
     "execution_count": 8,
     "metadata": {},
     "output_type": "execute_result"
    }
   ],
   "source": [
    "# Q12: Find the facilities with their usage by member, but not guests \n",
    "sql_query ='''\n",
    "SELECT F.name AS facility_name, \n",
    "SUM(CASE WHEN B.memid !=0 THEN 1 ELSE 0 END ) AS total_usage_by_member\n",
    "FROM Facilities AS F\n",
    "INNER JOIN Bookings AS B ON F.facid = B.facid\n",
    "INNER JOIN Members AS M ON B.memid = M.memid\n",
    "GROUP BY facility_name'''\n",
    "cur.execute(sql_query).fetchall()"
   ]
  },
  {
   "cell_type": "code",
   "execution_count": 12,
   "metadata": {},
   "outputs": [
    {
     "data": {
      "text/plain": [
       "[('Tennis Court 1', '07', 65),\n",
       " ('Tennis Court 1', '08', 111),\n",
       " ('Tennis Court 1', '09', 132),\n",
       " ('Tennis Court 2', '07', 41),\n",
       " ('Tennis Court 2', '08', 109),\n",
       " ('Tennis Court 2', '09', 126),\n",
       " ('Badminton Court', '07', 51),\n",
       " ('Badminton Court', '08', 132),\n",
       " ('Badminton Court', '09', 161),\n",
       " ('Table Tennis', '07', 48),\n",
       " ('Table Tennis', '08', 143),\n",
       " ('Table Tennis', '09', 194),\n",
       " ('Massage Room 1', '07', 77),\n",
       " ('Massage Room 1', '08', 153),\n",
       " ('Massage Room 1', '09', 191),\n",
       " ('Massage Room 2', '07', 4),\n",
       " ('Massage Room 2', '08', 9),\n",
       " ('Massage Room 2', '09', 14),\n",
       " ('Squash Court', '07', 23),\n",
       " ('Squash Court', '08', 85),\n",
       " ('Squash Court', '09', 87),\n",
       " ('Snooker Table', '07', 68),\n",
       " ('Snooker Table', '08', 154),\n",
       " ('Snooker Table', '09', 199),\n",
       " ('Pool Table', '07', 103),\n",
       " ('Pool Table', '08', 272),\n",
       " ('Pool Table', '09', 408)]"
      ]
     },
     "execution_count": 12,
     "metadata": {},
     "output_type": "execute_result"
    }
   ],
   "source": [
    "# Q13: Find the facilities usage by month, but not guests \n",
    "sql_query='''\n",
    "SELECT F.name AS facility_name,\n",
    "MONTH , total_member_usage\n",
    "FROM Facilities AS F\n",
    "INNER JOIN \n",
    "(SELECT memid, facid, SUM(CASE WHEN memid !=0 THEN 1 ELSE 0 END ) AS total_member_usage, \n",
    "(select strftime('%m', starttime)) AS month\n",
    "FROM Bookings\n",
    "GROUP BY facid,MONTH) AS B \n",
    "ON F.facid = B.facid\n",
    "INNER JOIN Members AS M \n",
    "ON M.memid = B.memid'''\n",
    "cur.execute(sql_query).fetchall()"
   ]
  },
  {
   "cell_type": "code",
   "execution_count": null,
   "metadata": {},
   "outputs": [],
   "source": []
  }
 ],
 "metadata": {
  "kernelspec": {
   "display_name": "Python 3",
   "language": "python",
   "name": "python3"
  },
  "language_info": {
   "codemirror_mode": {
    "name": "ipython",
    "version": 3
   },
   "file_extension": ".py",
   "mimetype": "text/x-python",
   "name": "python",
   "nbconvert_exporter": "python",
   "pygments_lexer": "ipython3",
   "version": "3.7.4"
  }
 },
 "nbformat": 4,
 "nbformat_minor": 2
}
