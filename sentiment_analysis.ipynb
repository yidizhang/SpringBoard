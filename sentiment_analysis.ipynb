{
 "cells": [
  {
   "cell_type": "code",
   "execution_count": 1,
   "metadata": {},
   "outputs": [
    {
     "name": "stdout",
     "output_type": "stream",
     "text": [
      "Requirement already satisfied: newsapi-python in c:\\users\\zcj10\\anaconda3\\lib\\site-packages (0.2.6)\n",
      "Requirement already satisfied: requests<3.0.0 in c:\\users\\zcj10\\anaconda3\\lib\\site-packages (from newsapi-python) (2.24.0)\n",
      "Requirement already satisfied: urllib3!=1.25.0,!=1.25.1,<1.26,>=1.21.1 in c:\\users\\zcj10\\anaconda3\\lib\\site-packages (from requests<3.0.0->newsapi-python) (1.24.2)\n",
      "Requirement already satisfied: chardet<4,>=3.0.2 in c:\\users\\zcj10\\anaconda3\\lib\\site-packages (from requests<3.0.0->newsapi-python) (3.0.4)\n",
      "Requirement already satisfied: idna<3,>=2.5 in c:\\users\\zcj10\\anaconda3\\lib\\site-packages (from requests<3.0.0->newsapi-python) (2.8)\n",
      "Requirement already satisfied: certifi>=2017.4.17 in c:\\users\\zcj10\\anaconda3\\lib\\site-packages (from requests<3.0.0->newsapi-python) (2020.6.20)\n",
      "Requirement already satisfied: bs4 in c:\\users\\zcj10\\anaconda3\\lib\\site-packages (0.0.1)\n",
      "Requirement already satisfied: beautifulsoup4 in c:\\users\\zcj10\\anaconda3\\lib\\site-packages (from bs4) (4.8.0)\n",
      "Requirement already satisfied: soupsieve>=1.2 in c:\\users\\zcj10\\anaconda3\\lib\\site-packages (from beautifulsoup4->bs4) (1.9.3)\n",
      "Requirement already satisfied: TextBlob in c:\\users\\zcj10\\anaconda3\\lib\\site-packages (0.15.3)\n",
      "Requirement already satisfied: nltk>=3.1 in c:\\users\\zcj10\\anaconda3\\lib\\site-packages (from TextBlob) (3.4.5)\n",
      "Requirement already satisfied: six in c:\\users\\zcj10\\anaconda3\\lib\\site-packages (from nltk>=3.1->TextBlob) (1.12.0)\n",
      "[{'description': 'Dow Jones futures were in focus late Tuesday, as the coronavirus stimulus deadline looms. Netflix and Snap reported earnings.', 'guid': 'f80675a8-ca9b-35df-8cbf-0992f7088530', 'link': 'https://finance.yahoo.com/m/f80675a8-ca9b-35df-8cbf-0992f7088530/dow-jones-futures%3A-stock.html?.tsrc=rss', 'pubDate': 'Wed, 21 Oct 2020 02:18:11 +0000', 'title': 'Dow Jones Futures: Stock Market Rally Hits Pelosi Stimulus Deadline; Netflix Dives, While Snap Rockets 24% On Earnings'}, {'description': 'COMPANY CLOSE UPDATES  Terrence Horan Shares of Tesla Inc. TSLA shed 2.06% to $421.94 Tuesday, on what proved to be an all-around positive trading session for the stock market, with the NASDAQ Composite Index COMP rising 0.', 'guid': '18e06b4c-db85-399b-a4d9-14d8d1229ee9', 'link': 'https://finance.yahoo.com/m/18e06b4c-db85-399b-a4d9-14d8d1229ee9/tesla-inc.-stock.html?.tsrc=rss', 'pubDate': 'Tue, 20 Oct 2020 20:25:00 +0000', 'title': 'Tesla Inc. stock underperforms Tuesday when compared to competitors'}, {'description': 'The Hummer electric pickup, which GM is unveiling Tuesday, takes on Tesla&#39;s upcoming Cybertruck.', 'guid': '802eca80-1bb9-3992-b0c1-8fb409fa1b90', 'link': 'https://finance.yahoo.com/m/802eca80-1bb9-3992-b0c1-8fb409fa1b90/gm-is-about-to-reveal-its.html?.tsrc=rss', 'pubDate': 'Tue, 20 Oct 2020 20:10:29 +0000', 'title': 'GM Is About To Reveal Its Answer To Tesla&#39;s Cybertruck As Billions More Pour Into EVs'}, {'description': 'Tesla earnings follow blowout Q3 deliveries, as production recovered from pandemic factory shutdowns.', 'guid': '3c8875c2-7895-398e-be03-fd8b5c379dc3', 'link': 'https://finance.yahoo.com/m/3c8875c2-7895-398e-be03-fd8b5c379dc3/tesla-earnings-to-spotlight.html?.tsrc=rss', 'pubDate': 'Tue, 20 Oct 2020 20:07:44 +0000', 'title': 'Tesla Earnings To Spotlight This &#39;Linchpin&#39; For Its Electric Cars'}, {'description': 'The electric carmaker has stuck to its forecast of delivering half a million vehicles in 2020 despite a global pandemic and economic upheaval that has sunk most of its internal combustion rivals deep into the red.  Analysts on average expect Tesla to report net income of $593 million in the third quarter on revenue of $8.4 billion, according to Refinitiv data.  Several analysts, including Frank Schwope at Nord/LB, believe the positive numbers are due to regulatory credits - payments Tesla receives from other carmakers to offset their emissions.', 'guid': '0e8c901d-3bfa-3460-9205-6a4c81551d57', 'link': 'https://finance.yahoo.com/news/tesla-analysts-hope-musk-sign-200224418.html?.tsrc=rss', 'pubDate': 'Tue, 20 Oct 2020 20:02:24 +0000', 'title': 'Can Tesla hit 2020 delivery goal? Investors watch for Musk steer'}, {'description': 'The following originally appeared on Options AIEarnings season is in full swing. And with that, it&#39;s a good opportunity to talk about event-trading using options - with particular focus on using the expected move to your advantage in price target and strike selection.We&#39;ll focus on two big names set to report, Netflix Inc (NASDAQ: NFLX) and Tesla Inc (NASDAQ: TSLA).What is the Expected Move? The expected move is the amount that options traders believe a stock price will move up or down. It can serve as a quick way to cut through the noise and see where real-money option traders are pricing the future of a stock. On Options AI, it is calculated using real-time option prices and displayed on a chart like this in Netflix:  Source: Options AIKnowing this consensus before making a trade can be incredibly powerful, regardless of whether you&#39;re using stock or options to make your trade. A helping hand with setting more informed price targets as well as a useful basis for starting strike selection. Let&#39;s go to some examples, using Netflix, which reports earnings Tuesday after the close.The bullish consensus for this Friday is around $570 and the bearish consensus near $490.Income Generating Strategies First, we&#39;ll look at a neutral view and income-generating trades. This is &quot;selling the move&quot; to both bulls and bears. A view that both buyers of calls and buyers of puts are over-estimating the size of any potential stock move. Premium (or income) received from selling options is kept if the stock stays within a range.  Source: Options AIThe Iron Condor is one strategy used for this purpose. The Iron Condor involves selling a call spread and simultaneously selling a put spread, generating upfront income to the seller and offering defined-risk if things go wrong. With four option legs involved, strike selection can be a lengthy and confusing process. But using the expected move we can set strikes to sell to those looking for moves beyond the crowd, as seen on this chart:  \\u200b\\u200b\\u200b\\u200b\\u200b\\u200b\\u200bSource: Options AIDirectional Trading - Bullish Using a bullish price target, we can set up two spread trades also based around the expected move: a debit call spread to the bullish consensus, and a credit put spread, to the bearish consensus:View more earnings on NFLX  \\u200b\\u200b\\u200b\\u200b\\u200b\\u200b\\u200bSource: Options AIDirectional Trading Beyond the Expected Move Those are examples for either positioning to the expected move or inside the expected move. What about outside? For those expecting moves beyond the expected move, you can look to take advantage of the market potentially underpricing the possibilities. In this case, the expected move can still be a useful guide. Taking an example price target, to $600, well outside the expected move:  \\u200b\\u200b\\u200b\\u200b\\u200b\\u200b\\u200bSource: Options AIHere we see a debit call spread with the long call set at the current stock price and the short call at the target, but also a less expensive call spread with the long call set at the expected move and the short call at the target. (The same thinking can be used for bearish targets.)Tesla Looking at Tesla the numbers change but the concepts remain the same. Here&#39;s the expected move to this Friday, with a bullish consensus about $465 and bearish near $400:  \\u200b\\u200b\\u200b\\u200b\\u200b\\u200b\\u200bSource: Options AIComparing trade types directly, we can see the difference in cost and probability of a call spread (to the expected move) versus an outright call, but we can also dive deeper into the components of that call spread to compare it to out of the money calls:  \\u200b\\u200b\\u200b\\u200b\\u200b\\u200b\\u200bSource: Options AIThe +430/-465 call spread is almost half the price of the +430 call. And if we look at the components of that call spread we see that the cost of the spread is 11.70, versus the -465 call that costs nearly $9. So, for just a few dollars more, one can buy the call spread with a break-even $10 higher in the stock, rather than buying the out of the money call that has a break-even $43 higher in the stock:  \\u200b\\u200b\\u200b\\u200b\\u200b\\u200b\\u200bSource: Options AISummary The expected move can provide actionable insight to consider before making any trade, particularly into an uncertain event. Whether gut-checking your own expectations versus the options crowd, generating trade ideas from option market signals, or for more informed strike selection.Options AI is an online brokerage. But it has just launched some free tools, including an expected move calculator and earnings calendar where one can compare expected moves (using end of day options prices). Give it a try here: Options AI Expected Move CalculatorOptions AI does not provide investment, tax or legal advice and does not endorse or recommend the purchase or sale of any particular security or trading strategy. All content is meant for informational and reference purposes only. Any data or information regarding the likelihood of various investment outcomes is hypothetical in nature, does not reflect the opinions of Options AI and is not a guarantee of future results. Options transactions involve risk and are not suitable for all investors. Prior to deciding to invest in options please review the Characteristics and Risks of Standardized Options.See more from Benzinga  * Options Trades For This Crazy Market: Get Benzinga Options to Follow High-Conviction Trade Ideas  * Walk The Walk: Diversity And Inclusion In The Legal Industry  * GMC Electric Hummer Picture Leaks Before Unveil(C) 2020 Benzinga.com. Benzinga does not provide investment advice. All rights reserved.', 'guid': '635a4cf2-3007-36ac-9999-54677ef8b974', 'link': 'https://finance.yahoo.com/news/trade-netflix-tesla-earnings-reports-185753168.html?.tsrc=rss', 'pubDate': 'Tue, 20 Oct 2020 18:57:53 +0000', 'title': 'How To Trade The Netflix And Tesla Earnings Reports Using Options'}, {'description': 'The Zacks Analyst Blog Highlights: General Motors, Navistar, Ford, Tesla and Penske', 'guid': '0ae365fa-3f8d-3759-8e03-19942dce7157', 'link': 'https://finance.yahoo.com/news/zacks-analyst-blog-highlights-general-181906723.html?.tsrc=rss', 'pubDate': 'Tue, 20 Oct 2020 18:19:06 +0000', 'title': 'The Zacks Analyst Blog Highlights: General Motors, Navistar, Ford, Tesla and Penske'}, {'description': 'The Dow Jones rallied from a session pullback as the Tuesday coronavirus stimulus deadline set by House Speaker Nancy Pelosi draws closer.', 'guid': '4a7cee66-f0fe-38f5-9fac-6bf27c63d63b', 'link': 'https://finance.yahoo.com/m/4a7cee66-f0fe-38f5-9fac-6bf27c63d63b/dow-jones-rallies-as-pelosi.html?.tsrc=rss', 'pubDate': 'Tue, 20 Oct 2020 17:46:17 +0000', 'title': 'Dow Jones Rallies As Pelosi Stimulus Deadline Looms; This Top Stock Fizzes Past Buy Point'}, {'description': \"Cross-Sell compiled vehicle registration data and found that, although overall third-quarter Tesla deliveries hit a record at 139,900, Tesla registrations were down 13% year over year in the Golden State.  The primary culprit was a big drop in Model 3 registrations.  A pioneer in promoting electric vehicle (EV) ownership and use, California's electric vehicle market is seen as a bellwether for the U.S. EV industry as a whole.\", 'guid': 'c8c3401e-74af-328c-9eaa-f3fde1eeb641', 'link': 'https://finance.yahoo.com/m/c8c3401e-74af-328c-9eaa-f3fde1eeb641/ahead-of-q3-earnings%2C-tesla.html?.tsrc=rss', 'pubDate': 'Tue, 20 Oct 2020 17:40:00 +0000', 'title': 'Ahead of Q3 Earnings, Tesla Sees Mixed Picture in California'}, {'description': \"The Nasdaq Composite (NASDAQINDEX: ^IXIC) gained ground at midday on Tuesday, rebounding from a drop of nearly 2% on Monday.  Just after 12:30 p.m. EDT, the Nasdaq was up nearly 1%.  Earnings season continues, and today, it was Logitech's (NASDAQ: LOGI) turn to blow its numbers out of the park with an amazing performance.\", 'guid': 'bc08b64e-e517-3e30-8120-a56e7bb6f8b9', 'link': 'https://finance.yahoo.com/m/bc08b64e-e517-3e30-8120-a56e7bb6f8b9/logitech-pulls-nasdaq-higher%3B.html?.tsrc=rss', 'pubDate': 'Tue, 20 Oct 2020 17:32:00 +0000', 'title': 'Logitech Pulls Nasdaq Higher; Tesla Braces for Earnings'}, {'description': 'Key market indexes held solid gains midday amid stimulus aid hopes, with the Dow Jones Industrial Average up nearly 250 points.', 'guid': '1089ad3a-8771-3dd9-a13d-320f99fd487f', 'link': 'https://finance.yahoo.com/m/1089ad3a-8771-3dd9-a13d-320f99fd487f/dow-jones-up-200-points-on.html?.tsrc=rss', 'pubDate': 'Tue, 20 Oct 2020 16:51:40 +0000', 'title': 'Dow Jones Up 200 Points On Stimulus Deal Hopes; This Hot Growth Stock Breaks Out'}, {'description': 'Tesla is set to report earnings Wednesday. After a dip leading up to the results, what should investors expect? Let&#39;s look at the charts.', 'guid': '0d265fbb-7f4c-3812-8411-5ba1f4a7ec09', 'link': 'https://finance.yahoo.com/m/0d265fbb-7f4c-3812-8411-5ba1f4a7ec09/tesla%26%2339%3Bs-key-trading.html?.tsrc=rss', 'pubDate': 'Tue, 20 Oct 2020 16:30:00 +0000', 'title': 'Tesla&#39;s Key Trading Levels to Know Ahead of Earnings'}, {'description': 'As a new auto manufacturer, it&#39;s not a surprise if Tesla Inc (NASDAQ: TSLA) has less than perfect manufacturing. Critics often cite Tesla&#39;s panel gaps or sub-par paint. But a rare issue of bumpers falling off of Model 3s driving through puddles has been following the Model 3 since its launch.Now Tesla has released a service bulletin, obtained by Electrek, shows that Tesla is aware of the issue and has come up with a fix for owners. The note for the fix reads:&gt; &quot;replace the rear fascia diffuser with one that has a covered opening for a tow hitch (with improved wade performance), make sure the vehicle is equipped with the updated front aero shield (1104312-00-B or later) and mid aero shield(1104313-00-B or later), and replace or repair any other component that was damaged as necessary.&quot;Benzinga&#39;s Take: While having a bumper fall off after driving through a bit of water is embarrassing, it&#39;s lucky it&#39;s not a safety issue. Car recalls and service bulletins are normal for the industry, and in that regard, the Model 3 has done quite well with no recalls on major systems such as batter, motors or Autopilot related features. Now if owners have any worries, they can get the part repaired for free by Tesla.Photo courtesy of Tesla.See more from Benzinga  * Options Trades For This Crazy Market: Get Benzinga Options to Follow High-Conviction Trade Ideas  * Tesla Begins Exporting China-Made Model 3s To Europe  * Tesla Withdraws &#39;No-Questions-Asked&#39; 7-Day Return Policy(C) 2020 Benzinga.com. Benzinga does not provide investment advice. All rights reserved.', 'guid': 'ea695710-5ab4-3892-be56-08d64e160f32', 'link': 'https://finance.yahoo.com/news/tesla-bulletin-addresses-issue-bumpers-162052588.html?.tsrc=rss', 'pubDate': 'Tue, 20 Oct 2020 16:20:52 +0000', 'title': 'Tesla Service Bulletin Addresses Issue Of Bumpers Falling Off Model 3'}, {'description': 'The Dow Jones Industrial Average jumped 250 points on coronavirus stimulus optimism Tuesday. Tesla skidded, while IBM plunged on earnings.', 'guid': '10b8e69e-ea51-3d79-9cd5-d7f9c132b66f', 'link': 'https://finance.yahoo.com/m/10b8e69e-ea51-3d79-9cd5-d7f9c132b66f/dow-jones-jumps-250-points-on.html?.tsrc=rss', 'pubDate': 'Tue, 20 Oct 2020 16:06:13 +0000', 'title': 'Dow Jones Jumps 250 Points On Coronavirus Stimulus Hopes; Shopify, Tesla Tumble, While IBM Plunges On Earnings'}, {'description': '(Bloomberg) -- General Motors Co. is investing more than $2 billion in six U.S. plants, including a makeover of a former Saturn plant in Tennessee into its third factory to produce electric models.The automaker said Tuesday that it will build the first fully electric Cadillac -- the Lyriq crossover sport-utility vehicle -- in Spring Hill, Tennessee. As part of the decision, GM will move the Acadia SUV in the future to a plant in Lansing, Michigan.The investment won’t include adding new jobs, but it is significant because it accelerates GM’s shift to battery-powered models.GM shares rose 5.8% to an eight-month high of $35.28 as of noon in New York.It’s part of a previously announced plan to produce 20 electric vehicles globally by 2023. The company has said its Ultium battery pack will provide at least 300 miles of range, which is competitive with Tesla Inc.’s plug-in cars and SUVs.What Bloomberg Intelligence Says:“GM’s plans to convert idled or underutilized factories for electric-vehicle production underscore the automaker’s flexibility to move from inactive to competitor on electrification once EV profitability improves enough to warrant a committed effort. Rivals have to acquire abandoned factories (Lordstown Motors), greenfield them (Tesla, Lucid, Nikola) or pay another manufacturer to build for them (NIO) at significantly higher investment.”&#92;-- Kevin Tynan, senior autos analystClick here to read the researchGM’s plant in Lake Orion, Michigan, assembles the Chevrolet Bolt and will make a larger version of the same vehicle starting next year. The automaker said last week its factory straddling Detroit and the city of Hamtramck will make the electric GMC Hummer SUV that it will introduce on television Oct. 20.With Spring Hill added to the mix to make the Lyriq, it also could also be in line to produce other electric models alongside the Cadillac XT5 and XT6 SUVs, GM said.GM also said that moving the Acadia to its plant near Lansing will cost $100 million.Other parts of the plan include a $32 million investment at its Flint Assembly for future production of heavy-duty Chevrolet Silverado and GMC Sierra pickups, $17 million in changes at a factory in Romulus, Michigan, to increase capacity for 10-speed truck transmissions, which are used in full-size pickups and other key products. GM will also make $3.5 million in upgrades at Orion Assembly.(Updates with shares in fourth paragraph.)For more articles like this, please visit us at bloomberg.comSubscribe now to stay ahead with the most trusted business news source.©2020 Bloomberg L.P.', 'guid': '95742ae3-e019-394e-a9a6-2f6c2a5e4f16', 'link': 'https://finance.yahoo.com/news/gm-plan-third-electric-vehicle-160119441.html?.tsrc=rss', 'pubDate': 'Tue, 20 Oct 2020 16:01:19 +0000', 'title': 'GM\\xa0to Plan Third Electric-Vehicle Plant in Big Plug-In Bet'}, {'description': 'The luxury carmaker has reasonable chances of beating estimates this quarter and has seen positive earnings revisions, which are generally a precursor to an earnings beat, ahead of its Q3 report.', 'guid': '238c5923-14b4-340c-adf7-728799c8e3a1', 'link': 'https://finance.yahoo.com/news/why-buy-tesla-etfs-ahead-155003462.html?.tsrc=rss', 'pubDate': 'Tue, 20 Oct 2020 15:50:03 +0000', 'title': 'Why You Should Buy Tesla ETFs Ahead of Q3 Earnings'}, {'description': 'On Wednesday after the close, Tesla Inc (NASDAQ: TSLA) is scheduled to pop the hood to give investors a look at its performance during the third quarter, which was a wild ride for the electric car maker&#39;s shares.One question is whether TSLA can report a profit for the fifth quarter in a row.Last time around the company handily beat expectations, posting positive earnings per share when analysts had expected a loss. For Wednesday&#39;s report, a consensus of analysts is expecting earnings of $0.56 per share on revenue of $8.26 billion.Can TSLA Deliver 500,000 Vehicles This Year? In addition to seeing whether TSLA&#39;s results will top expectations again, TSLA investors are likely to be looking for additional clues as to whether the electric vehicle maker is on track to deliver 500,000 vehicles this year. In January, it said deliveries should &quot;comfortably exceed&quot; that milestone.Earlier this month, the company said it delivered a record 139,300 vehicles during the third quarter, bringing its total for the first nine months of the year to 318,350.A few days after the latest numbers were released, industry blog Tesmanian reported that CEO Elon Musk told TSLA employees in an email that the company has a chance to make 500,000 vehicles this year, depending on how things go during the fourth quarter. While production numbers are different than delivery figures, producing 500,000 vehicles in a year wouldn&#39;t be too shabby either.Deliveries of Model 3s made in China have helped boost Tesla&#39;s delivery figures. Investors will also likely want an update on the ramp up at Tesla&#39;s Shanghai factory, where construction is ongoing on its Model Y line and deliveries are expected to begin next year.A Stock Split, A Battery Event, And An Overall Volatile Quarter On Aug. 11, the company announced a 5-for-1 stock split, and shares went on a tear (see chart below). Retail investors often use stock splits as trading opportunities, accessing popular names that may have gotten too expensive pre-split. But sometimes buying interest cools off a little post-split, and some analysts were warning that Tesla&#39;s shares might have been approaching overheated territory.After the split, shares retreated. There was pressure from broader selling in tech-related names in early September. News of a planned General Motors Company (NYSE: GM) partnership with auto-tech newbie Nikola Corporation (NASDAQ: NKLA) as it ramps up its foray into electric- and hydrogen-powered cars also weighed on TSLA, as did news that TSLA didn&#39;t get included in the S&P 500 Index (SPX), despite meeting the eligibility requirement of four consecutive quarters of profitability by generally-acceptable accounting principles (GAAP). Such an inclusion would have meant that a lot of index funds would have to buy shares so their holdings match the index components and weightings.The company&#39;s shares began moving higher once again, but then got hammered after the company&#39;s Battery Day event. Even though investors seemed to be underwhelmed, Tesla still appeared to be taking steps in the right direction. At the event, Musk said battery costs would come down by half over the next several years and said the company could produce a $25,000 car on par or slightly better than a comparable gasoline car in three years.View more earnings on TSLAWhile other competitors are expanding in the electric vehicle market, batteries remain the linchpin, and it seems that Tesla has a solid position on that front.FIGURE 1: TESLA A LAGGARD? SAY WHAT? Considering the 6-month run for shares of Tesla (TSLA - candlestick), one would be hard-pressed to call it a laggard. But when compared to the Consumer Discretionary sector (IXY - purple line), it&#39;s clear to see that it&#39;s not just electric cars that have been attracting those discretionary dollars. Data sources: Nasdaq, S&P Dow Jones Indices. Chart source: The thinkorswim® platform from TD Ameritrade. For illustrative purposes only. Past performance does not guarantee future results.TSLA Earnings And Options Activity Tesla is expected to report earnings after the close Wednesday, October 21. Third-party analysts are eyeing a consensus earnings estimate of $0.56 per share, on revenue of $8.26 billion--about 31% higher than quarterly revenue from a year ago.The options market has priced in an expected share price move of 6.8% in either direction around the earnings release, according to the Market Maker Move™ indicator on the thinkorswim® platform.Looking at the Oct 23 options expiration, puts have been active at the 400, 410, and 420 strikes, but higher concentrations have been seen to the upside, with heavy call volume at the 450 and 500 strikes. The implied volatility sits at the 29th percentile as of Tuesday morning.Note: Call options represent the right, but not the obligation, to buy the underlying security at a predetermined price over a set period of time. Put options represent the right, but not the obligation, to sell the underlying security at a predetermined price over a set period of time.TD Ameritrade® commentary for educational purposes only. Member SIPC. Options involve risks and are not suitable for all investors. Please read Characteristics and Risks of Standardized Options.Photo by Taun Stewart on UnsplashSee more from Benzinga  * Options Trades For This Crazy Market: Get Benzinga Options to Follow High-Conviction Trade Ideas  * Deadline Looming: Fiscal Stimulus Showdown Dominates Scene Early, But Netflix Waits In Wings  * Halliburton, IBM Earnings Today Kick Off Busy Week Of Corporate Reporting(C) 2020 Benzinga.com. Benzinga does not provide investment advice. All rights reserved.', 'guid': 'f6724d3a-2a56-3b02-b2ff-8c916480b150', 'link': 'https://finance.yahoo.com/news/investors-wondering-whether-tesla-deliver-152235154.html?.tsrc=rss', 'pubDate': 'Tue, 20 Oct 2020 15:22:35 +0000', 'title': 'Investors Wondering Whether Tesla Can Deliver Half A Million Vehicles This Year, Earnings Ahead'}, {'description': 'Tesla fell back to almost its 10-week line. Could have a handle at Wednesday&#39;s close. Right after that, Tesla will have earnings. Depending on report, guidance, could see big move either way.', 'guid': 'c8257fa7-829f-3d0e-9b33-61b106a4dc2c', 'link': 'https://finance.yahoo.com/video/tesla-park-earnings-151354650.html?.tsrc=rss', 'pubDate': 'Tue, 20 Oct 2020 15:13:54 +0000', 'title': 'Tesla In Park Before Earnings'}]\n"
     ]
    }
   ],
   "source": [
    "#pull data from finance yahoo news using api, convert the file to json and then a list of all news for a particular stocks, for this example, tesla. \n",
    "import requests\n",
    "!pip install newsapi-python\n",
    "from newsapi import NewsApiClient\n",
    "from urllib.request import urlopen, Request\n",
    "!pip install bs4\n",
    "from bs4 import BeautifulSoup\n",
    "import json\n",
    "import pandas as pd\n",
    "from datetime import datetime\n",
    "from nltk.sentiment.vader import SentimentIntensityAnalyzer\n",
    "!pip install TextBlob\n",
    "from textblob import TextBlob\n",
    "#!pip install sklearn\n",
    "from sklearn.model_selection import train_test_split\n",
    "from sklearn.metrics import accuracy_score, classification_report\n",
    "from sklearn.discriminant_analysis import LinearDiscriminantAnalysis\n",
    "import matplotlib.pyplot as plt\n",
    "import numpy as np\n",
    "\n",
    "url = \"https://rapidapi.p.rapidapi.com/api/yahoo/ne/news/tsla\"\n",
    "\n",
    "headers = {\n",
    "    'x-rapidapi-host': \"yahoo-finance15.p.rapidapi.com\",\n",
    "    'x-rapidapi-key': \"fe6bbed556msh5d9a20764b8f0cbp1f0d22jsnc1e17707cacf\"\n",
    "    }\n",
    "\n",
    "response = requests.request(\"GET\", url, headers=headers)\n",
    "json_file = response.json()\n",
    "List_of_news = json_file['item']\n",
    "print(List_of_news)\n"
   ]
  },
  {
   "cell_type": "code",
   "execution_count": 2,
   "metadata": {},
   "outputs": [
    {
     "name": "stdout",
     "output_type": "stream",
     "text": [
      "{'1600695000': {'date': '21-09-2020', 'open': 453.13, 'high': 455.68, 'low': 443.53, 'close': 449.59}, '1600695900': {'date': '21-09-2020', 'open': 449.59, 'high': 453.3, 'low': 446.99, 'close': 448.31}, '1600696800': {'date': '21-09-2020', 'open': 448.45, 'high': 450.47, 'low': 444.95, 'close': 447.11}, '1600697700': {'date': '21-09-2020', 'open': 447.12, 'high': 448.89, 'low': 430, 'close': 430.67}, '1600698600': {'date': '21-09-2020', 'open': 430.93, 'high': 432.85, 'low': 407.07, 'close': 417.94}, '1600699500': {'date': '21-09-2020', 'open': 417.97, 'high': 428.6, 'low': 417.42, 'close': 426.45}, '1600700400': {'date': '21-09-2020', 'open': 426.4, 'high': 437.2, 'low': 426.14, 'close': 431.19}, '1600701300': {'date': '21-09-2020', 'open': 431.36, 'high': 437.99, 'low': 427.7, 'close': 434.4}, '1600702200': {'date': '21-09-2020', 'open': 434.45, 'high': 436.48, 'low': 430.31, 'close': 432.52}, '1600703100': {'date': '21-09-2020', 'open': 432.53, 'high': 440.6, 'low': 432.2, 'close': 438.89}, '1600704000': {'date': '21-09-2020', 'open': 439, 'high': 444.4, 'low': 439, 'close': 441.15}, '1600704900': {'date': '21-09-2020', 'open': 441.12, 'high': 447.55, 'low': 441.05, 'close': 447.18}, '1600705800': {'date': '21-09-2020', 'open': 447.31, 'high': 448.8, 'low': 443.8, 'close': 445.55}, '1600706700': {'date': '21-09-2020', 'open': 445.56, 'high': 447.4, 'low': 443, 'close': 445.6}, '1600707600': {'date': '21-09-2020', 'open': 445.61, 'high': 446.95, 'low': 440.9, 'close': 444.07}, '1600708500': {'date': '21-09-2020', 'open': 444.1, 'high': 446.88, 'low': 442.24, 'close': 445.05}, '1600709400': {'date': '21-09-2020', 'open': 445.13, 'high': 447.75, 'low': 444.14, 'close': 444.68}, '1600710300': {'date': '21-09-2020', 'open': 444.53, 'high': 445.15, 'low': 441.41, 'close': 443.23}, '1600711200': {'date': '21-09-2020', 'open': 443.34, 'high': 445.6, 'low': 441.5, 'close': 442.38}, '1600712100': {'date': '21-09-2020', 'open': 442.5, 'high': 443.43, 'low': 438, 'close': 442.42}, '1600713000': {'date': '21-09-2020', 'open': 442.33, 'high': 442.37, 'low': 435.16, 'close': 436.69}, '1600713900': {'date': '21-09-2020', 'open': 436.38, 'high': 444, 'low': 436.08, 'close': 442.97}, '1600714800': {'date': '21-09-2020', 'open': 442.88, 'high': 445, 'low': 441.31, 'close': 442}, '1600715700': {'date': '21-09-2020', 'open': 442.02, 'high': 447, 'low': 441.97, 'close': 445.66}, '1600716600': {'date': '21-09-2020', 'open': 445.55, 'high': 447.51, 'low': 443.32, 'close': 446}, '1600717500': {'date': '21-09-2020', 'open': 445.83, 'high': 449.89, 'low': 445.4, 'close': 449.41}, '1600781400': {'date': '22-09-2020', 'open': 429.6, 'high': 437.76, 'low': 424.12, 'close': 425.77}, '1600782300': {'date': '22-09-2020', 'open': 425.82, 'high': 430.5, 'low': 422.53, 'close': 430.24}, '1600783200': {'date': '22-09-2020', 'open': 430.3, 'high': 433.99, 'low': 428.23, 'close': 433}, '1600784100': {'date': '22-09-2020', 'open': 433, 'high': 433.98, 'low': 426.65, 'close': 428.05}, '1600785000': {'date': '22-09-2020', 'open': 428.2, 'high': 431.65, 'low': 424.4, 'close': 425.19}, '1600785900': {'date': '22-09-2020', 'open': 425.31, 'high': 426.58, 'low': 417.6, 'close': 419.75}, '1600786800': {'date': '22-09-2020', 'open': 419.81, 'high': 425.89, 'low': 418.4, 'close': 425.2}, '1600787700': {'date': '22-09-2020', 'open': 425.12, 'high': 425.81, 'low': 420.18, 'close': 421.29}, '1600788600': {'date': '22-09-2020', 'open': 421.37, 'high': 425.29, 'low': 420.21, 'close': 423.59}, '1600789500': {'date': '22-09-2020', 'open': 423.53, 'high': 426.65, 'low': 422.08, 'close': 426.33}, '1600790400': {'date': '22-09-2020', 'open': 426.32, 'high': 428.72, 'low': 425.15, 'close': 427.82}, '1600791300': {'date': '22-09-2020', 'open': 427.68, 'high': 428.86, 'low': 426.05, 'close': 427.86}, '1600792200': {'date': '22-09-2020', 'open': 427.8, 'high': 428.52, 'low': 425.28, 'close': 426.86}, '1600793100': {'date': '22-09-2020', 'open': 426.86, 'high': 427.04, 'low': 423.44, 'close': 425.43}, '1600794000': {'date': '22-09-2020', 'open': 425.42, 'high': 428.33, 'low': 425.3, 'close': 428.03}, '1600794900': {'date': '22-09-2020', 'open': 428.08, 'high': 432.74, 'low': 427.42, 'close': 431.9}, '1600795800': {'date': '22-09-2020', 'open': 431.8, 'high': 432.1, 'low': 428.64, 'close': 430.86}, '1600796700': {'date': '22-09-2020', 'open': 430.97, 'high': 433.85, 'low': 429.76, 'close': 432.9}, '1600797600': {'date': '22-09-2020', 'open': 432.84, 'high': 433.62, 'low': 429.7, 'close': 431.47}, '1600798500': {'date': '22-09-2020', 'open': 431.45, 'high': 432.44, 'low': 427.54, 'close': 430.2}, '1600799400': {'date': '22-09-2020', 'open': 430.27, 'high': 430.27, 'low': 426.21, 'close': 428.6}, '1600800300': {'date': '22-09-2020', 'open': 428.75, 'high': 429.1, 'low': 425.57, 'close': 426.18}, '1600801200': {'date': '22-09-2020', 'open': 426.28, 'high': 428.21, 'low': 424.53, 'close': 424.55}, '1600802100': {'date': '22-09-2020', 'open': 424.64, 'high': 425.37, 'low': 422.33, 'close': 422.74}, '1600803000': {'date': '22-09-2020', 'open': 422.6, 'high': 427.37, 'low': 421.17, 'close': 427.14}, '1600803900': {'date': '22-09-2020', 'open': 427.19, 'high': 428.47, 'low': 423.59, 'close': 423.97}, '1600867800': {'date': '23-09-2020', 'open': 405.16, 'high': 412.15, 'low': 398.11, 'close': 401.78}, '1600868700': {'date': '23-09-2020', 'open': 401.8, 'high': 404.6, 'low': 395.11, 'close': 398}, '1600869600': {'date': '23-09-2020', 'open': 398.23, 'high': 402, 'low': 395.03, 'close': 398.5}, '1600870500': {'date': '23-09-2020', 'open': 398.41, 'high': 402.44, 'low': 393.88, 'close': 402.04}, '1600871400': {'date': '23-09-2020', 'open': 402.02, 'high': 405.29, 'low': 399.51, 'close': 400.93}, '1600872300': {'date': '23-09-2020', 'open': 401.09, 'high': 403.34, 'low': 395.75, 'close': 397.35}, '1600873200': {'date': '23-09-2020', 'open': 397.25, 'high': 398.89, 'low': 394, 'close': 394.43}, '1600874100': {'date': '23-09-2020', 'open': 395.75, 'high': 396.1, 'low': 387.92, 'close': 390.69}, '1600875000': {'date': '23-09-2020', 'open': 390.87, 'high': 393.32, 'low': 389.17, 'close': 389.91}, '1600875900': {'date': '23-09-2020', 'open': 389.99, 'high': 390, 'low': 383, 'close': 385.62}, '1600876800': {'date': '23-09-2020', 'open': 385.62, 'high': 389.65, 'low': 385.22, 'close': 388}, '1600877700': {'date': '23-09-2020', 'open': 388.2, 'high': 388.92, 'low': 385, 'close': 387.66}, '1600878600': {'date': '23-09-2020', 'open': 387.6, 'high': 391.53, 'low': 386.25, 'close': 391.53}, '1600879500': {'date': '23-09-2020', 'open': 391.52, 'high': 393.88, 'low': 388.1, 'close': 392.87}, '1600880400': {'date': '23-09-2020', 'open': 393.09, 'high': 394, 'low': 390.58, 'close': 391.89}, '1600881300': {'date': '23-09-2020', 'open': 392, 'high': 393, 'low': 388.8, 'close': 389.54}, '1600882200': {'date': '23-09-2020', 'open': 389.49, 'high': 393.5, 'low': 389, 'close': 389}, '1600883100': {'date': '23-09-2020', 'open': 389.1, 'high': 390.6, 'low': 388, 'close': 388.33}, '1600884000': {'date': '23-09-2020', 'open': 388.44, 'high': 388.56, 'low': 384, 'close': 386}, '1600884900': {'date': '23-09-2020', 'open': 386, 'high': 386, 'low': 381.1, 'close': 384.95}, '1600885800': {'date': '23-09-2020', 'open': 384.98, 'high': 385.03, 'low': 381.2, 'close': 381.66}, '1600886700': {'date': '23-09-2020', 'open': 381.69, 'high': 381.99, 'low': 376.2, 'close': 377.65}, '1600887600': {'date': '23-09-2020', 'open': 377.64, 'high': 382.64, 'low': 375.88, 'close': 381.43}, '1600888500': {'date': '23-09-2020', 'open': 381.37, 'high': 383.4, 'low': 379, 'close': 381.97}, '1600889400': {'date': '23-09-2020', 'open': 381.85, 'high': 386.41, 'low': 380.84, 'close': 386.1}, '1600890300': {'date': '23-09-2020', 'open': 386.13, 'high': 386.15, 'low': 379.03, 'close': 380.39}, '1600954200': {'date': '24-09-2020', 'open': 363.8, 'high': 369.65, 'low': 351.3, 'close': 361.51}, '1600955100': {'date': '24-09-2020', 'open': 361.57, 'high': 376.99, 'low': 360.41, 'close': 371.19}, '1600956000': {'date': '24-09-2020', 'open': 373.57, 'high': 384.81, 'low': 373.5, 'close': 377.18}, '1600956900': {'date': '24-09-2020', 'open': 379, 'high': 380.67, 'low': 371.34, 'close': 372.04}, '1600957800': {'date': '24-09-2020', 'open': 372.01, 'high': 376.54, 'low': 367.02, 'close': 373.13}, '1600958700': {'date': '24-09-2020', 'open': 373.26, 'high': 381.8, 'low': 372.98, 'close': 381.33}, '1600959600': {'date': '24-09-2020', 'open': 378.85, 'high': 381.7, 'low': 373.7, 'close': 381.47}, '1600960500': {'date': '24-09-2020', 'open': 381.31, 'high': 389.5, 'low': 380.32, 'close': 387.02}, '1600961400': {'date': '24-09-2020', 'open': 387.01, 'high': 394.1, 'low': 387, 'close': 391.66}, '1600962300': {'date': '24-09-2020', 'open': 391.5, 'high': 398.18, 'low': 387.5, 'close': 397.95}, '1600963200': {'date': '24-09-2020', 'open': 397.95, 'high': 398.9, 'low': 393.45, 'close': 393.8}, '1600964100': {'date': '24-09-2020', 'open': 393.82, 'high': 396.78, 'low': 391, 'close': 394.41}, '1600965000': {'date': '24-09-2020', 'open': 394.4, 'high': 394.9, 'low': 386.54, 'close': 390.93}, '1600965900': {'date': '24-09-2020', 'open': 391, 'high': 394.2, 'low': 390, 'close': 392.83}, '1600966800': {'date': '24-09-2020', 'open': 392.67, 'high': 397.51, 'low': 391, 'close': 394.63}, '1600967700': {'date': '24-09-2020', 'open': 394.71, 'high': 397.64, 'low': 392.7, 'close': 396.86}, '1600968600': {'date': '24-09-2020', 'open': 396.9, 'high': 399.5, 'low': 395.75, 'close': 398.11}, '1600969500': {'date': '24-09-2020', 'open': 398.11, 'high': 399, 'low': 394.32, 'close': 394.77}, '1600970400': {'date': '24-09-2020', 'open': 394.89, 'high': 397.8, 'low': 393.29, 'close': 395.37}, '1600971300': {'date': '24-09-2020', 'open': 395.38, 'high': 397.12, 'low': 390.05, 'close': 392.86}, '1600972200': {'date': '24-09-2020', 'open': 392.93, 'high': 396.2, 'low': 392.61, 'close': 394.77}, '1600973100': {'date': '24-09-2020', 'open': 394.76, 'high': 394.99, 'low': 388.66, 'close': 388.94}, '1600974000': {'date': '24-09-2020', 'open': 388.92, 'high': 392.28, 'low': 387.31, 'close': 391.72}, '1600974900': {'date': '24-09-2020', 'open': 391.63, 'high': 391.63, 'low': 382.42, 'close': 384.51}, '1600975800': {'date': '24-09-2020', 'open': 384.66, 'high': 389.9, 'low': 382.25, 'close': 388.43}, '1600976700': {'date': '24-09-2020', 'open': 388.43, 'high': 392.46, 'low': 386.02, 'close': 387.65}, '1601040600': {'date': '25-09-2020', 'open': 393.47, 'high': 404.5, 'low': 391.3, 'close': 400.22}, '1601041500': {'date': '25-09-2020', 'open': 400.17, 'high': 402.98, 'low': 397, 'close': 401.96}, '1601042400': {'date': '25-09-2020', 'open': 401.99, 'high': 403.79, 'low': 395.38, 'close': 398.08}, '1601043300': {'date': '25-09-2020', 'open': 397.88, 'high': 401.83, 'low': 396.65, 'close': 400.02}, '1601044200': {'date': '25-09-2020', 'open': 400.17, 'high': 406.17, 'low': 399.7, 'close': 405.75}, '1601045100': {'date': '25-09-2020', 'open': 405.72, 'high': 406.94, 'low': 403.67, 'close': 404.8}, '1601046000': {'date': '25-09-2020', 'open': 404.85, 'high': 406.99, 'low': 403.1, 'close': 406.7}, '1601046900': {'date': '25-09-2020', 'open': 406.64, 'high': 408.73, 'low': 406.42, 'close': 406.7}, '1601047800': {'date': '25-09-2020', 'open': 406.76, 'high': 407.8, 'low': 404.01, 'close': 404.18}, '1601048700': {'date': '25-09-2020', 'open': 404.21, 'high': 406.15, 'low': 403.6, 'close': 404.33}, '1601049600': {'date': '25-09-2020', 'open': 404.07, 'high': 406.4, 'low': 403.86, 'close': 406.25}, '1601050500': {'date': '25-09-2020', 'open': 406.23, 'high': 406.32, 'low': 401.6, 'close': 403.13}, '1601051400': {'date': '25-09-2020', 'open': 403.13, 'high': 403.59, 'low': 400.69, 'close': 402.83}, '1601052300': {'date': '25-09-2020', 'open': 402.85, 'high': 403.75, 'low': 400.81, 'close': 401.74}, '1601053200': {'date': '25-09-2020', 'open': 401.77, 'high': 403.55, 'low': 400.24, 'close': 403.01}, '1601054100': {'date': '25-09-2020', 'open': 402.93, 'high': 403.21, 'low': 398.77, 'close': 400.7}, '1601055000': {'date': '25-09-2020', 'open': 400.85, 'high': 401.48, 'low': 399.31, 'close': 401.1}, '1601055900': {'date': '25-09-2020', 'open': 401.19, 'high': 403.36, 'low': 399.88, 'close': 403.09}, '1601056800': {'date': '25-09-2020', 'open': 403.12, 'high': 404.5, 'low': 402.15, 'close': 403.32}, '1601057700': {'date': '25-09-2020', 'open': 403.36, 'high': 404.15, 'low': 402.05, 'close': 402.82}, '1601058600': {'date': '25-09-2020', 'open': 402.77, 'high': 404.3, 'low': 401.68, 'close': 402.95}, '1601059500': {'date': '25-09-2020', 'open': 402.99, 'high': 404.05, 'low': 402, 'close': 403.07}, '1601060400': {'date': '25-09-2020', 'open': 403.06, 'high': 404.25, 'low': 402.4, 'close': 403.9}, '1601061300': {'date': '25-09-2020', 'open': 403.94, 'high': 405.88, 'low': 403.9, 'close': 404.49}, '1601062200': {'date': '25-09-2020', 'open': 404.47, 'high': 405.84, 'low': 403.5, 'close': 405.76}, '1601063100': {'date': '25-09-2020', 'open': 405.74, 'high': 407.35, 'low': 405, 'close': 407.18}, '1601299800': {'date': '28-09-2020', 'open': 424.62, 'high': 428.08, 'low': 421.2, 'close': 422.65}, '1601300700': {'date': '28-09-2020', 'open': 423.54, 'high': 424.5, 'low': 418.38, 'close': 422.09}, '1601301600': {'date': '28-09-2020', 'open': 422.2, 'high': 422.75, 'low': 417.53, 'close': 419.54}, '1601302500': {'date': '28-09-2020', 'open': 419.46, 'high': 420.65, 'low': 416, 'close': 416}, '1601303400': {'date': '28-09-2020', 'open': 416.14, 'high': 419.6, 'low': 415.55, 'close': 419.49}, '1601304300': {'date': '28-09-2020', 'open': 419.48, 'high': 420.92, 'low': 417.67, 'close': 417.9}, '1601305200': {'date': '28-09-2020', 'open': 417.82, 'high': 421.94, 'low': 417.46, 'close': 421.88}, '1601306100': {'date': '28-09-2020', 'open': 421.73, 'high': 423.6, 'low': 420.8, 'close': 422.14}, '1601307000': {'date': '28-09-2020', 'open': 422.08, 'high': 422.4, 'low': 419.65, 'close': 420.45}, '1601307900': {'date': '28-09-2020', 'open': 420.53, 'high': 420.58, 'low': 419.12, 'close': 419.88}, '1601308800': {'date': '28-09-2020', 'open': 419.96, 'high': 420.7, 'low': 418.25, 'close': 420.41}, '1601309700': {'date': '28-09-2020', 'open': 420.4, 'high': 421.14, 'low': 418.13, 'close': 419.11}, '1601310600': {'date': '28-09-2020', 'open': 419.18, 'high': 419.9, 'low': 417.1, 'close': 418.74}, '1601311500': {'date': '28-09-2020', 'open': 418.66, 'high': 420.88, 'low': 418.61, 'close': 420.06}, '1601312400': {'date': '28-09-2020', 'open': 420.01, 'high': 420.13, 'low': 417.79, 'close': 418.3}, '1601313300': {'date': '28-09-2020', 'open': 418.32, 'high': 419.47, 'low': 417.2, 'close': 418.25}, '1601314200': {'date': '28-09-2020', 'open': 418.35, 'high': 420.11, 'low': 417.9, 'close': 418.94}, '1601315100': {'date': '28-09-2020', 'open': 419, 'high': 419.4, 'low': 417.5, 'close': 417.86}, '1601316000': {'date': '28-09-2020', 'open': 417.86, 'high': 418.83, 'low': 417.5, 'close': 418.05}, '1601316900': {'date': '28-09-2020', 'open': 418.14, 'high': 418.52, 'low': 416.2, 'close': 417.89}, '1601317800': {'date': '28-09-2020', 'open': 417.89, 'high': 420.27, 'low': 416.94, 'close': 419.68}, '1601318700': {'date': '28-09-2020', 'open': 419.62, 'high': 421.44, 'low': 419.21, 'close': 420.6}, '1601319600': {'date': '28-09-2020', 'open': 420.56, 'high': 422.46, 'low': 420.45, 'close': 422.39}, '1601320500': {'date': '28-09-2020', 'open': 422.26, 'high': 422.42, 'low': 420.61, 'close': 421.45}, '1601321400': {'date': '28-09-2020', 'open': 421.5, 'high': 423.15, 'low': 421.02, 'close': 422.9}, '1601322300': {'date': '28-09-2020', 'open': 422.88, 'high': 422.98, 'low': 420.12, 'close': 421.06}, '1601386200': {'date': '29-09-2020', 'open': 416, 'high': 419.09, 'low': 412.78, 'close': 413.94}, '1601387100': {'date': '29-09-2020', 'open': 413.91, 'high': 415.6, 'low': 411.6, 'close': 414.24}, '1601388000': {'date': '29-09-2020', 'open': 414.2, 'high': 417.92, 'low': 413.55, 'close': 417.31}, '1601388900': {'date': '29-09-2020', 'open': 417.24, 'high': 417.57, 'low': 415.09, 'close': 416.2}, '1601389800': {'date': '29-09-2020', 'open': 416.4, 'high': 416.59, 'low': 413, 'close': 415.04}, '1601390700': {'date': '29-09-2020', 'open': 414.96, 'high': 416.34, 'low': 413.3, 'close': 415.7}, '1601391600': {'date': '29-09-2020', 'open': 415.7, 'high': 418.92, 'low': 415.29, 'close': 418.81}, '1601392500': {'date': '29-09-2020', 'open': 418.82, 'high': 425.5, 'low': 418.79, 'close': 424.02}, '1601393400': {'date': '29-09-2020', 'open': 424.35, 'high': 424.5, 'low': 421.78, 'close': 422.25}, '1601394300': {'date': '29-09-2020', 'open': 422.32, 'high': 426.25, 'low': 421.76, 'close': 425.67}, '1601395200': {'date': '29-09-2020', 'open': 425.69, 'high': 427.35, 'low': 424.29, 'close': 426.96}, '1601396100': {'date': '29-09-2020', 'open': 426.86, 'high': 427, 'low': 424.66, 'close': 425.64}, '1601397000': {'date': '29-09-2020', 'open': 425.64, 'high': 426.77, 'low': 424.57, 'close': 426.53}, '1601397900': {'date': '29-09-2020', 'open': 426.46, 'high': 426.6, 'low': 424.57, 'close': 425.93}, '1601398800': {'date': '29-09-2020', 'open': 425.99, 'high': 426.35, 'low': 423.35, 'close': 424.1}, '1601399700': {'date': '29-09-2020', 'open': 424.07, 'high': 425.94, 'low': 423.75, 'close': 425.73}, '1601400600': {'date': '29-09-2020', 'open': 425.73, 'high': 426.44, 'low': 425.02, 'close': 425.36}, '1601401500': {'date': '29-09-2020', 'open': 425.37, 'high': 428.5, 'low': 425.29, 'close': 427}, '1601402400': {'date': '29-09-2020', 'open': 427, 'high': 427.51, 'low': 426.33, 'close': 426.66}, '1601403300': {'date': '29-09-2020', 'open': 426.64, 'high': 426.92, 'low': 423.48, 'close': 424.49}, '1601404200': {'date': '29-09-2020', 'open': 424.5, 'high': 425.19, 'low': 422.11, 'close': 422.82}, '1601405100': {'date': '29-09-2020', 'open': 422.82, 'high': 424.33, 'low': 421.41, 'close': 423.08}, '1601406000': {'date': '29-09-2020', 'open': 423.15, 'high': 423.69, 'low': 422.33, 'close': 422.8}, '1601406900': {'date': '29-09-2020', 'open': 422.83, 'high': 422.96, 'low': 418.18, 'close': 419.09}, '1601407800': {'date': '29-09-2020', 'open': 418.98, 'high': 420.5, 'low': 416.87, 'close': 418.07}, '1601408700': {'date': '29-09-2020', 'open': 418.22, 'high': 420.24, 'low': 417.66, 'close': 418.99}, '1601472600': {'date': '30-09-2020', 'open': 421.32, 'high': 427.77, 'low': 420.47, 'close': 425}, '1601473500': {'date': '30-09-2020', 'open': 425.14, 'high': 431, 'low': 424.02, 'close': 430.33}, '1601474400': {'date': '30-09-2020', 'open': 430.24, 'high': 433.55, 'low': 430.01, 'close': 430.83}, '1601475300': {'date': '30-09-2020', 'open': 430.66, 'high': 432.58, 'low': 429, 'close': 429.7}, '1601476200': {'date': '30-09-2020', 'open': 429.8, 'high': 433.93, 'low': 428.72, 'close': 430.8}, '1601477100': {'date': '30-09-2020', 'open': 430.8, 'high': 431.2, 'low': 428.54, 'close': 428.88}, '1601478000': {'date': '30-09-2020', 'open': 428.9, 'high': 429.9, 'low': 427.59, 'close': 428.96}, '1601478900': {'date': '30-09-2020', 'open': 428.92, 'high': 429.1, 'low': 426.08, 'close': 427.46}, '1601479800': {'date': '30-09-2020', 'open': 427.4, 'high': 429.66, 'low': 427.1, 'close': 429.63}, '1601480700': {'date': '30-09-2020', 'open': 430.2, 'high': 430.6, 'low': 428.88, 'close': 429.2}, '1601481600': {'date': '30-09-2020', 'open': 429.22, 'high': 431.79, 'low': 429.2, 'close': 429.9}, '1601482500': {'date': '30-09-2020', 'open': 429.99, 'high': 430.25, 'low': 428.1, 'close': 429.76}, '1601483400': {'date': '30-09-2020', 'open': 429.73, 'high': 429.98, 'low': 427.25, 'close': 428}, '1601484300': {'date': '30-09-2020', 'open': 427.87, 'high': 429.69, 'low': 427.36, 'close': 428.71}, '1601485200': {'date': '30-09-2020', 'open': 428.63, 'high': 428.99, 'low': 426.7, 'close': 427.23}, '1601486100': {'date': '30-09-2020', 'open': 427.32, 'high': 429.45, 'low': 427.05, 'close': 428.98}, '1601487000': {'date': '30-09-2020', 'open': 429.05, 'high': 430.49, 'low': 428.63, 'close': 429.18}, '1601487900': {'date': '30-09-2020', 'open': 429.14, 'high': 431.22, 'low': 428.84, 'close': 430.88}, '1601488800': {'date': '30-09-2020', 'open': 430.83, 'high': 431.5, 'low': 429.61, 'close': 429.75}, '1601489700': {'date': '30-09-2020', 'open': 429.67, 'high': 430.6, 'low': 427.38, 'close': 429.3}, '1601490600': {'date': '30-09-2020', 'open': 429.15, 'high': 430.13, 'low': 428.01, 'close': 428.35}, '1601491500': {'date': '30-09-2020', 'open': 428.35, 'high': 430.23, 'low': 427.22, 'close': 429.47}, '1601492400': {'date': '30-09-2020', 'open': 429.47, 'high': 431.4, 'low': 428.81, 'close': 429.1}, '1601493300': {'date': '30-09-2020', 'open': 429.04, 'high': 429.4, 'low': 426.15, 'close': 427.84}, '1601494200': {'date': '30-09-2020', 'open': 427.75, 'high': 429.24, 'low': 425.02, 'close': 428.81}, '1601495100': {'date': '30-09-2020', 'open': 428.76, 'high': 430, 'low': 428.1, 'close': 428.86}, '1601559000': {'date': '01-10-2020', 'open': 440.76, 'high': 441.8, 'low': 436.71, 'close': 438}, '1601559900': {'date': '01-10-2020', 'open': 437.87, 'high': 439.75, 'low': 436.23, 'close': 437.1}, '1601560800': {'date': '01-10-2020', 'open': 437, 'high': 438.7, 'low': 436.22, 'close': 437.15}, '1601561700': {'date': '01-10-2020', 'open': 437.19, 'high': 437.55, 'low': 434.42, 'close': 435.65}, '1601562600': {'date': '01-10-2020', 'open': 435.51, 'high': 437.4, 'low': 435, 'close': 436.35}, '1601563500': {'date': '01-10-2020', 'open': 436.31, 'high': 437, 'low': 434.82, 'close': 436.8}, '1601564400': {'date': '01-10-2020', 'open': 436.78, 'high': 438.43, 'low': 435.43, 'close': 437.9}, '1601565300': {'date': '01-10-2020', 'open': 437.87, 'high': 440.52, 'low': 437.6, 'close': 439.76}, '1601566200': {'date': '01-10-2020', 'open': 439.78, 'high': 440.2, 'low': 438.76, 'close': 438.9}, '1601567100': {'date': '01-10-2020', 'open': 438.95, 'high': 439.63, 'low': 438.41, 'close': 438.88}, '1601568000': {'date': '01-10-2020', 'open': 438.89, 'high': 439.85, 'low': 437.73, 'close': 439.8}, '1601568900': {'date': '01-10-2020', 'open': 439.79, 'high': 440.69, 'low': 439.07, 'close': 440.52}, '1601569800': {'date': '01-10-2020', 'open': 440.51, 'high': 442.65, 'low': 440, 'close': 442.05}, '1601570700': {'date': '01-10-2020', 'open': 442.05, 'high': 445, 'low': 441.9, 'close': 443.79}, '1601571600': {'date': '01-10-2020', 'open': 443.8, 'high': 447.7, 'low': 443.68, 'close': 446.73}, '1601572500': {'date': '01-10-2020', 'open': 446.72, 'high': 447.56, 'low': 445, 'close': 445.61}, '1601573400': {'date': '01-10-2020', 'open': 445.72, 'high': 448, 'low': 445.27, 'close': 447.09}, '1601574300': {'date': '01-10-2020', 'open': 447.16, 'high': 447.58, 'low': 445.2, 'close': 445.57}, '1601575200': {'date': '01-10-2020', 'open': 445.57, 'high': 446.92, 'low': 442.06, 'close': 445.06}, '1601576100': {'date': '01-10-2020', 'open': 445.06, 'high': 446.66, 'low': 443.57, 'close': 446.07}, '1601577000': {'date': '01-10-2020', 'open': 446.03, 'high': 446.5, 'low': 444.64, 'close': 446.17}, '1601577900': {'date': '01-10-2020', 'open': 446.23, 'high': 447.26, 'low': 445.26, 'close': 446.7}, '1601578800': {'date': '01-10-2020', 'open': 446.73, 'high': 447.1, 'low': 445.31, 'close': 445.86}, '1601579700': {'date': '01-10-2020', 'open': 445.82, 'high': 447.18, 'low': 445.15, 'close': 447}, '1601580600': {'date': '01-10-2020', 'open': 447.04, 'high': 448.88, 'low': 446.4, 'close': 447.88}, '1601581500': {'date': '01-10-2020', 'open': 447.82, 'high': 448.8, 'low': 446.59, 'close': 447.81}, '1601645400': {'date': '02-10-2020', 'open': 422.79, 'high': 435.23, 'low': 421.16, 'close': 432.42}, '1601646300': {'date': '02-10-2020', 'open': 432.35, 'high': 436.8, 'low': 431.39, 'close': 431.65}, '1601647200': {'date': '02-10-2020', 'open': 431.75, 'high': 437.54, 'low': 430.66, 'close': 436.98}, '1601648100': {'date': '02-10-2020', 'open': 437, 'high': 439.13, 'low': 435.26, 'close': 438.44}, '1601649000': {'date': '02-10-2020', 'open': 438.41, 'high': 438.53, 'low': 435.66, 'close': 435.72}, '1601649900': {'date': '02-10-2020', 'open': 435.56, 'high': 437.45, 'low': 434.43, 'close': 434.76}, '1601650800': {'date': '02-10-2020', 'open': 434.67, 'high': 435.44, 'low': 432.57, 'close': 433.27}, '1601651700': {'date': '02-10-2020', 'open': 433.2, 'high': 434.34, 'low': 429.76, 'close': 430.36}, '1601652600': {'date': '02-10-2020', 'open': 430.35, 'high': 431.78, 'low': 426.56, 'close': 429.16}, '1601653500': {'date': '02-10-2020', 'open': 429.18, 'high': 430.25, 'low': 424.4, 'close': 426.38}, '1601654400': {'date': '02-10-2020', 'open': 426.4, 'high': 427.78, 'low': 421.11, 'close': 426.48}, '1601655300': {'date': '02-10-2020', 'open': 426.28, 'high': 429.1, 'low': 425, 'close': 425.3}, '1601656200': {'date': '02-10-2020', 'open': 425.28, 'high': 428.45, 'low': 423.39, 'close': 428.33}, '1601657100': {'date': '02-10-2020', 'open': 428.33, 'high': 428.67, 'low': 424.85, 'close': 425.1}, '1601658000': {'date': '02-10-2020', 'open': 425.22, 'high': 425.74, 'low': 422.53, 'close': 423.26}, '1601658900': {'date': '02-10-2020', 'open': 423.31, 'high': 423.86, 'low': 420.12, 'close': 420.46}, '1601659800': {'date': '02-10-2020', 'open': 420.49, 'high': 421.82, 'low': 418.7, 'close': 418.8}, '1601660700': {'date': '02-10-2020', 'open': 418.93, 'high': 421.8, 'low': 418.01, 'close': 420.89}, '1601661600': {'date': '02-10-2020', 'open': 420.87, 'high': 423.64, 'low': 420.25, 'close': 420.62}, '1601662500': {'date': '02-10-2020', 'open': 420.55, 'high': 421.73, 'low': 419.36, 'close': 419.65}, '1601663400': {'date': '02-10-2020', 'open': 419.58, 'high': 420.4, 'low': 418.21, 'close': 419.15}, '1601664300': {'date': '02-10-2020', 'open': 419.16, 'high': 420.95, 'low': 418.03, 'close': 420.38}, '1601665200': {'date': '02-10-2020', 'open': 420.43, 'high': 420.66, 'low': 417.66, 'close': 418.06}, '1601666100': {'date': '02-10-2020', 'open': 418.11, 'high': 419.65, 'low': 417.81, 'close': 418.47}, '1601667000': {'date': '02-10-2020', 'open': 418.51, 'high': 420.21, 'low': 418.15, 'close': 418.52}, '1601667900': {'date': '02-10-2020', 'open': 418.53, 'high': 418.58, 'low': 415, 'close': 415.27}, '1601904600': {'date': '05-10-2020', 'open': 423.35, 'high': 429.24, 'low': 421.22, 'close': 428.52}, '1601905500': {'date': '05-10-2020', 'open': 428.46, 'high': 432.73, 'low': 428.3, 'close': 431.77}, '1601906400': {'date': '05-10-2020', 'open': 431.77, 'high': 433.64, 'low': 429.85, 'close': 432.33}, '1601907300': {'date': '05-10-2020', 'open': 432.33, 'high': 432.56, 'low': 427.14, 'close': 427.32}, '1601908200': {'date': '05-10-2020', 'open': 427.37, 'high': 430.3, 'low': 427.33, 'close': 428.15}, '1601909100': {'date': '05-10-2020', 'open': 428.18, 'high': 428.38, 'low': 423.75, 'close': 424.64}, '1601910000': {'date': '05-10-2020', 'open': 424.55, 'high': 425.29, 'low': 423.15, 'close': 423.94}, '1601910900': {'date': '05-10-2020', 'open': 423.85, 'high': 426.31, 'low': 423.3, 'close': 424.28}, '1601911800': {'date': '05-10-2020', 'open': 424.41, 'high': 424.67, 'low': 420.16, 'close': 421.82}, '1601912700': {'date': '05-10-2020', 'open': 421.76, 'high': 423.95, 'low': 421.3, 'close': 423.85}, '1601913600': {'date': '05-10-2020', 'open': 423.9, 'high': 425.44, 'low': 423.15, 'close': 423.71}, '1601914500': {'date': '05-10-2020', 'open': 423.76, 'high': 425.8, 'low': 422.42, 'close': 425.39}, '1601915400': {'date': '05-10-2020', 'open': 425.39, 'high': 425.5, 'low': 422.85, 'close': 423.49}, '1601916300': {'date': '05-10-2020', 'open': 423.48, 'high': 423.59, 'low': 421.49, 'close': 423}, '1601917200': {'date': '05-10-2020', 'open': 422.92, 'high': 423.5, 'low': 421.33, 'close': 423.41}, '1601918100': {'date': '05-10-2020', 'open': 423.4, 'high': 423.52, 'low': 421.25, 'close': 422.32}, '1601919000': {'date': '05-10-2020', 'open': 422.37, 'high': 424.15, 'low': 420.79, 'close': 423.62}, '1601919900': {'date': '05-10-2020', 'open': 423.62, 'high': 423.62, 'low': 420.5, 'close': 421.25}, '1601920800': {'date': '05-10-2020', 'open': 421.36, 'high': 422.4, 'low': 420.51, 'close': 421.51}, '1601921700': {'date': '05-10-2020', 'open': 421.57, 'high': 422.1, 'low': 419.33, 'close': 420.01}, '1601922600': {'date': '05-10-2020', 'open': 420.03, 'high': 422.5, 'low': 419.85, 'close': 421.62}, '1601923500': {'date': '05-10-2020', 'open': 421.67, 'high': 424.88, 'low': 420.71, 'close': 424.64}, '1601924400': {'date': '05-10-2020', 'open': 424.64, 'high': 426.45, 'low': 423.7, 'close': 425.35}, '1601925300': {'date': '05-10-2020', 'open': 425.38, 'high': 425.89, 'low': 424.61, 'close': 425.37}, '1601926200': {'date': '05-10-2020', 'open': 425.43, 'high': 425.99, 'low': 424.25, 'close': 425.74}, '1601927100': {'date': '05-10-2020', 'open': 425.72, 'high': 426.26, 'low': 424.9, 'close': 425.5}, '1601991000': {'date': '06-10-2020', 'open': 423.79, 'high': 428.78, 'low': 422.5, 'close': 423.35}, '1601991900': {'date': '06-10-2020', 'open': 423.65, 'high': 423.93, 'low': 419.74, 'close': 420.69}, '1601992800': {'date': '06-10-2020', 'open': 420.65, 'high': 422.5, 'low': 420.09, 'close': 420.98}, '1601993700': {'date': '06-10-2020', 'open': 421.06, 'high': 421.11, 'low': 416.75, 'close': 416.87}, '1601994600': {'date': '06-10-2020', 'open': 416.88, 'high': 420.5, 'low': 416.81, 'close': 418.01}, '1601995500': {'date': '06-10-2020', 'open': 418, 'high': 419.41, 'low': 417.7, 'close': 418.31}, '1601996400': {'date': '06-10-2020', 'open': 418.33, 'high': 419.1, 'low': 416.11, 'close': 416.85}, '1601997300': {'date': '06-10-2020', 'open': 416.85, 'high': 417, 'low': 413.2, 'close': 415.14}, '1601998200': {'date': '06-10-2020', 'open': 415.1, 'high': 417.37, 'low': 414.76, 'close': 417.04}, '1601999100': {'date': '06-10-2020', 'open': 417.03, 'high': 417.8, 'low': 414.85, 'close': 417.51}, '1602000000': {'date': '06-10-2020', 'open': 417.57, 'high': 420.26, 'low': 416.77, 'close': 419.57}, '1602000900': {'date': '06-10-2020', 'open': 419.54, 'high': 422.16, 'low': 419.24, 'close': 421.78}, '1602001800': {'date': '06-10-2020', 'open': 421.83, 'high': 421.86, 'low': 419.14, 'close': 419.45}, '1602002700': {'date': '06-10-2020', 'open': 419.53, 'high': 420.85, 'low': 417.1, 'close': 417.96}, '1602003600': {'date': '06-10-2020', 'open': 417.84, 'high': 419.41, 'low': 417.6, 'close': 418.2}, '1602004500': {'date': '06-10-2020', 'open': 418.19, 'high': 420, 'low': 417.51, 'close': 419.76}, '1602005400': {'date': '06-10-2020', 'open': 419.76, 'high': 421.52, 'low': 419.41, 'close': 420.33}, '1602006300': {'date': '06-10-2020', 'open': 420.39, 'high': 420.65, 'low': 419.19, 'close': 420.45}, '1602007200': {'date': '06-10-2020', 'open': 420.44, 'high': 421.77, 'low': 420.15, 'close': 421.66}, '1602008100': {'date': '06-10-2020', 'open': 421.62, 'high': 422.43, 'low': 420.45, 'close': 420.82}, '1602009000': {'date': '06-10-2020', 'open': 420.8, 'high': 422.84, 'low': 420.8, 'close': 422.64}, '1602009900': {'date': '06-10-2020', 'open': 422.63, 'high': 423.35, 'low': 410.38, 'close': 415.12}, '1602010800': {'date': '06-10-2020', 'open': 415.01, 'high': 415.13, 'low': 406.05, 'close': 414.17}, '1602011700': {'date': '06-10-2020', 'open': 414.05, 'high': 415.77, 'low': 410.91, 'close': 414.71}, '1602012600': {'date': '06-10-2020', 'open': 414.6, 'high': 415.98, 'low': 412.31, 'close': 412.31}, '1602013500': {'date': '06-10-2020', 'open': 412.29, 'high': 415.53, 'low': 411.46, 'close': 413.95}, '1602077400': {'date': '07-10-2020', 'open': 419.87, 'high': 423.22, 'low': 418.33, 'close': 420.52}, '1602078300': {'date': '07-10-2020', 'open': 419.35, 'high': 421.08, 'low': 418.04, 'close': 419.65}, '1602079200': {'date': '07-10-2020', 'open': 419.66, 'high': 420, 'low': 416.33, 'close': 417.18}, '1602080100': {'date': '07-10-2020', 'open': 417.12, 'high': 418.15, 'low': 414.32, 'close': 414.45}, '1602081000': {'date': '07-10-2020', 'open': 414.45, 'high': 417.49, 'low': 413.85, 'close': 417.12}, '1602081900': {'date': '07-10-2020', 'open': 417.18, 'high': 419.2, 'low': 415.77, 'close': 418.88}, '1602082800': {'date': '07-10-2020', 'open': 418.93, 'high': 420.38, 'low': 418.4, 'close': 419.14}, '1602083700': {'date': '07-10-2020', 'open': 419.14, 'high': 421.17, 'low': 418.7, 'close': 419.89}, '1602084600': {'date': '07-10-2020', 'open': 419.95, 'high': 420.88, 'low': 419.35, 'close': 420.5}, '1602085500': {'date': '07-10-2020', 'open': 420.53, 'high': 420.58, 'low': 418.62, 'close': 419.15}, '1602086400': {'date': '07-10-2020', 'open': 419.22, 'high': 421.09, 'low': 419.11, 'close': 420.77}, '1602087300': {'date': '07-10-2020', 'open': 420.82, 'high': 425.48, 'low': 420, 'close': 422.8}, '1602088200': {'date': '07-10-2020', 'open': 422.81, 'high': 426.22, 'low': 422.64, 'close': 425.93}, '1602089100': {'date': '07-10-2020', 'open': 425.95, 'high': 427.25, 'low': 425.05, 'close': 426.93}, '1602090000': {'date': '07-10-2020', 'open': 426.99, 'high': 429.5, 'low': 426.91, 'close': 428.5}, '1602090900': {'date': '07-10-2020', 'open': 428.51, 'high': 428.79, 'low': 426.75, 'close': 428.41}, '1602091800': {'date': '07-10-2020', 'open': 428.44, 'high': 429.82, 'low': 428.05, 'close': 429.33}, '1602092700': {'date': '07-10-2020', 'open': 429.32, 'high': 429.9, 'low': 426.67, 'close': 427.25}, '1602093600': {'date': '07-10-2020', 'open': 427.25, 'high': 428.12, 'low': 425.36, 'close': 426.97}, '1602094500': {'date': '07-10-2020', 'open': 427, 'high': 428.64, 'low': 426.66, 'close': 427.86}, '1602095400': {'date': '07-10-2020', 'open': 427.8, 'high': 428.25, 'low': 425.75, 'close': 426.34}, '1602096300': {'date': '07-10-2020', 'open': 426.4, 'high': 427.68, 'low': 425.63, 'close': 427.44}, '1602097200': {'date': '07-10-2020', 'open': 427.5, 'high': 427.99, 'low': 426.5, 'close': 427.01}, '1602098100': {'date': '07-10-2020', 'open': 426.95, 'high': 427.34, 'low': 425.67, 'close': 426.15}, '1602099000': {'date': '07-10-2020', 'open': 426.17, 'high': 426.97, 'low': 424.43, 'close': 425.53}, '1602099900': {'date': '07-10-2020', 'open': 425.53, 'high': 425.79, 'low': 424.07, 'close': 425.19}, '1602163800': {'date': '08-10-2020', 'open': 438.44, 'high': 439, 'low': 431.93, 'close': 433.4}, '1602164700': {'date': '08-10-2020', 'open': 433.4, 'high': 436.17, 'low': 431.15, 'close': 435.85}, '1602165600': {'date': '08-10-2020', 'open': 435.93, 'high': 437.7, 'low': 434.2, 'close': 436.49}, '1602166500': {'date': '08-10-2020', 'open': 436.56, 'high': 437.05, 'low': 433.01, 'close': 434.13}, '1602167400': {'date': '08-10-2020', 'open': 434.08, 'high': 435.77, 'low': 433.8, 'close': 434.08}, '1602168300': {'date': '08-10-2020', 'open': 434.1, 'high': 434.2, 'low': 431.43, 'close': 432.55}, '1602169200': {'date': '08-10-2020', 'open': 432.53, 'high': 434.1, 'low': 431.96, 'close': 433.28}, '1602170100': {'date': '08-10-2020', 'open': 433.26, 'high': 433.43, 'low': 430.25, 'close': 431.31}, '1602171000': {'date': '08-10-2020', 'open': 431.3, 'high': 431.67, 'low': 428.66, 'close': 431.05}, '1602171900': {'date': '08-10-2020', 'open': 430.99, 'high': 431.97, 'low': 429.17, 'close': 431.73}, '1602172800': {'date': '08-10-2020', 'open': 431.76, 'high': 433.5, 'low': 431.2, 'close': 432.36}, '1602173700': {'date': '08-10-2020', 'open': 432.33, 'high': 433.51, 'low': 431.38, 'close': 433.02}, '1602174600': {'date': '08-10-2020', 'open': 433.08, 'high': 434.5, 'low': 433.08, 'close': 433.75}, '1602175500': {'date': '08-10-2020', 'open': 433.77, 'high': 434.93, 'low': 433.4, 'close': 434.08}, '1602176400': {'date': '08-10-2020', 'open': 434.2, 'high': 434.7, 'low': 432.4, 'close': 433.07}, '1602177300': {'date': '08-10-2020', 'open': 433.06, 'high': 433.19, 'low': 431.38, 'close': 431.88}, '1602178200': {'date': '08-10-2020', 'open': 431.93, 'high': 432.46, 'low': 429.92, 'close': 430.4}, '1602179100': {'date': '08-10-2020', 'open': 430.48, 'high': 431.23, 'low': 429.05, 'close': 429.69}, '1602180000': {'date': '08-10-2020', 'open': 429.63, 'high': 430.92, 'low': 429.18, 'close': 430.18}, '1602180900': {'date': '08-10-2020', 'open': 430.11, 'high': 431.24, 'low': 430.05, 'close': 430.9}, '1602181800': {'date': '08-10-2020', 'open': 430.92, 'high': 431.03, 'low': 427.65, 'close': 429.39}, '1602182700': {'date': '08-10-2020', 'open': 429.35, 'high': 430.24, 'low': 428.91, 'close': 429.47}, '1602183600': {'date': '08-10-2020', 'open': 429.47, 'high': 429.99, 'low': 427.8, 'close': 428.44}, '1602184500': {'date': '08-10-2020', 'open': 428.4, 'high': 428.67, 'low': 426.59, 'close': 427.72}, '1602185400': {'date': '08-10-2020', 'open': 427.72, 'high': 428, 'low': 425.75, 'close': 427.06}, '1602186300': {'date': '08-10-2020', 'open': 427.16, 'high': 427.32, 'low': 425.3, 'close': 425.92}, '1602250200': {'date': '09-10-2020', 'open': 430.13, 'high': 430.7, 'low': 426.46, 'close': 428.02}, '1602251100': {'date': '09-10-2020', 'open': 428.02, 'high': 432.82, 'low': 427.53, 'close': 432.07}, '1602252000': {'date': '09-10-2020', 'open': 432.15, 'high': 432.75, 'low': 429.29, 'close': 429.36}, '1602252900': {'date': '09-10-2020', 'open': 429.5, 'high': 430.64, 'low': 428.51, 'close': 429.27}, '1602253800': {'date': '09-10-2020', 'open': 429.27, 'high': 432.19, 'low': 429.15, 'close': 430.64}, '1602254700': {'date': '09-10-2020', 'open': 430.63, 'high': 432.24, 'low': 430.59, 'close': 431.96}, '1602255600': {'date': '09-10-2020', 'open': 431.91, 'high': 433.84, 'low': 431.91, 'close': 433.28}, '1602256500': {'date': '09-10-2020', 'open': 433.22, 'high': 433.45, 'low': 431.25, 'close': 432.18}, '1602257400': {'date': '09-10-2020', 'open': 432.17, 'high': 434.02, 'low': 432, 'close': 433.33}, '1602258300': {'date': '09-10-2020', 'open': 433.38, 'high': 434.59, 'low': 432.36, 'close': 433}, '1602259200': {'date': '09-10-2020', 'open': 432.98, 'high': 434.13, 'low': 432.76, 'close': 434.01}, '1602260100': {'date': '09-10-2020', 'open': 434.04, 'high': 434.38, 'low': 432.05, 'close': 432.47}, '1602261000': {'date': '09-10-2020', 'open': 432.49, 'high': 433.38, 'low': 432.31, 'close': 433.09}, '1602261900': {'date': '09-10-2020', 'open': 433.11, 'high': 433.38, 'low': 431.59, 'close': 431.85}, '1602262800': {'date': '09-10-2020', 'open': 431.88, 'high': 432.78, 'low': 431.46, 'close': 432.58}, '1602263700': {'date': '09-10-2020', 'open': 432.62, 'high': 433.11, 'low': 432, 'close': 433}, '1602264600': {'date': '09-10-2020', 'open': 433.04, 'high': 433.44, 'low': 432.4, 'close': 433.18}, '1602265500': {'date': '09-10-2020', 'open': 433.25, 'high': 433.99, 'low': 433.09, 'close': 433.58}, '1602266400': {'date': '09-10-2020', 'open': 433.53, 'high': 433.75, 'low': 432.41, 'close': 433.17}, '1602267300': {'date': '09-10-2020', 'open': 433.12, 'high': 433.5, 'low': 432.81, 'close': 433.07}, '1602268200': {'date': '09-10-2020', 'open': 433.02, 'high': 433.07, 'low': 431.8, 'close': 432.2}, '1602269100': {'date': '09-10-2020', 'open': 432.25, 'high': 432.35, 'low': 431.31, 'close': 432.13}, '1602270000': {'date': '09-10-2020', 'open': 432.23, 'high': 432.95, 'low': 431.96, 'close': 432.8}, '1602270900': {'date': '09-10-2020', 'open': 432.84, 'high': 433.5, 'low': 432.74, 'close': 433.4}, '1602271800': {'date': '09-10-2020', 'open': 433.39, 'high': 433.48, 'low': 432.32, 'close': 432.61}, '1602272700': {'date': '09-10-2020', 'open': 432.65, 'high': 433.97, 'low': 432.55, 'close': 433.96}, '1602509400': {'date': '12-10-2020', 'open': 442, 'high': 445.85, 'low': 440.7, 'close': 443.36}, '1602510300': {'date': '12-10-2020', 'open': 443.75, 'high': 444, 'low': 439.57, 'close': 440.99}, '1602511200': {'date': '12-10-2020', 'open': 441, 'high': 441.09, 'low': 438.58, 'close': 440.2}, '1602512100': {'date': '12-10-2020', 'open': 440.2, 'high': 442.18, 'low': 439.66, 'close': 441.38}, '1602513000': {'date': '12-10-2020', 'open': 441.39, 'high': 441.66, 'low': 439.06, 'close': 440.3}, '1602513900': {'date': '12-10-2020', 'open': 440.38, 'high': 443.35, 'low': 439.7, 'close': 442.57}, '1602514800': {'date': '12-10-2020', 'open': 442.6, 'high': 443.5, 'low': 442.02, 'close': 442.72}, '1602515700': {'date': '12-10-2020', 'open': 442.29, 'high': 442.41, 'low': 440.6, 'close': 440.74}, '1602516600': {'date': '12-10-2020', 'open': 440.63, 'high': 441.7, 'low': 440.07, 'close': 440.4}, '1602517500': {'date': '12-10-2020', 'open': 440.47, 'high': 441.28, 'low': 439.67, 'close': 441.12}, '1602518400': {'date': '12-10-2020', 'open': 441.15, 'high': 442.44, 'low': 440.46, 'close': 442.26}, '1602519300': {'date': '12-10-2020', 'open': 442.26, 'high': 443.7, 'low': 442.04, 'close': 443.2}, '1602520200': {'date': '12-10-2020', 'open': 443.29, 'high': 444.24, 'low': 441.88, 'close': 444.1}, '1602521100': {'date': '12-10-2020', 'open': 444.15, 'high': 444.77, 'low': 443.48, 'close': 443.83}, '1602522000': {'date': '12-10-2020', 'open': 443.88, 'high': 444.89, 'low': 442.7, 'close': 443.26}, '1602522900': {'date': '12-10-2020', 'open': 443.3, 'high': 444.22, 'low': 443.01, 'close': 443.58}, '1602523800': {'date': '12-10-2020', 'open': 443.56, 'high': 445, 'low': 443.25, 'close': 444.3}, '1602524700': {'date': '12-10-2020', 'open': 444.28, 'high': 445.5, 'low': 443.54, 'close': 444.86}, '1602525600': {'date': '12-10-2020', 'open': 444.95, 'high': 447.29, 'low': 444.6, 'close': 447.04}, '1602526500': {'date': '12-10-2020', 'open': 447.09, 'high': 448.44, 'low': 446.58, 'close': 448.14}, '1602527400': {'date': '12-10-2020', 'open': 448.14, 'high': 448.74, 'low': 445.65, 'close': 446.07}, '1602528300': {'date': '12-10-2020', 'open': 446.17, 'high': 448.03, 'low': 446.06, 'close': 446.6}, '1602529200': {'date': '12-10-2020', 'open': 446.7, 'high': 447.35, 'low': 443.83, 'close': 444.23}, '1602530100': {'date': '12-10-2020', 'open': 444.13, 'high': 444.95, 'low': 443.18, 'close': 444.65}, '1602531000': {'date': '12-10-2020', 'open': 444.64, 'high': 444.7, 'low': 442.27, 'close': 443.66}, '1602531900': {'date': '12-10-2020', 'open': 443.62, 'high': 443.65, 'low': 441.51, 'close': 442}, '1602595800': {'date': '13-10-2020', 'open': 442.14, 'high': 443, 'low': 437.53, 'close': 437.54}, '1602596700': {'date': '13-10-2020', 'open': 437, 'high': 440.25, 'low': 436.64, 'close': 440}, '1602597600': {'date': '13-10-2020', 'open': 439.9, 'high': 442.39, 'low': 439.3, 'close': 442.25}, '1602598500': {'date': '13-10-2020', 'open': 442.25, 'high': 445.81, 'low': 442.09, 'close': 444.5}, '1602599400': {'date': '13-10-2020', 'open': 444.55, 'high': 446.03, 'low': 443.75, 'close': 444.92}, '1602600300': {'date': '13-10-2020', 'open': 445, 'high': 447.6, 'low': 445, 'close': 447.4}, '1602601200': {'date': '13-10-2020', 'open': 447.4, 'high': 448.89, 'low': 446.56, 'close': 448.16}, '1602602100': {'date': '13-10-2020', 'open': 448.2, 'high': 448.4, 'low': 446.51, 'close': 446.68}, '1602603000': {'date': '13-10-2020', 'open': 446.7, 'high': 447.42, 'low': 445.63, 'close': 446.2}, '1602603900': {'date': '13-10-2020', 'open': 446.25, 'high': 446.4, 'low': 444.67, 'close': 445.7}, '1602604800': {'date': '13-10-2020', 'open': 445.64, 'high': 447.07, 'low': 445.43, 'close': 445.68}, '1602605700': {'date': '13-10-2020', 'open': 445.63, 'high': 445.83, 'low': 443.52, 'close': 444.55}, '1602606600': {'date': '13-10-2020', 'open': 444.5, 'high': 444.69, 'low': 442.64, 'close': 443.05}, '1602607500': {'date': '13-10-2020', 'open': 443.04, 'high': 444.26, 'low': 442.21, 'close': 443.53}, '1602608400': {'date': '13-10-2020', 'open': 443.53, 'high': 443.64, 'low': 440.67, 'close': 442.14}, '1602609300': {'date': '13-10-2020', 'open': 442.14, 'high': 444.1, 'low': 442, 'close': 443.89}, '1602610200': {'date': '13-10-2020', 'open': 443.91, 'high': 445.33, 'low': 443.54, 'close': 444.76}, '1602611100': {'date': '13-10-2020', 'open': 444.76, 'high': 445.97, 'low': 443.44, 'close': 443.68}, '1602612000': {'date': '13-10-2020', 'open': 443.79, 'high': 446.23, 'low': 443.43, 'close': 446.17}, '1602612900': {'date': '13-10-2020', 'open': 446.23, 'high': 447.45, 'low': 445.75, 'close': 445.92}, '1602613800': {'date': '13-10-2020', 'open': 445.89, 'high': 447.15, 'low': 445.09, 'close': 446.87}, '1602614700': {'date': '13-10-2020', 'open': 446.92, 'high': 447.54, 'low': 445.2, 'close': 446.14}, '1602615600': {'date': '13-10-2020', 'open': 446.14, 'high': 447.4, 'low': 445.38, 'close': 447.32}, '1602616500': {'date': '13-10-2020', 'open': 447.36, 'high': 448.5, 'low': 446.87, 'close': 447.7}, '1602617400': {'date': '13-10-2020', 'open': 447.7, 'high': 447.92, 'low': 446.5, 'close': 446.74}, '1602618300': {'date': '13-10-2020', 'open': 446.78, 'high': 447.84, 'low': 446.12, 'close': 446.65}, '1602682200': {'date': '14-10-2020', 'open': 449.78, 'high': 458.14, 'low': 447.35, 'close': 456.37}, '1602683100': {'date': '14-10-2020', 'open': 456, 'high': 458.96, 'low': 454.33, 'close': 458.8}, '1602684000': {'date': '14-10-2020', 'open': 458.76, 'high': 459.79, 'low': 457.04, 'close': 457.66}, '1602684900': {'date': '14-10-2020', 'open': 457.66, 'high': 461.08, 'low': 456.49, 'close': 457.89}, '1602685800': {'date': '14-10-2020', 'open': 457.87, 'high': 458.2, 'low': 453.55, 'close': 457.1}, '1602686700': {'date': '14-10-2020', 'open': 457.1, 'high': 458.75, 'low': 456.35, 'close': 458.42}, '1602687600': {'date': '14-10-2020', 'open': 458.48, 'high': 459.75, 'low': 457.14, 'close': 459.3}, '1602688500': {'date': '14-10-2020', 'open': 459.48, 'high': 463.19, 'low': 458.91, 'close': 461.72}, '1602689400': {'date': '14-10-2020', 'open': 461.76, 'high': 465.5, 'low': 460.25, 'close': 463.72}, '1602690300': {'date': '14-10-2020', 'open': 463.79, 'high': 464.4, 'low': 459.05, 'close': 459.17}, '1602691200': {'date': '14-10-2020', 'open': 459.41, 'high': 461.8, 'low': 458.32, 'close': 458.5}, '1602692100': {'date': '14-10-2020', 'open': 458.57, 'high': 459.25, 'low': 455.71, 'close': 458.24}, '1602693000': {'date': '14-10-2020', 'open': 458.21, 'high': 460.57, 'low': 457.37, 'close': 460.13}, '1602693900': {'date': '14-10-2020', 'open': 460.16, 'high': 461.05, 'low': 457.67, 'close': 457.97}, '1602694800': {'date': '14-10-2020', 'open': 457.94, 'high': 460.07, 'low': 457.66, 'close': 458.62}, '1602695700': {'date': '14-10-2020', 'open': 458.56, 'high': 461.81, 'low': 458.16, 'close': 460.98}, '1602696600': {'date': '14-10-2020', 'open': 460.86, 'high': 463.25, 'low': 459.62, 'close': 462.6}, '1602697500': {'date': '14-10-2020', 'open': 462.75, 'high': 465, 'low': 462.7, 'close': 464.52}, '1602698400': {'date': '14-10-2020', 'open': 464.48, 'high': 465.9, 'low': 463.05, 'close': 465.42}, '1602699300': {'date': '14-10-2020', 'open': 465.38, 'high': 465.75, 'low': 461.77, 'close': 463.21}, '1602700200': {'date': '14-10-2020', 'open': 463.17, 'high': 463.64, 'low': 461.38, 'close': 462.45}, '1602701100': {'date': '14-10-2020', 'open': 462.39, 'high': 464, 'low': 461.53, 'close': 463.35}, '1602702000': {'date': '14-10-2020', 'open': 463.39, 'high': 463.79, 'low': 461.84, 'close': 463.42}, '1602702900': {'date': '14-10-2020', 'open': 463.37, 'high': 464.23, 'low': 462.18, 'close': 463.65}, '1602703800': {'date': '14-10-2020', 'open': 463.55, 'high': 464.73, 'low': 463.06, 'close': 463.79}, '1602704700': {'date': '14-10-2020', 'open': 463.8, 'high': 463.85, 'low': 461.09, 'close': 461.3}, '1602768600': {'date': '15-10-2020', 'open': 450.31, 'high': 456.5, 'low': 450, 'close': 454.73}, '1602769500': {'date': '15-10-2020', 'open': 454.75, 'high': 456.57, 'low': 452.45, 'close': 453.39}, '1602770400': {'date': '15-10-2020', 'open': 453.33, 'high': 453.35, 'low': 449.16, 'close': 451.15}, '1602771300': {'date': '15-10-2020', 'open': 451.16, 'high': 453.76, 'low': 450.26, 'close': 450.76}, '1602772200': {'date': '15-10-2020', 'open': 450.82, 'high': 451.8, 'low': 446.17, 'close': 447.9}, '1602773100': {'date': '15-10-2020', 'open': 448.1, 'high': 448.3, 'low': 443.68, 'close': 445.82}, '1602774000': {'date': '15-10-2020', 'open': 445.93, 'high': 448.68, 'low': 444.28, 'close': 448.3}, '1602774900': {'date': '15-10-2020', 'open': 448.25, 'high': 449.78, 'low': 447.18, 'close': 447.81}, '1602775800': {'date': '15-10-2020', 'open': 447.81, 'high': 451.29, 'low': 446.89, 'close': 450.83}, '1602776700': {'date': '15-10-2020', 'open': 450.85, 'high': 451.28, 'low': 448.6, 'close': 448.88}, '1602777600': {'date': '15-10-2020', 'open': 448.72, 'high': 450.13, 'low': 447.33, 'close': 447.54}, '1602778500': {'date': '15-10-2020', 'open': 447.54, 'high': 448.4, 'low': 445.25, 'close': 445.79}, '1602779400': {'date': '15-10-2020', 'open': 445.75, 'high': 446.86, 'low': 445.01, 'close': 445.28}, '1602780300': {'date': '15-10-2020', 'open': 445.22, 'high': 446.07, 'low': 444.12, 'close': 444.92}, '1602781200': {'date': '15-10-2020', 'open': 444.89, 'high': 445.72, 'low': 443.7, 'close': 444.03}, '1602782100': {'date': '15-10-2020', 'open': 444, 'high': 444.85, 'low': 442.5, 'close': 444.03}, '1602783000': {'date': '15-10-2020', 'open': 444.07, 'high': 447.18, 'low': 443, 'close': 446.72}, '1602783900': {'date': '15-10-2020', 'open': 446.73, 'high': 446.96, 'low': 445.69, 'close': 446.53}, '1602784800': {'date': '15-10-2020', 'open': 446.51, 'high': 447.94, 'low': 446.05, 'close': 447.22}, '1602785700': {'date': '15-10-2020', 'open': 447.3, 'high': 447.49, 'low': 445.3, 'close': 446.33}, '1602786600': {'date': '15-10-2020', 'open': 446.36, 'high': 447.05, 'low': 444.68, 'close': 444.97}, '1602787500': {'date': '15-10-2020', 'open': 444.98, 'high': 447.8, 'low': 444.96, 'close': 447.75}, '1602788400': {'date': '15-10-2020', 'open': 447.7, 'high': 448.8, 'low': 447.35, 'close': 447.61}, '1602789300': {'date': '15-10-2020', 'open': 447.59, 'high': 449.9, 'low': 447.31, 'close': 449.89}, '1602790200': {'date': '15-10-2020', 'open': 449.82, 'high': 450.66, 'low': 449.16, 'close': 449.36}, '1602791100': {'date': '15-10-2020', 'open': 449.37, 'high': 449.8, 'low': 447.9, 'close': 448.88}, '1602855000': {'date': '16-10-2020', 'open': 454.44, 'high': 455.27, 'low': 451.88, 'close': 453}, '1602855900': {'date': '16-10-2020', 'open': 453, 'high': 453.13, 'low': 451.04, 'close': 452}, '1602856800': {'date': '16-10-2020', 'open': 451.91, 'high': 455.08, 'low': 451.83, 'close': 453.84}, '1602857700': {'date': '16-10-2020', 'open': 453.75, 'high': 454.6, 'low': 452.1, 'close': 452.25}, '1602858600': {'date': '16-10-2020', 'open': 452.24, 'high': 452.87, 'low': 449.8, 'close': 450.34}, '1602859500': {'date': '16-10-2020', 'open': 450.39, 'high': 450.91, 'low': 448.06, 'close': 449.84}, '1602860400': {'date': '16-10-2020', 'open': 449.5, 'high': 451.16, 'low': 445.5, 'close': 445.98}, '1602861300': {'date': '16-10-2020', 'open': 445.86, 'high': 446.99, 'low': 442.88, 'close': 445.57}, '1602862200': {'date': '16-10-2020', 'open': 445.51, 'high': 446.85, 'low': 444, 'close': 445.14}, '1602863100': {'date': '16-10-2020', 'open': 445.17, 'high': 447, 'low': 444.5, 'close': 446.69}, '1602864000': {'date': '16-10-2020', 'open': 446.69, 'high': 447.02, 'low': 444.76, 'close': 445.92}, '1602864900': {'date': '16-10-2020', 'open': 445.9, 'high': 448.24, 'low': 445.52, 'close': 447.96}, '1602865800': {'date': '16-10-2020', 'open': 447.88, 'high': 448.29, 'low': 445.67, 'close': 445.98}, '1602866700': {'date': '16-10-2020', 'open': 445.92, 'high': 449.35, 'low': 445.92, 'close': 449}, '1602867600': {'date': '16-10-2020', 'open': 448.94, 'high': 450.64, 'low': 448.45, 'close': 450.4}, '1602868500': {'date': '16-10-2020', 'open': 450.41, 'high': 451.44, 'low': 449.87, 'close': 450.29}, '1602869400': {'date': '16-10-2020', 'open': 450.32, 'high': 450.7, 'low': 449.32, 'close': 449.76}, '1602870300': {'date': '16-10-2020', 'open': 449.78, 'high': 450.1, 'low': 448.03, 'close': 448.45}, '1602871200': {'date': '16-10-2020', 'open': 448.48, 'high': 449, 'low': 446.81, 'close': 447}, '1602872100': {'date': '16-10-2020', 'open': 447.04, 'high': 447.85, 'low': 446.41, 'close': 447.57}, '1602873000': {'date': '16-10-2020', 'open': 447.64, 'high': 448.92, 'low': 447.2, 'close': 448.73}, '1602873900': {'date': '16-10-2020', 'open': 448.74, 'high': 449.4, 'low': 448.05, 'close': 449.08}, '1602874800': {'date': '16-10-2020', 'open': 449.12, 'high': 449.45, 'low': 445.05, 'close': 445.41}, '1602875700': {'date': '16-10-2020', 'open': 445.4, 'high': 446.49, 'low': 444.4, 'close': 444.6}, '1602876600': {'date': '16-10-2020', 'open': 444.5, 'high': 444.8, 'low': 439.42, 'close': 440.45}, '1602877500': {'date': '16-10-2020', 'open': 440.4, 'high': 441.02, 'low': 438.85, 'close': 439.91}, '1603114200': {'date': '19-10-2020', 'open': 446.24, 'high': 447, 'low': 442.6, 'close': 444.48}, '1603115100': {'date': '19-10-2020', 'open': 444.48, 'high': 445.8, 'low': 441.12, 'close': 441.7}, '1603116000': {'date': '19-10-2020', 'open': 441.68, 'high': 442.4, 'low': 437.6, 'close': 440.85}, '1603116900': {'date': '19-10-2020', 'open': 440.84, 'high': 443.88, 'low': 440.22, 'close': 443.09}, '1603117800': {'date': '19-10-2020', 'open': 443.04, 'high': 443.4, 'low': 434.11, 'close': 434.6}, '1603118700': {'date': '19-10-2020', 'open': 434.65, 'high': 437.15, 'low': 432.67, 'close': 436.57}, '1603119600': {'date': '19-10-2020', 'open': 436.61, 'high': 439.28, 'low': 436.11, 'close': 439.08}, '1603120500': {'date': '19-10-2020', 'open': 439.1, 'high': 439.85, 'low': 437.34, 'close': 439.61}, '1603121400': {'date': '19-10-2020', 'open': 439.65, 'high': 441.37, 'low': 438.76, 'close': 439.1}, '1603122300': {'date': '19-10-2020', 'open': 439.05, 'high': 440.2, 'low': 437.69, 'close': 438.04}, '1603123200': {'date': '19-10-2020', 'open': 438.09, 'high': 439.07, 'low': 435.64, 'close': 435.85}, '1603124100': {'date': '19-10-2020', 'open': 435.8, 'high': 437.5, 'low': 434.83, 'close': 437.38}, '1603125000': {'date': '19-10-2020', 'open': 437.28, 'high': 438.91, 'low': 436.75, 'close': 438.66}, '1603125900': {'date': '19-10-2020', 'open': 438.68, 'high': 439.65, 'low': 438.27, 'close': 438.78}, '1603126800': {'date': '19-10-2020', 'open': 438.72, 'high': 440.26, 'low': 437.29, 'close': 440.08}, '1603127700': {'date': '19-10-2020', 'open': 440.01, 'high': 440.41, 'low': 438.27, 'close': 438.68}, '1603128600': {'date': '19-10-2020', 'open': 438.8, 'high': 438.82, 'low': 437.31, 'close': 437.76}, '1603129500': {'date': '19-10-2020', 'open': 437.68, 'high': 437.76, 'low': 435.5, 'close': 437.43}, '1603130400': {'date': '19-10-2020', 'open': 437.31, 'high': 440, 'low': 436.84, 'close': 439.55}, '1603131300': {'date': '19-10-2020', 'open': 439.64, 'high': 441.15, 'low': 437.86, 'close': 438.44}, '1603132200': {'date': '19-10-2020', 'open': 438.37, 'high': 438.5, 'low': 435.7, 'close': 435.86}, '1603133100': {'date': '19-10-2020', 'open': 435.86, 'high': 437.7, 'low': 434.72, 'close': 435}, '1603134000': {'date': '19-10-2020', 'open': 434.8, 'high': 435.16, 'low': 432.34, 'close': 432.97}, '1603134900': {'date': '19-10-2020', 'open': 432.9, 'high': 433.47, 'low': 428.87, 'close': 429.45}, '1603135800': {'date': '19-10-2020', 'open': 429.44, 'high': 433.04, 'low': 429.42, 'close': 431.98}, '1603136700': {'date': '19-10-2020', 'open': 432, 'high': 434.12, 'low': 430.41, 'close': 430.88}, '1603200600': {'date': '20-10-2020', 'open': 429.36, 'high': 430.69, 'low': 423.34, 'close': 425.59}, '1603201500': {'date': '20-10-2020', 'open': 425.55, 'high': 427.3, 'low': 420.4, 'close': 424.04}, '1603202400': {'date': '20-10-2020', 'open': 424.04, 'high': 424.4, 'low': 421.65, 'close': 423.28}, '1603203300': {'date': '20-10-2020', 'open': 423.26, 'high': 423.87, 'low': 421.07, 'close': 422.22}, '1603204200': {'date': '20-10-2020', 'open': 422.24, 'high': 425.23, 'low': 421.5, 'close': 422.49}, '1603205100': {'date': '20-10-2020', 'open': 422.5, 'high': 423.66, 'low': 421.72, 'close': 422.55}, '1603206000': {'date': '20-10-2020', 'open': 422.41, 'high': 423.55, 'low': 420.68, 'close': 422.86}, '1603206900': {'date': '20-10-2020', 'open': 423.12, 'high': 424.58, 'low': 421.89, 'close': 423.85}, '1603207800': {'date': '20-10-2020', 'open': 424.04, 'high': 425.24, 'low': 422.28, 'close': 423.32}, '1603208700': {'date': '20-10-2020', 'open': 423.35, 'high': 424.56, 'low': 423, 'close': 424.56}, '1603209600': {'date': '20-10-2020', 'open': 424.55, 'high': 424.88, 'low': 423.5, 'close': 423.85}, '1603210500': {'date': '20-10-2020', 'open': 423.88, 'high': 425.11, 'low': 423.24, 'close': 423.59}, '1603211400': {'date': '20-10-2020', 'open': 423.57, 'high': 423.75, 'low': 421.75, 'close': 423.25}, '1603212300': {'date': '20-10-2020', 'open': 423.28, 'high': 426.68, 'low': 422.38, 'close': 426.3}, '1603213200': {'date': '20-10-2020', 'open': 426.2, 'high': 427.89, 'low': 425.7, 'close': 427.56}, '1603214100': {'date': '20-10-2020', 'open': 427.59, 'high': 429.05, 'low': 426.45, 'close': 426.58}, '1603215000': {'date': '20-10-2020', 'open': 426.7, 'high': 427.65, 'low': 425.25, 'close': 426.09}, '1603215900': {'date': '20-10-2020', 'open': 426.24, 'high': 428, 'low': 425.69, 'close': 426.1}, '1603216800': {'date': '20-10-2020', 'open': 426.19, 'high': 426.91, 'low': 424.3, 'close': 425.74}, '1603217700': {'date': '20-10-2020', 'open': 425.73, 'high': 426.25, 'low': 424.5, 'close': 425.14}, '1603218600': {'date': '20-10-2020', 'open': 425.17, 'high': 425.5, 'low': 423.74, 'close': 424.97}, '1603219500': {'date': '20-10-2020', 'open': 425.01, 'high': 425.15, 'low': 422.75, 'close': 422.92}, '1603220400': {'date': '20-10-2020', 'open': 422.94, 'high': 423.4, 'low': 419.35, 'close': 420.34}, '1603221300': {'date': '20-10-2020', 'open': 420.23, 'high': 422.3, 'low': 419.05, 'close': 421.8}, '1603222200': {'date': '20-10-2020', 'open': 421.8, 'high': 422.1, 'low': 420.33, 'close': 421.18}, '1603223100': {'date': '20-10-2020', 'open': 421.13, 'high': 422.59, 'low': 419.9, 'close': 421.87}}\n"
     ]
    }
   ],
   "source": [
    "#pull data from yahoo finance for tesla's stock history\n",
    "url = \"https://rapidapi.p.rapidapi.com/api/yahoo/hi/history/tsla/15m\"\n",
    "\n",
    "headers = {\n",
    "    'x-rapidapi-host': \"yahoo-finance15.p.rapidapi.com\",\n",
    "    'x-rapidapi-key': \"fe6bbed556msh5d9a20764b8f0cbp1f0d22jsnc1e17707cacf\"\n",
    "    }\n",
    "\n",
    "response = requests.request(\"GET\", url, headers=headers)\n",
    "#print(response.text)\n",
    "tsla_file = response.json()\n",
    "tsla_stock_price_list = tsla_file['items']\n",
    "print(tsla_stock_price_list)"
   ]
  },
  {
   "cell_type": "code",
   "execution_count": 3,
   "metadata": {},
   "outputs": [
    {
     "name": "stdout",
     "output_type": "stream",
     "text": [
      "         date    close\n",
      "0  2020-09-21  443.100\n",
      "1  2020-09-22  427.000\n",
      "2  2020-09-23  389.270\n",
      "3  2020-09-24  391.295\n",
      "4  2020-09-25  403.110\n",
      "5  2020-09-28  419.780\n",
      "6  2020-09-29  422.950\n",
      "7  2020-09-30  429.140\n",
      "8  2020-10-01  442.920\n",
      "9  2020-10-02  425.200\n",
      "10 2020-10-05  424.110\n",
      "11 2020-10-06  418.255\n",
      "12 2020-10-07  425.360\n",
      "13 2020-10-08  431.805\n",
      "14 2020-10-09  432.705\n",
      "15 2020-10-12  443.310\n",
      "16 2020-10-13  445.690\n",
      "17 2020-10-14  460.555\n",
      "18 2020-10-15  447.680\n",
      "19 2020-10-16  448.205\n",
      "20 2020-10-19  438.240\n",
      "21 2020-10-20  423.720\n"
     ]
    }
   ],
   "source": [
    "#make a dataframe using the list tsla_stock_price_list, which is a list of dictionaries\n",
    "tsla_stock_df=pd.DataFrame(tsla_stock_price_list).T[['date','close']]\n",
    "tsla_stock_df['date'] =pd.to_datetime(tsla_stock_df['date'], format='%d-%m-%Y')\n",
    "tsla_stock_df['close']=tsla_stock_df['close'].astype(float)\n",
    "\n",
    "tsla_stock_df=tsla_stock_df.groupby('date')[['close']].median().reset_index()\n",
    "#tsla_stock_df['date']=tsla_stock_df['date'].dt.strftime('%Y-%m-%d')\n",
    "#print(tsla_stock_df.dtypes)\n",
    "print(tsla_stock_df)"
   ]
  },
  {
   "cell_type": "code",
   "execution_count": 4,
   "metadata": {},
   "outputs": [
    {
     "name": "stdout",
     "output_type": "stream",
     "text": [
      "        date                                              title    neg    neu  \\\n",
      "0 2020-10-20  Ahead of Q3 Earnings, Tesla Sees Mixed Picture...  0.033  0.929   \n",
      "0 2020-10-20  Why You Should Buy Tesla ETFs Ahead of Q3 Earn...  0.085  0.763   \n",
      "0 2020-10-20  GM to Plan Third Electric-Vehicle Plant in Big...  0.013  0.892   \n",
      "0 2020-10-20  Dow Jones Jumps 250 Points On Coronavirus Stim...  0.000  0.844   \n",
      "0 2020-10-20  Tesla Service Bulletin Addresses Issue Of Bump...  0.079  0.847   \n",
      "0 2020-10-20  Tesla&#39;s Key Trading Levels to Know Ahead o...  0.000  1.000   \n",
      "0 2020-10-20  Dow Jones Up 200 Points On Stimulus Deal Hopes...  0.000  0.726   \n",
      "0 2020-10-20  Logitech Pulls Nasdaq Higher; Tesla Braces for...  0.036  0.855   \n",
      "0 2020-10-20                      Tesla In Park Before Earnings  0.000  1.000   \n",
      "0 2020-10-20  Dow Jones Rallies As Pelosi Stimulus Deadline ...  0.000  1.000   \n",
      "0 2020-10-20  The Zacks Analyst Blog Highlights: General Mot...  0.000  1.000   \n",
      "0 2020-10-20  How To Trade The Netflix And Tesla Earnings Re...  0.035  0.923   \n",
      "0 2020-10-20  Can Tesla hit 2020 delivery goal? Investors wa...  0.022  0.910   \n",
      "0 2020-10-20  Tesla Earnings To Spotlight This &#39;Linchpin...  0.000  1.000   \n",
      "0 2020-10-20  GM Is About To Reveal Its Answer To Tesla&#39;...  0.000  1.000   \n",
      "0 2020-10-20  Tesla Inc. stock underperforms Tuesday when co...  0.000  0.858   \n",
      "0 2020-10-20  Investors Wondering Whether Tesla Can Deliver ...  0.026  0.905   \n",
      "0 2020-10-21  Dow Jones Futures: Stock Market Rally Hits Pel...  0.082  0.918   \n",
      "\n",
      "     pos  compound  \n",
      "0  0.039    0.1027  \n",
      "0  0.153    0.3400  \n",
      "0  0.095    0.9874  \n",
      "0  0.156    0.5423  \n",
      "0  0.074    0.1791  \n",
      "0  0.000    0.0000  \n",
      "0  0.274    0.7003  \n",
      "0  0.109    0.6486  \n",
      "0  0.000    0.0000  \n",
      "0  0.000    0.0000  \n",
      "0  0.000    0.0000  \n",
      "0  0.043    0.6301  \n",
      "0  0.068    0.6249  \n",
      "0  0.000    0.0000  \n",
      "0  0.000    0.0000  \n",
      "0  0.142    0.7003  \n",
      "0  0.069    0.9814  \n",
      "0  0.000   -0.1531  \n"
     ]
    }
   ],
   "source": [
    "#clean data, convert date into datetime format and split date with time. \n",
    "vader = SentimentIntensityAnalyzer()\n",
    "result_df=pd.DataFrame()\n",
    "for each_news in List_of_news:\n",
    "    #each_news['pubDate']=datetime.fromisoformat(each_news['pubDate'])\n",
    "    each_news['pubDate'] = datetime.strptime(each_news['pubDate'], '%a, %d %b %Y %H:%M:%S %z')\n",
    "    df = pd.DataFrame(each_news, index=[0])\n",
    "    df['date'] = [d.date() for d in df['pubDate']]\n",
    "    scores = df['description'].apply(vader.polarity_scores).tolist()\n",
    "    df_each_news = df[['date','title']]\n",
    "    scores_df = pd.DataFrame(scores)\n",
    "\n",
    "    # Join the DataFrames of the news and the list of dicts\n",
    "    parsed_and_scored_news = df_each_news.join(scores_df, rsuffix='_right')\n",
    "    result_df = pd.concat([result_df,parsed_and_scored_news])\n",
    "    #print(scores)\n",
    "result_df = result_df.sort_values('date')\n",
    "result_df['date'] =pd.to_datetime(result_df['date'], format='%Y-%m-%d')\n",
    "print(result_df) "
   ]
  },
  {
   "cell_type": "code",
   "execution_count": 5,
   "metadata": {},
   "outputs": [
    {
     "name": "stdout",
     "output_type": "stream",
     "text": [
      "         date    close                                              title  \\\n",
      "0  2020-09-21  443.100                                                NaN   \n",
      "1  2020-09-22  427.000                                                NaN   \n",
      "2  2020-09-23  389.270                                                NaN   \n",
      "3  2020-09-24  391.295                                                NaN   \n",
      "4  2020-09-25  403.110                                                NaN   \n",
      "5  2020-09-28  419.780                                                NaN   \n",
      "6  2020-09-29  422.950                                                NaN   \n",
      "7  2020-09-30  429.140                                                NaN   \n",
      "8  2020-10-01  442.920                                                NaN   \n",
      "9  2020-10-02  425.200                                                NaN   \n",
      "10 2020-10-05  424.110                                                NaN   \n",
      "11 2020-10-06  418.255                                                NaN   \n",
      "12 2020-10-07  425.360                                                NaN   \n",
      "13 2020-10-08  431.805                                                NaN   \n",
      "14 2020-10-09  432.705                                                NaN   \n",
      "15 2020-10-12  443.310                                                NaN   \n",
      "16 2020-10-13  445.690                                                NaN   \n",
      "17 2020-10-14  460.555                                                NaN   \n",
      "18 2020-10-15  447.680                                                NaN   \n",
      "19 2020-10-16  448.205                                                NaN   \n",
      "20 2020-10-19  438.240                                                NaN   \n",
      "21 2020-10-20  423.720  Ahead of Q3 Earnings, Tesla Sees Mixed Picture...   \n",
      "22 2020-10-20  423.720  Why You Should Buy Tesla ETFs Ahead of Q3 Earn...   \n",
      "23 2020-10-20  423.720  GM to Plan Third Electric-Vehicle Plant in Big...   \n",
      "24 2020-10-20  423.720  Dow Jones Jumps 250 Points On Coronavirus Stim...   \n",
      "25 2020-10-20  423.720  Tesla Service Bulletin Addresses Issue Of Bump...   \n",
      "26 2020-10-20  423.720  Tesla&#39;s Key Trading Levels to Know Ahead o...   \n",
      "27 2020-10-20  423.720  Dow Jones Up 200 Points On Stimulus Deal Hopes...   \n",
      "28 2020-10-20  423.720  Logitech Pulls Nasdaq Higher; Tesla Braces for...   \n",
      "29 2020-10-20  423.720                      Tesla In Park Before Earnings   \n",
      "30 2020-10-20  423.720  Dow Jones Rallies As Pelosi Stimulus Deadline ...   \n",
      "31 2020-10-20  423.720  The Zacks Analyst Blog Highlights: General Mot...   \n",
      "32 2020-10-20  423.720  How To Trade The Netflix And Tesla Earnings Re...   \n",
      "33 2020-10-20  423.720  Can Tesla hit 2020 delivery goal? Investors wa...   \n",
      "34 2020-10-20  423.720  Tesla Earnings To Spotlight This &#39;Linchpin...   \n",
      "35 2020-10-20  423.720  GM Is About To Reveal Its Answer To Tesla&#39;...   \n",
      "36 2020-10-20  423.720  Tesla Inc. stock underperforms Tuesday when co...   \n",
      "37 2020-10-20  423.720  Investors Wondering Whether Tesla Can Deliver ...   \n",
      "38 2020-10-21      NaN  Dow Jones Futures: Stock Market Rally Hits Pel...   \n",
      "\n",
      "      neg    neu    pos  compound  \n",
      "0     NaN    NaN    NaN       NaN  \n",
      "1     NaN    NaN    NaN       NaN  \n",
      "2     NaN    NaN    NaN       NaN  \n",
      "3     NaN    NaN    NaN       NaN  \n",
      "4     NaN    NaN    NaN       NaN  \n",
      "5     NaN    NaN    NaN       NaN  \n",
      "6     NaN    NaN    NaN       NaN  \n",
      "7     NaN    NaN    NaN       NaN  \n",
      "8     NaN    NaN    NaN       NaN  \n",
      "9     NaN    NaN    NaN       NaN  \n",
      "10    NaN    NaN    NaN       NaN  \n",
      "11    NaN    NaN    NaN       NaN  \n",
      "12    NaN    NaN    NaN       NaN  \n",
      "13    NaN    NaN    NaN       NaN  \n",
      "14    NaN    NaN    NaN       NaN  \n",
      "15    NaN    NaN    NaN       NaN  \n",
      "16    NaN    NaN    NaN       NaN  \n",
      "17    NaN    NaN    NaN       NaN  \n",
      "18    NaN    NaN    NaN       NaN  \n",
      "19    NaN    NaN    NaN       NaN  \n",
      "20    NaN    NaN    NaN       NaN  \n",
      "21  0.033  0.929  0.039    0.1027  \n",
      "22  0.085  0.763  0.153    0.3400  \n",
      "23  0.013  0.892  0.095    0.9874  \n",
      "24  0.000  0.844  0.156    0.5423  \n",
      "25  0.079  0.847  0.074    0.1791  \n",
      "26  0.000  1.000  0.000    0.0000  \n",
      "27  0.000  0.726  0.274    0.7003  \n",
      "28  0.036  0.855  0.109    0.6486  \n",
      "29  0.000  1.000  0.000    0.0000  \n",
      "30  0.000  1.000  0.000    0.0000  \n",
      "31  0.000  1.000  0.000    0.0000  \n",
      "32  0.035  0.923  0.043    0.6301  \n",
      "33  0.022  0.910  0.068    0.6249  \n",
      "34  0.000  1.000  0.000    0.0000  \n",
      "35  0.000  1.000  0.000    0.0000  \n",
      "36  0.000  0.858  0.142    0.7003  \n",
      "37  0.026  0.905  0.069    0.9814  \n",
      "38  0.082  0.918  0.000   -0.1531  \n"
     ]
    }
   ],
   "source": [
    "#merge the stock price dataframe with sentiment scores dataframe\n",
    "stock_sentiment_df = pd.merge(left=tsla_stock_df, right=result_df, how='outer', left_on='date', right_on='date')\n",
    "print(stock_sentiment_df)"
   ]
  },
  {
   "cell_type": "code",
   "execution_count": 6,
   "metadata": {},
   "outputs": [
    {
     "data": {
      "image/png": "[encoded data removed]",
      "text/plain": [
       "<Figure size 720x432 with 1 Axes>"
      ]
     },
     "metadata": {
      "needs_background": "light"
     },
     "output_type": "display_data"
    }
   ],
   "source": [
    "#visualization\n",
    "plt.rcParams['figure.figsize'] = [10, 6]\n",
    "\n",
    "# Group by date and calculate the mean\n",
    "#mean_scores = stock_sentiment_df.groupby(['date']).mean()\n",
    "\n",
    "# Unstack the column ticker\n",
    "#mean_scores = mean_scores.unstack()\n",
    "\n",
    "plt.plot(stock_sentiment_df['date'], stock_sentiment_df['close'])\n",
    "# Plot a bar chart with pandas\n",
    "plt.bar(stock_sentiment_df['date'],stock_sentiment_df['compound']*100)\n",
    "plt.show()"
   ]
  },
  {
   "cell_type": "code",
   "execution_count": 7,
   "metadata": {},
   "outputs": [
    {
     "name": "stdout",
     "output_type": "stream",
     "text": [
      "         date                                              title         0\n",
      "0  2020-10-20  Ahead of Q3 Earnings, Tesla Sees Mixed Picture...  0.124074\n",
      "0  2020-10-20  Why You Should Buy Tesla ETFs Ahead of Q3 Earn...  0.159091\n",
      "0  2020-10-20  GM to Plan Third Electric-Vehicle Plant in Big...  0.097968\n",
      "0  2020-10-20  Dow Jones Jumps 250 Points On Coronavirus Stim... -0.150000\n",
      "0  2020-10-20  Tesla Service Bulletin Addresses Issue Of Bump...  0.144238\n",
      "0  2020-10-20  Tesla&#39;s Key Trading Levels to Know Ahead o...  0.000000\n",
      "0  2020-10-20  Dow Jones Up 200 Points On Stimulus Deal Hopes... -0.012500\n",
      "0  2020-10-20  Logitech Pulls Nasdaq Higher; Tesla Braces for...  0.266667\n",
      "0  2020-10-20                      Tesla In Park Before Earnings  0.095238\n",
      "0  2020-10-20  Dow Jones Rallies As Pelosi Stimulus Deadline ...  0.000000\n",
      "0  2020-10-20  The Zacks Analyst Blog Highlights: General Mot...  0.050000\n",
      "0  2020-10-20  How To Trade The Netflix And Tesla Earnings Re...  0.047840\n",
      "0  2020-10-20  Can Tesla hit 2020 delivery goal? Investors wa...  0.025758\n",
      "0  2020-10-20  Tesla Earnings To Spotlight This &#39;Linchpin...  0.000000\n",
      "0  2020-10-20  GM Is About To Reveal Its Answer To Tesla&#39;...  0.000000\n",
      "0  2020-10-20  Tesla Inc. stock underperforms Tuesday when co...  0.213636\n",
      "0  2020-10-20  Investors Wondering Whether Tesla Can Deliver ...  0.061661\n",
      "0  2020-10-21  Dow Jones Futures: Stock Market Rally Hits Pel... -0.300000\n"
     ]
    }
   ],
   "source": [
    "#use a different library textblob to compute sentiment scores\n",
    "def getPolarity(text):\n",
    "    return TextBlob(text).sentiment.polarity\n",
    "result_textblob_df=pd.DataFrame()\n",
    "for news in List_of_news:\n",
    "    #each_news['pubDate']=datetime.fromisoformat(each_news['pubDate'])\n",
    "    #print(news)\n",
    "    #news['pubDate'] = datetime.strptime(news['pubDate'], '%a, %d %b %Y %H:%M:%S %z')\n",
    "    df = pd.DataFrame(news, index=[0])\n",
    "    df['date'] = [d.date() for d in df['pubDate']]\n",
    "    scores = df['description'].apply(getPolarity).tolist()\n",
    "    df_each_news = df[['date','title']]\n",
    "    scores_df = pd.DataFrame(scores)\n",
    "\n",
    "    # Join the DataFrames of the news and the list of dicts\n",
    "    parsed_and_scored_news = df_each_news.join(scores_df, rsuffix='_right')\n",
    "    result_textblob_df = pd.concat([result_textblob_df,parsed_and_scored_news])\n",
    "result_textblob_df = result_textblob_df.sort_values('date')\n",
    "print(result_textblob_df)"
   ]
  },
  {
   "cell_type": "code",
   "execution_count": 8,
   "metadata": {},
   "outputs": [],
   "source": [
    "#since yahoo finance only provides financial news for two days, 9/8/2020 and 9/9/2020\n",
    "#it is insufficient to use it to create a model, now try news data from finviz\n",
    "\n",
    "tesla_url = 'https://finviz.com/quote.ashx?t=tsla'\n",
    "req = Request(url=tesla_url, headers={'user-agent': 'my-app'})\n",
    "response = urlopen(req)\n",
    "tsla_html = BeautifulSoup(response, 'html')\n",
    "tsla_news_table = tsla_html.find(id='news-table')\n",
    "tsla_news = tsla_news_table.findAll('tr')      #extract news section from the html\n",
    "#print(tsla_news)"
   ]
  },
  {
   "cell_type": "code",
   "execution_count": 9,
   "metadata": {},
   "outputs": [
    {
     "name": "stdout",
     "output_type": "stream",
     "text": [
      "['Oct-20-20', '10:18PM\\xa0\\xa0']\n",
      "['08:30PM\\xa0\\xa0']\n",
      "['04:49PM\\xa0\\xa0']\n",
      "['04:25PM\\xa0\\xa0']\n",
      "['04:10PM\\xa0\\xa0']\n",
      "['04:07PM\\xa0\\xa0']\n",
      "['04:02PM\\xa0\\xa0']\n",
      "['03:54PM\\xa0\\xa0']\n",
      "['03:45PM\\xa0\\xa0']\n",
      "['03:05PM\\xa0\\xa0']\n",
      "['02:57PM\\xa0\\xa0']\n",
      "['02:19PM\\xa0\\xa0']\n",
      "['01:46PM\\xa0\\xa0']\n",
      "['01:40PM\\xa0\\xa0']\n",
      "['01:32PM\\xa0\\xa0']\n",
      "['12:51PM\\xa0\\xa0']\n",
      "['12:30PM\\xa0\\xa0']\n",
      "['12:20PM\\xa0\\xa0']\n",
      "['12:06PM\\xa0\\xa0']\n",
      "['12:01PM\\xa0\\xa0']\n",
      "['11:50AM\\xa0\\xa0']\n",
      "['10:43AM\\xa0\\xa0']\n",
      "['10:24AM\\xa0\\xa0']\n",
      "['10:17AM\\xa0\\xa0']\n",
      "['10:12AM\\xa0\\xa0']\n",
      "['10:12AM\\xa0\\xa0']\n",
      "['10:08AM\\xa0\\xa0']\n",
      "['10:00AM\\xa0\\xa0']\n",
      "['09:56AM\\xa0\\xa0']\n",
      "['09:33AM\\xa0\\xa0']\n",
      "['08:38AM\\xa0\\xa0']\n",
      "['08:18AM\\xa0\\xa0']\n",
      "['07:07AM\\xa0\\xa0']\n",
      "['07:00AM\\xa0\\xa0']\n",
      "['06:06AM\\xa0\\xa0']\n",
      "['04:13AM\\xa0\\xa0']\n",
      "['Oct-19-20', '10:32PM\\xa0\\xa0']\n",
      "['10:20PM\\xa0\\xa0']\n",
      "['08:03PM\\xa0\\xa0']\n",
      "['06:52PM\\xa0\\xa0']\n",
      "['05:06PM\\xa0\\xa0']\n",
      "['04:26PM\\xa0\\xa0']\n",
      "['04:15PM\\xa0\\xa0']\n",
      "['03:46PM\\xa0\\xa0']\n",
      "['03:04PM\\xa0\\xa0']\n",
      "['02:32PM\\xa0\\xa0']\n",
      "['12:03PM\\xa0\\xa0']\n",
      "['12:02PM\\xa0\\xa0']\n",
      "['11:40AM\\xa0\\xa0']\n",
      "['11:05AM\\xa0\\xa0']\n",
      "['10:25AM\\xa0\\xa0']\n",
      "['10:02AM\\xa0\\xa0']\n",
      "['09:31AM\\xa0\\xa0']\n",
      "['08:45AM\\xa0\\xa0']\n",
      "['08:08AM\\xa0\\xa0']\n",
      "['07:54AM\\xa0\\xa0']\n",
      "['07:50AM\\xa0\\xa0']\n",
      "['07:31AM\\xa0\\xa0']\n",
      "['06:11AM\\xa0\\xa0']\n",
      "['Oct-18-20', '10:18PM\\xa0\\xa0']\n",
      "['05:22PM\\xa0\\xa0']\n",
      "['03:22PM\\xa0\\xa0']\n",
      "['01:22PM\\xa0\\xa0']\n",
      "['12:46PM\\xa0\\xa0']\n",
      "['11:10AM\\xa0\\xa0']\n",
      "['10:51AM\\xa0\\xa0']\n",
      "['04:55AM\\xa0\\xa0']\n",
      "['Oct-16-20', '07:30PM\\xa0\\xa0']\n",
      "['05:25PM\\xa0\\xa0']\n",
      "['04:35PM\\xa0\\xa0']\n",
      "['04:34PM\\xa0\\xa0']\n",
      "['04:25PM\\xa0\\xa0']\n",
      "['04:16PM\\xa0\\xa0']\n",
      "['04:02PM\\xa0\\xa0']\n",
      "['02:10PM\\xa0\\xa0']\n",
      "['12:46PM\\xa0\\xa0']\n",
      "['09:14AM\\xa0\\xa0']\n",
      "['07:53AM\\xa0\\xa0']\n",
      "['06:13AM\\xa0\\xa0']\n",
      "['04:42AM\\xa0\\xa0']\n",
      "['04:25AM\\xa0\\xa0']\n",
      "['01:54AM\\xa0\\xa0']\n",
      "['01:49AM\\xa0\\xa0']\n",
      "['01:46AM\\xa0\\xa0']\n",
      "['12:29AM\\xa0\\xa0']\n",
      "['Oct-15-20', '08:36PM\\xa0\\xa0']\n",
      "['05:49PM\\xa0\\xa0']\n",
      "['05:35PM\\xa0\\xa0']\n",
      "['05:23PM\\xa0\\xa0']\n",
      "['04:26PM\\xa0\\xa0']\n",
      "['04:11PM\\xa0\\xa0']\n",
      "['03:11PM\\xa0\\xa0']\n",
      "['02:14PM\\xa0\\xa0']\n",
      "['12:57PM\\xa0\\xa0']\n",
      "['12:17PM\\xa0\\xa0']\n",
      "['12:07PM\\xa0\\xa0']\n",
      "['11:56AM\\xa0\\xa0']\n",
      "['11:35AM\\xa0\\xa0']\n",
      "['11:30AM\\xa0\\xa0']\n",
      "['10:29AM\\xa0\\xa0']\n",
      "[['Oct-20-20', '10:18PM\\xa0\\xa0', 'Dow Jones Futures: Stock Market Rally Hits Pelosi Stimulus Deadline; Netflix Dives, While Snap Rockets 24% On Earnings'], ['Oct-20-20', '08:30PM\\xa0\\xa0', 'GMC reveals the Hummer EV: 1,000 HP, 350 mile range, and 0-60 in \"around 3 seconds\"'], ['Oct-20-20', '04:49PM\\xa0\\xa0', 'GM to launch all-electric hummer Tuesday night'], ['Oct-20-20', '04:25PM\\xa0\\xa0', 'Tesla Inc. stock underperforms Tuesday when compared to competitors'], ['Oct-20-20', '04:10PM\\xa0\\xa0', \"GM Is About To Reveal Its Answer To Tesla's Cybertruck As Billions More Pour Into EVs\"], ['Oct-20-20', '04:07PM\\xa0\\xa0', \"Tesla Earnings To Spotlight This 'Linchpin' For Its Electric Cars\"], ['Oct-20-20', '04:02PM\\xa0\\xa0', 'Can Tesla hit 2020 delivery goal? Investors watch for Musk steer'], ['Oct-20-20', '03:54PM\\xa0\\xa0', 'Can Tesla hit 2020 delivery goal? Investors watch for Musk steer'], ['Oct-20-20', '03:45PM\\xa0\\xa0', 'Tesla analysts hope for Musk sign on 2020 delivery goal during third-quarter call'], ['Oct-20-20', '03:05PM\\xa0\\xa0', \"Here's what to expect from Tesla's Q3 earnings\"], ['Oct-20-20', '02:57PM\\xa0\\xa0', 'How To Trade The Netflix And Tesla Earnings Reports Using Options'], ['Oct-20-20', '02:19PM\\xa0\\xa0', 'The Zacks Analyst Blog Highlights: General Motors, Navistar, Ford, Tesla and Penske'], ['Oct-20-20', '01:46PM\\xa0\\xa0', 'Dow Jones Rallies As Pelosi Stimulus Deadline Looms; This Top Stock Fizzes Past Buy Point'], ['Oct-20-20', '01:40PM\\xa0\\xa0', 'Ahead of Q3 Earnings, Tesla Sees Mixed Picture in California'], ['Oct-20-20', '01:32PM\\xa0\\xa0', 'Logitech Pulls Nasdaq Higher; Tesla Braces for Earnings'], ['Oct-20-20', '12:51PM\\xa0\\xa0', 'Dow Jones Up 200 Points On Stimulus Deal Hopes; This Hot Growth Stock Breaks Out'], ['Oct-20-20', '12:30PM\\xa0\\xa0', \"Tesla's Key Trading Levels to Know Ahead of Earnings\"], ['Oct-20-20', '12:20PM\\xa0\\xa0', 'Tesla Service Bulletin Addresses Issue Of Bumpers Falling Off Model 3'], ['Oct-20-20', '12:06PM\\xa0\\xa0', 'Dow Jones Jumps 250 Points On Coronavirus Stimulus Hopes; Shopify, Tesla Tumble, While IBM Plunges On Earnings'], ['Oct-20-20', '12:01PM\\xa0\\xa0', 'GM\\xa0to Plan Third Electric-Vehicle Plant in Big Plug-In Bet'], ['Oct-20-20', '11:50AM\\xa0\\xa0', 'Why You Should Buy Tesla ETFs Ahead of Q3 Earnings'], ['Oct-20-20', '10:43AM\\xa0\\xa0', \"Tesla's Indicators Continue to Show Signs of Weakness\"], ['Oct-20-20', '10:24AM\\xa0\\xa0', 'Tesla Demand Is Driving This Lithium Miners Stock Higher'], ['Oct-20-20', '10:17AM\\xa0\\xa0', 'More EV Companies Are Coming to Market. None of Them Have Any Real Revenue.'], ['Oct-20-20', '10:12AM\\xa0\\xa0', \"Tesla's Earnings Outlook\"], ['Oct-20-20', '10:12AM\\xa0\\xa0', 'After a Banner Year for IPOs, Here Are the 10 Largest Unicorns Left in the Private Market'], ['Oct-20-20', '10:08AM\\xa0\\xa0', 'Teslas Earnings Will Be Dramatic. How to Play It With Stock Options.'], ['Oct-20-20', '10:00AM\\xa0\\xa0', 'Driverless Race Accelerates: Who is Leading the Game?'], ['Oct-20-20', '09:56AM\\xa0\\xa0', \"Tesla's stock falls again ahead of earnings, is in danger of longest losing streak in 7 months\"], ['Oct-20-20', '09:33AM\\xa0\\xa0', 'Tesla Earnings: What to Watch'], ['Oct-20-20', '08:38AM\\xa0\\xa0', 'Should You Buy Tesla (TSLA) Ahead of Earnings?'], ['Oct-20-20', '08:18AM\\xa0\\xa0', \"Dow Jones Futures Rise On Stimulus Deal Progress After Stock Market Rally Sell-Off; Apple's Flawed New Buy Point\"], ['Oct-20-20', '07:07AM\\xa0\\xa0', 'These 3 Stocks Would Be Huge Winners From a Green New Deal'], ['Oct-20-20', '07:00AM\\xa0\\xa0', \"Is Tesla Stock A Buy Right Now? Here's What Earnings, Charts Show\"], ['Oct-20-20', '06:06AM\\xa0\\xa0', '5 of the Most Talked-About FinTwit Stocks'], ['Oct-20-20', '04:13AM\\xa0\\xa0', 'Tesla 3Q California Car Registrations Slip 13%  Report'], ['Oct-19-20', '10:32PM\\xa0\\xa0', 'Tesla Model Y Vehicles Recalled Over Inoperative Trailer Brake Lights'], ['Oct-19-20', '10:20PM\\xa0\\xa0', 'Tesla third-quarter registrations in California drop 13% - data'], ['Oct-19-20', '08:03PM\\xa0\\xa0', 'Tesla third-quarter registrations in California drop 13%: data'], ['Oct-19-20', '06:52PM\\xa0\\xa0', 'Piedmont Lithium to Issue U.S. Shares as Tesla Drives Interest'], ['Oct-19-20', '05:06PM\\xa0\\xa0', 'Tesla Begins Exporting China-Made Model 3s To Europe'], ['Oct-19-20', '04:26PM\\xa0\\xa0', 'Tesla Inc. stock falls Monday, underperforms market'], ['Oct-19-20', '04:15PM\\xa0\\xa0', \"Tesla's Shift On Model 3 In Europe Signals Upside And Weakness\"], ['Oct-19-20', '03:46PM\\xa0\\xa0', 'What You Need To Know In Options For This Week: Tesla, Snap, Netflix And More'], ['Oct-19-20', '03:04PM\\xa0\\xa0', 'Tesla exporting China-made Model 3 vehicles to Europe'], ['Oct-19-20', '02:32PM\\xa0\\xa0', \"Tesla Withdraws 'No-Questions-Asked' 7-Day Return Policy\"], ['Oct-19-20', '12:03PM\\xa0\\xa0', 'Dow Jones Falls 125 Points On Coronavirus Stimulus Uncertainty; Amazon, Apple, Shopify, Tesla Near New Buy Points'], ['Oct-19-20', '12:02PM\\xa0\\xa0', 'Tesla Analyst Raises Price Target To $500 Ahead Of Q3 Print'], ['Oct-19-20', '11:40AM\\xa0\\xa0', 'Tesla to export China-made Model 3 vehicles to Europe'], ['Oct-19-20', '11:05AM\\xa0\\xa0', 'Tesla Will Export Model 3 to Europe From Shanghai Factory'], ['Oct-19-20', '10:25AM\\xa0\\xa0', \"IBM, Tesla, Netflix to report earnings this week, here's what you need to know\"], ['Oct-19-20', '10:02AM\\xa0\\xa0', 'Tesla and Netflix put their big 2020 gains on the line this week'], ['Oct-19-20', '09:31AM\\xa0\\xa0', 'Tesla Rises on Wedbush Upgrade Ahead of Third-Quarter Earnings'], ['Oct-19-20', '08:45AM\\xa0\\xa0', 'Tesla to Deliver China-Made Model 3 to Europe'], ['Oct-19-20', '08:08AM\\xa0\\xa0', 'Dow Jones Futures: Stock Market Rally At Turning Point; Pelosi Sets Stimulus Deal Deadline'], ['Oct-19-20', '07:54AM\\xa0\\xa0', 'A Fifth of the S&P 500 Is Getting Set to Report Earnings. Dont Forget Tesla.'], ['Oct-19-20', '07:50AM\\xa0\\xa0', 'Tesla to export China-made Model 3 vehicles to Europe'], ['Oct-19-20', '07:31AM\\xa0\\xa0', 'Tesla Getting Closer To Building New Factory In Indonesia'], ['Oct-19-20', '06:11AM\\xa0\\xa0', \"Tesla's stock rises after Wedbush's Ives lifts target to $500\"], ['Oct-18-20', '10:18PM\\xa0\\xa0', 'Tesla Accounts For Majority Of EV Sales In South Korea This Year: Report'], ['Oct-18-20', '05:22PM\\xa0\\xa0', 'Stock Market Rally At Turning Point; Pelosi Sets Stimulus Deal Deadline'], ['Oct-18-20', '03:22PM\\xa0\\xa0', 'Earnings Reports for the Week of Oct. 19-23 (NFLX, PG, TSLA)'], ['Oct-18-20', '01:22PM\\xa0\\xa0', 'Stock Market Rally At Turning Point: Amazon Offers Lower Buy Point, Tesla, Netflix Earnings On Tap'], ['Oct-18-20', '12:46PM\\xa0\\xa0', 'Is Tesla Stock a Buy Ahead of Earnings?'], ['Oct-18-20', '11:10AM\\xa0\\xa0', 'Netflix, Tesla report earnings results: What to know in the week ahead'], ['Oct-18-20', '10:51AM\\xa0\\xa0', '2 Big Challenges As Tesla Aims for a $25,000 Car'], ['Oct-18-20', '04:55AM\\xa0\\xa0', \"Watch Now: Here's What Will Move Markets This Week - October 18 (Video)\"], ['Oct-16-20', '07:30PM\\xa0\\xa0', 'Whos Afraid of High Deficits Now?'], ['Oct-16-20', '05:25PM\\xa0\\xa0', \"Albion Financial's Jason Ware on what he's expecting from big tech earnings\"], ['Oct-16-20', '04:35PM\\xa0\\xa0', 'Report: Tesla Cancels 7-Day, No-Questions-Asked Return Policy'], ['Oct-16-20', '04:34PM\\xa0\\xa0', 'Stock Market Rally Pauses Amid Stalled Stimulus; Apple iPhone, Amazon Prime Day In Focus, Fastly, Vertex Plunge'], ['Oct-16-20', '04:25PM\\xa0\\xa0', 'Tesla Inc. stock falls Friday, underperforms market'], ['Oct-16-20', '04:16PM\\xa0\\xa0', 'Nikola Stock Plunges As CEO Hints It Can Go On Without Badger Partner GM'], ['Oct-16-20', '04:02PM\\xa0\\xa0', 'Despite Government Threat, General Electric Is Still Treading Water'], ['Oct-16-20', '02:10PM\\xa0\\xa0', 'Tesla Earnings: What to Look For From TSLA'], ['Oct-16-20', '12:46PM\\xa0\\xa0', 'Tesla Model 3 Refresh Is Here: 30 More Miles Of Range, New Wheels, More'], ['Oct-16-20', '09:14AM\\xa0\\xa0', 'Morning Bell With Jim Cramer: Thoughts on Tesla Price Cuts'], ['Oct-16-20', '07:53AM\\xa0\\xa0', 'Glencore in talks with carmakers and battery makers about nickel, CEO says'], ['Oct-16-20', '06:13AM\\xa0\\xa0', \"Tesla Sued By Customer Over Alleged 'Bait-And-Switch' Tactics In Solar Panel Deal: Report\"], ['Oct-16-20', '04:42AM\\xa0\\xa0', 'CEO of top battery maker LG Chem discloses JV talks, defends split-off'], ['Oct-16-20', '04:25AM\\xa0\\xa0', \"Tesla Battery Supplier LG Chem Says Exploring Joint Ventures With 'Couple' Of Automakers\"], ['Oct-16-20', '01:54AM\\xa0\\xa0', 'CEO of top battery maker LG Chem discloses JV talks, defends split-off'], ['Oct-16-20', '01:49AM\\xa0\\xa0', 'Top EV battery maker LG Chem in JV talks with automakers -CEO'], ['Oct-16-20', '01:46AM\\xa0\\xa0', 'StockBeat: Daimler Returns to Profit in Style'], ['Oct-16-20', '12:29AM\\xa0\\xa0', 'Foxconn Expands Its Automotive Business to Boost Future Growth'], ['Oct-15-20', '08:36PM\\xa0\\xa0', 'Tesla Again Cutting Price of Model S, Musk Says'], ['Oct-15-20', '05:49PM\\xa0\\xa0', \"This Strategy Flips The Script On Finding Winning Growth Stocks Like Tesla  Here's How\"], ['Oct-15-20', '05:35PM\\xa0\\xa0', 'Dow Jones Futures: Zoom Video Flags Another Breakout; Market Pause Bullish For Apple, These Titans'], ['Oct-15-20', '05:23PM\\xa0\\xa0', 'Tesla Customer Sues Over Solar-Panel Deal Being Reported as Loan'], ['Oct-15-20', '04:26PM\\xa0\\xa0', 'Tesla Inc. stock falls Thursday, underperforms market'], ['Oct-15-20', '04:11PM\\xa0\\xa0', \"New Tesla Rival Throws Down The 'Gauntlet' And Elon Musk Accepts\"], ['Oct-15-20', '03:11PM\\xa0\\xa0', 'Fisker Announces Magna As Partner On $37,499 Ocean SUV Ahead Of SPAC Merger'], ['Oct-15-20', '02:14PM\\xa0\\xa0', \"What To Expect When Tesla's Q3 Report Drops Next Week\"], ['Oct-15-20', '12:57PM\\xa0\\xa0', 'Tesla lowers Model S base price twice in once week'], ['Oct-15-20', '12:17PM\\xa0\\xa0', 'Dow Jones Trims Losses After Taking A Steep Dive On Jobless Claims Spike'], ['Oct-15-20', '12:07PM\\xa0\\xa0', 'Dow Jones Dives 325 Points, As Jobless Claims Jump; Apple, Tesla Stumble, While Fastly Crashes 30% On TikTok Weakness'], ['Oct-15-20', '11:56AM\\xa0\\xa0', 'Competition Increasing In The EV Space'], ['Oct-15-20', '11:35AM\\xa0\\xa0', 'China-Made Tesla Model Y Could Reach 360K Units Annually: Research Report'], ['Oct-15-20', '11:30AM\\xa0\\xa0', 'Renault Bolsters Electric-Car Lineup After Squandering Lead'], ['Oct-15-20', '10:29AM\\xa0\\xa0', \"Tesla, Amazon, Nvidia May Be 'Extravagantly Priced' But Valuations Are Rational, Investment Firm Says\"]]\n"
     ]
    }
   ],
   "source": [
    "#extract the timestamp and news headline \n",
    "import re\n",
    "import string\n",
    "tsla_news_data = []\n",
    "for row in tsla_news:\n",
    "    title = row.a.text\n",
    "    date_list = row.td.text.split(' ')\n",
    "    #date = re.sub('\\D', '', date).split(' ')\n",
    "    print(date_list)\n",
    "    if len(date_list)==1:\n",
    "        time = date_list[0]\n",
    "    else:\n",
    "        date = date_list[0]\n",
    "        time = date_list[1]\n",
    "    tsla_news_data.append([date, time, title])    \n",
    "print(tsla_news_data)"
   ]
  },
  {
   "cell_type": "code",
   "execution_count": 10,
   "metadata": {},
   "outputs": [
    {
     "name": "stdout",
     "output_type": "stream",
     "text": [
      "         date       time                                              title  \\\n",
      "0  2020-10-20  10:18PM    Dow Jones Futures: Stock Market Rally Hits Pel...   \n",
      "1  2020-10-20  08:30PM    GMC reveals the Hummer EV: 1,000 HP, 350 mile ...   \n",
      "2  2020-10-20  04:49PM       GM to launch all-electric hummer Tuesday night   \n",
      "3  2020-10-20  04:25PM    Tesla Inc. stock underperforms Tuesday when co...   \n",
      "4  2020-10-20  04:10PM    GM Is About To Reveal Its Answer To Tesla's Cy...   \n",
      "..        ...        ...                                                ...   \n",
      "95 2020-10-15  12:07PM    Dow Jones Dives 325 Points, As Jobless Claims ...   \n",
      "96 2020-10-15  11:56AM               Competition Increasing In The EV Space   \n",
      "97 2020-10-15  11:35AM    China-Made Tesla Model Y Could Reach 360K Unit...   \n",
      "98 2020-10-15  11:30AM    Renault Bolsters Electric-Car Lineup After Squ...   \n",
      "99 2020-10-15  10:29AM    Tesla, Amazon, Nvidia May Be 'Extravagantly Pr...   \n",
      "\n",
      "    compound  \n",
      "0     0.0000  \n",
      "1     0.0000  \n",
      "2     0.0000  \n",
      "3     0.0000  \n",
      "4     0.0000  \n",
      "..       ...  \n",
      "95   -0.4215  \n",
      "96    0.0000  \n",
      "97    0.0258  \n",
      "98    0.0000  \n",
      "99    0.1779  \n",
      "\n",
      "[100 rows x 4 columns]\n"
     ]
    }
   ],
   "source": [
    "#now compute sentiment scores\n",
    "df =pd.DataFrame(tsla_news_data,columns=['date','time','title'])\n",
    "#print(df)\n",
    "vader = SentimentIntensityAnalyzer()\n",
    "f = lambda title: vader.polarity_scores(title)['compound'] # only compute the 'compound' component \n",
    "df['compound'] = df['title'].apply(f)\n",
    "df['date'] =pd.to_datetime(df['date'])\n",
    "print(df)"
   ]
  },
  {
   "cell_type": "code",
   "execution_count": 11,
   "metadata": {},
   "outputs": [
    {
     "name": "stdout",
     "output_type": "stream",
     "text": [
      "            compound    close\n",
      "date                         \n",
      "2020-10-15  0.017340  447.680\n",
      "2020-10-16  0.089267  448.205\n",
      "2020-10-19  0.000026  438.240\n",
      "2020-10-20  0.043706  423.720\n"
     ]
    }
   ],
   "source": [
    "#merge with dataframe of tesla daily stock price\n",
    "tsla_df = df.merge(tsla_stock_df, how='inner', on='date')\n",
    "tsla_df=tsla_df[['date','compound','close']]\n",
    "tsla_df=tsla_df.groupby('date').agg({'compound':'mean','close':'mean'})\n",
    "print(tsla_df)"
   ]
  },
  {
   "cell_type": "markdown",
   "metadata": {},
   "source": [
    "## get news data using news api\n",
    "api = NewsApiClient(api_key='9ab1bcf601ca4f80b15327966b2c3229')\n",
    "tsla_articles = api.get_everything(q='tesla', sources = 'bbc news, metro, financial-times, business insider, yahoo finance, reuters, bloomberg,cnbc,fortune,cbc-news',\n",
    "                                   from_param='2020-09-01', to='2020-10-20',\n",
    "                                   language='en'\n",
    "                                   )"
   ]
  },
  {
   "cell_type": "code",
   "execution_count": 12,
   "metadata": {},
   "outputs": [
    {
     "name": "stdout",
     "output_type": "stream",
     "text": [
      "100\n"
     ]
    }
   ],
   "source": [
    "'''api = NewsApiClient(api_key='9ab1bcf601ca4f80b15327966b2c3229') \n",
    "tsla_articles = api.get_everything(everything?q='tesla', sources = 'bbc news,finviz, metro, financial-times, business insider, yahoo finance, reuters, bloomberg,cnbc,fortune,cbc-news', \n",
    "                                   from_param='2020-09-20', to='2020-10-20', \n",
    "                                   language='en' \n",
    "                                  )\n",
    "print(len(tsla_articles['articles']))'''\n",
    "api_key = '92ca98e398914d28a60d029d8bfc40af'\n",
    "url = 'https://newsapi.org/v2/everything?q=tesla'\n",
    "\n",
    "parameters = { \n",
    "             'q':'tesla',\n",
    "             'pagesize':100,\n",
    "              'apiKey':api_key,\n",
    "              'language':'en',\n",
    "              'from':'2020-09-20'\n",
    "              }\n",
    "tsla_articles = requests.get(url, params = parameters).json()\n",
    "print(len(tsla_articles['articles']))"
   ]
  },
  {
   "cell_type": "code",
   "execution_count": 13,
   "metadata": {},
   "outputs": [
    {
     "name": "stdout",
     "output_type": "stream",
     "text": [
      "          date                                              title\n",
      "0   2020-09-20  Tesla Driver Caught Going 100 MPH While Fast A...\n",
      "1   2020-09-21  Musk says 'Battery Day' unveil will not reach ...\n",
      "2   2020-09-21  How to Watch Tesla’s Battery Day Event—and Wha...\n",
      "3   2020-09-22  Musk sees no immediate boost from 'Battery Day...\n",
      "4   2020-09-22  Elon Musk: Tesla Battery Day tech won't be mas...\n",
      "..         ...                                                ...\n",
      "95  2020-10-20  Tesla analysts hope for Musk sign on 2020 deli...\n",
      "96  2020-10-20  Tesla analysts hope for Musk sign on 2020 deli...\n",
      "97  2020-10-20  Tesla analysts hope for Musk sign on 2020 deli...\n",
      "98  2020-10-21  GMC reveals the Hummer EV: 1,000 HP, 350 mile ...\n",
      "99  2020-10-21  Watch GM unveil the $80,000 GMC Hummer EV righ...\n",
      "\n",
      "[100 rows x 2 columns]\n"
     ]
    }
   ],
   "source": [
    "#extract news from the list tsla_articles['articles']\n",
    "dic_tsla={'title':[],'date':[]}\n",
    "for news in tsla_articles['articles']:\n",
    "    dic_tsla['title'].append(news['title'])\n",
    "    dic_tsla['date'].append(news['publishedAt'])\n",
    "tsla_news = pd.DataFrame(dic_tsla,columns=['date','title']).sort_values('date').reset_index()\n",
    "del tsla_news['index']\n",
    "\n",
    "tsla_news['date'] = pd.to_datetime(tsla_news['date'])\n",
    "tsla_news['date'] = [d.date() for d in tsla_news['date']]\n",
    "print(tsla_news)"
   ]
  },
  {
   "cell_type": "code",
   "execution_count": 14,
   "metadata": {},
   "outputs": [
    {
     "name": "stdout",
     "output_type": "stream",
     "text": [
      "date        datetime64[ns]\n",
      "title               object\n",
      "compound           float64\n",
      "dtype: object\n"
     ]
    }
   ],
   "source": [
    "#compute sentiment scores\n",
    "vader = SentimentIntensityAnalyzer()\n",
    "f = lambda title: vader.polarity_scores(title)['compound'] # only compute the 'compound' component \n",
    "tsla_news['compound'] = df['title'].apply(f)\n",
    "tsla_news['date'] = pd.to_datetime(tsla_news['date'])\n",
    "print(tsla_news.dtypes)"
   ]
  },
  {
   "cell_type": "code",
   "execution_count": 15,
   "metadata": {},
   "outputs": [
    {
     "name": "stdout",
     "output_type": "stream",
     "text": [
      "            compound    close\n",
      "date                         \n",
      "2020-09-21  0.000000  443.100\n",
      "2020-09-22  0.088592  427.000\n",
      "2020-09-23 -0.014875  389.270\n",
      "2020-09-24  0.131940  391.295\n",
      "2020-09-28 -0.273200  419.780\n",
      "2020-09-29  0.053850  422.950\n",
      "2020-09-30  0.000000  429.140\n",
      "2020-10-01 -0.059300  442.920\n",
      "2020-10-02  0.068000  425.200\n",
      "2020-10-05  0.084750  424.110\n",
      "2020-10-06  0.000000  418.255\n",
      "2020-10-07 -0.042667  425.360\n",
      "2020-10-08  0.019300  431.805\n",
      "2020-10-09 -0.063025  432.705\n",
      "2020-10-12  0.000000  443.310\n",
      "2020-10-13  0.416800  445.690\n",
      "2020-10-14 -0.074000  460.555\n",
      "2020-10-15  0.101150  447.680\n",
      "2020-10-16  0.134867  448.205\n",
      "2020-10-19  0.063640  438.240\n",
      "2020-10-20 -0.154267  423.720\n",
      "(21, 2)\n"
     ]
    }
   ],
   "source": [
    "#merge with dataframe of tesla daily stock price\n",
    "tsla_news_sentiment = tsla_news.merge(tsla_stock_df, how='inner', on='date')\n",
    "tsla_news_sentiment=tsla_news_sentiment[['date','compound','close']]\n",
    "tsla_news_sentiment=tsla_news_sentiment.groupby('date').agg({'compound':'mean','close':'mean'})\n",
    "print(tsla_news_sentiment)\n",
    "print(tsla_news_sentiment.shape)"
   ]
  },
  {
   "cell_type": "code",
   "execution_count": 16,
   "metadata": {},
   "outputs": [
    {
     "name": "stdout",
     "output_type": "stream",
     "text": [
      "            compound    close  price_change\n",
      "date                                       \n",
      "2020-09-21  0.000000  443.100             1\n",
      "2020-09-22  0.088592  427.000             0\n",
      "2020-09-23 -0.014875  389.270             0\n",
      "2020-09-24  0.131940  391.295             1\n",
      "2020-09-28 -0.273200  419.780             1\n",
      "2020-09-29  0.053850  422.950             1\n",
      "2020-09-30  0.000000  429.140             1\n",
      "2020-10-01 -0.059300  442.920             1\n",
      "2020-10-02  0.068000  425.200             0\n",
      "2020-10-05  0.084750  424.110             0\n",
      "2020-10-06  0.000000  418.255             0\n",
      "2020-10-07 -0.042667  425.360             1\n",
      "2020-10-08  0.019300  431.805             1\n",
      "2020-10-09 -0.063025  432.705             1\n",
      "2020-10-12  0.000000  443.310             1\n",
      "2020-10-13  0.416800  445.690             1\n",
      "2020-10-14 -0.074000  460.555             1\n",
      "2020-10-15  0.101150  447.680             0\n",
      "2020-10-16  0.134867  448.205             1\n",
      "2020-10-19  0.063640  438.240             0\n",
      "2020-10-20 -0.154267  423.720             0\n"
     ]
    }
   ],
   "source": [
    "#create a column called price_change, indicate increase or decrease of stock price\n",
    "tsla_news_sentiment['price_change']=0\n",
    "#tsla_news_sentiment['price_change']=tsla_news_sentiment['price_change'].fillna(0).astype(int)\n",
    "tsla_news_sentiment.iloc[0,2]=1 #since tsla stock increased from 2020-9-18 to 2020-9-21\n",
    "begin_price=443.100\n",
    "for index,price in enumerate(tsla_news_sentiment['close'][1:]):\n",
    "    if price> begin_price:\n",
    "        tsla_news_sentiment.iloc[index+1,2]=1\n",
    "    else:\n",
    "        tsla_news_sentiment.iloc[index+1,2]=0\n",
    "    begin_price = price\n",
    "print(tsla_news_sentiment)    \n",
    "    "
   ]
  },
  {
   "cell_type": "code",
   "execution_count": 18,
   "metadata": {},
   "outputs": [],
   "source": [
    "#feature data set\n",
    "X = tsla_news_sentiment\n",
    "X = np.array(X.drop(['price_change'],1))\n",
    "#target data\n",
    "Y = np.array(tsla_news_sentiment['price_change'])"
   ]
  },
  {
   "cell_type": "code",
   "execution_count": 19,
   "metadata": {},
   "outputs": [],
   "source": [
    "#split to 80% for training and 20% for testing\n",
    "x_train, x_test, y_train, y_test = train_test_split(X, Y, test_size=0.2,random_state=0)"
   ]
  },
  {
   "cell_type": "code",
   "execution_count": 20,
   "metadata": {},
   "outputs": [],
   "source": [
    "#train the model\n",
    "model = LinearDiscriminantAnalysis().fit(x_train, y_train)"
   ]
  },
  {
   "cell_type": "code",
   "execution_count": 21,
   "metadata": {},
   "outputs": [
    {
     "data": {
      "text/plain": [
       "array([1, 1, 1, 1, 1], dtype=int64)"
      ]
     },
     "execution_count": 21,
     "metadata": {},
     "output_type": "execute_result"
    }
   ],
   "source": [
    "#do prediction\n",
    "prediction = model.predict(x_test)\n",
    "prediction"
   ]
  },
  {
   "cell_type": "code",
   "execution_count": 22,
   "metadata": {},
   "outputs": [
    {
     "data": {
      "text/plain": [
       "array([0, 1, 0, 0, 1], dtype=int64)"
      ]
     },
     "execution_count": 22,
     "metadata": {},
     "output_type": "execute_result"
    }
   ],
   "source": [
    "y_test"
   ]
  },
  {
   "cell_type": "code",
   "execution_count": 23,
   "metadata": {},
   "outputs": [
    {
     "name": "stdout",
     "output_type": "stream",
     "text": [
      "              precision    recall  f1-score   support\n",
      "\n",
      "           0       0.00      0.00      0.00         3\n",
      "           1       0.40      1.00      0.57         2\n",
      "\n",
      "    accuracy                           0.40         5\n",
      "   macro avg       0.20      0.50      0.29         5\n",
      "weighted avg       0.16      0.40      0.23         5\n",
      "\n"
     ]
    },
    {
     "name": "stderr",
     "output_type": "stream",
     "text": [
      "C:\\Users\\zcj10\\Anaconda3\\lib\\site-packages\\sklearn\\metrics\\classification.py:1437: UndefinedMetricWarning: Precision and F-score are ill-defined and being set to 0.0 in labels with no predicted samples.\n",
      "  'precision', 'predicted', average, warn_for)\n"
     ]
    }
   ],
   "source": [
    "#show model performance\n",
    "print(classification_report(y_test,prediction)) #performance is bad because the training size is simply too small"
   ]
  },
  {
   "cell_type": "code",
   "execution_count": null,
   "metadata": {},
   "outputs": [],
   "source": []
  }
 ],
 "metadata": {
  "kernelspec": {
   "display_name": "Python 3",
   "language": "python",
   "name": "python3"
  },
  "language_info": {
   "codemirror_mode": {
    "name": "ipython",
    "version": 3
   },
   "file_extension": ".py",
   "mimetype": "text/x-python",
   "name": "python",
   "nbconvert_exporter": "python",
   "pygments_lexer": "ipython3",
   "version": "3.7.4"
  }
 },
 "nbformat": 4,
 "nbformat_minor": 2
}
